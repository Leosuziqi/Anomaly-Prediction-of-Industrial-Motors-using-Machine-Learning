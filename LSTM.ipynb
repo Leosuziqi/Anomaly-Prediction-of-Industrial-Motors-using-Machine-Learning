{
  "cells": [
    {
      "cell_type": "markdown",
      "id": "ee21f1d7",
      "metadata": {
        "id": "ee21f1d7"
      },
      "source": [
        "# Import Library"
      ]
    },
    {
      "cell_type": "code",
      "execution_count": null,
      "id": "26452408",
      "metadata": {
        "id": "26452408"
      },
      "outputs": [],
      "source": [
        "import matplotlib as mpl\n",
        "import matplotlib.pyplot as plt\n",
        "import numpy as np\n",
        "import os \n",
        "from datetime import datetime \n",
        "import pandas as pd\n",
        "import plotly.express as px\n",
        "import warnings\n",
        "warnings.filterwarnings('ignore')\n",
        "from prophet import Prophet\n",
        "from prophet.plot import plot_plotly, plot_components_plotly\n",
        "from sklearn.ensemble import IsolationForest"
      ]
    },
    {
      "cell_type": "code",
      "source": [
        "from google.colab import drive\n",
        "drive.mount('/content/drive')"
      ],
      "metadata": {
        "colab": {
          "base_uri": "https://localhost:8080/"
        },
        "id": "b_SbvzCQjgfs",
        "outputId": "58dc0cbd-f7f6-4e32-b59b-05c427324122"
      },
      "id": "b_SbvzCQjgfs",
      "execution_count": null,
      "outputs": [
        {
          "output_type": "stream",
          "name": "stdout",
          "text": [
            "Mounted at /content/drive\n"
          ]
        }
      ]
    },
    {
      "cell_type": "code",
      "execution_count": null,
      "id": "4a1342a2",
      "metadata": {
        "id": "4a1342a2",
        "outputId": "7eabd17e-d027-40c0-9f4d-e6af3bf1d994",
        "colab": {
          "base_uri": "https://localhost:8080/",
          "height": 424
        }
      },
      "outputs": [
        {
          "output_type": "execute_result",
          "data": {
            "text/plain": [
              "       floatvalue        t_stamp\n",
              "0       17.992546  1675209793867\n",
              "1       18.385374  1675209813868\n",
              "2       18.549816  1675209833869\n",
              "3       18.448912  1675209853870\n",
              "4       18.515699  1675209873872\n",
              "...           ...            ...\n",
              "60483   19.219530  1677628600856\n",
              "60484   19.165195  1677628640859\n",
              "60485   19.222761  1677628660861\n",
              "60486   19.225843  1677628680863\n",
              "60487   19.273302  1677628700864\n",
              "\n",
              "[60488 rows x 2 columns]"
            ],
            "text/html": [
              "\n",
              "  <div id=\"df-775a3c4a-c794-4b68-8023-b3a62b91cf3b\">\n",
              "    <div class=\"colab-df-container\">\n",
              "      <div>\n",
              "<style scoped>\n",
              "    .dataframe tbody tr th:only-of-type {\n",
              "        vertical-align: middle;\n",
              "    }\n",
              "\n",
              "    .dataframe tbody tr th {\n",
              "        vertical-align: top;\n",
              "    }\n",
              "\n",
              "    .dataframe thead th {\n",
              "        text-align: right;\n",
              "    }\n",
              "</style>\n",
              "<table border=\"1\" class=\"dataframe\">\n",
              "  <thead>\n",
              "    <tr style=\"text-align: right;\">\n",
              "      <th></th>\n",
              "      <th>floatvalue</th>\n",
              "      <th>t_stamp</th>\n",
              "    </tr>\n",
              "  </thead>\n",
              "  <tbody>\n",
              "    <tr>\n",
              "      <th>0</th>\n",
              "      <td>17.992546</td>\n",
              "      <td>1675209793867</td>\n",
              "    </tr>\n",
              "    <tr>\n",
              "      <th>1</th>\n",
              "      <td>18.385374</td>\n",
              "      <td>1675209813868</td>\n",
              "    </tr>\n",
              "    <tr>\n",
              "      <th>2</th>\n",
              "      <td>18.549816</td>\n",
              "      <td>1675209833869</td>\n",
              "    </tr>\n",
              "    <tr>\n",
              "      <th>3</th>\n",
              "      <td>18.448912</td>\n",
              "      <td>1675209853870</td>\n",
              "    </tr>\n",
              "    <tr>\n",
              "      <th>4</th>\n",
              "      <td>18.515699</td>\n",
              "      <td>1675209873872</td>\n",
              "    </tr>\n",
              "    <tr>\n",
              "      <th>...</th>\n",
              "      <td>...</td>\n",
              "      <td>...</td>\n",
              "    </tr>\n",
              "    <tr>\n",
              "      <th>60483</th>\n",
              "      <td>19.219530</td>\n",
              "      <td>1677628600856</td>\n",
              "    </tr>\n",
              "    <tr>\n",
              "      <th>60484</th>\n",
              "      <td>19.165195</td>\n",
              "      <td>1677628640859</td>\n",
              "    </tr>\n",
              "    <tr>\n",
              "      <th>60485</th>\n",
              "      <td>19.222761</td>\n",
              "      <td>1677628660861</td>\n",
              "    </tr>\n",
              "    <tr>\n",
              "      <th>60486</th>\n",
              "      <td>19.225843</td>\n",
              "      <td>1677628680863</td>\n",
              "    </tr>\n",
              "    <tr>\n",
              "      <th>60487</th>\n",
              "      <td>19.273302</td>\n",
              "      <td>1677628700864</td>\n",
              "    </tr>\n",
              "  </tbody>\n",
              "</table>\n",
              "<p>60488 rows × 2 columns</p>\n",
              "</div>\n",
              "      <button class=\"colab-df-convert\" onclick=\"convertToInteractive('df-775a3c4a-c794-4b68-8023-b3a62b91cf3b')\"\n",
              "              title=\"Convert this dataframe to an interactive table.\"\n",
              "              style=\"display:none;\">\n",
              "        \n",
              "  <svg xmlns=\"http://www.w3.org/2000/svg\" height=\"24px\"viewBox=\"0 0 24 24\"\n",
              "       width=\"24px\">\n",
              "    <path d=\"M0 0h24v24H0V0z\" fill=\"none\"/>\n",
              "    <path d=\"M18.56 5.44l.94 2.06.94-2.06 2.06-.94-2.06-.94-.94-2.06-.94 2.06-2.06.94zm-11 1L8.5 8.5l.94-2.06 2.06-.94-2.06-.94L8.5 2.5l-.94 2.06-2.06.94zm10 10l.94 2.06.94-2.06 2.06-.94-2.06-.94-.94-2.06-.94 2.06-2.06.94z\"/><path d=\"M17.41 7.96l-1.37-1.37c-.4-.4-.92-.59-1.43-.59-.52 0-1.04.2-1.43.59L10.3 9.45l-7.72 7.72c-.78.78-.78 2.05 0 2.83L4 21.41c.39.39.9.59 1.41.59.51 0 1.02-.2 1.41-.59l7.78-7.78 2.81-2.81c.8-.78.8-2.07 0-2.86zM5.41 20L4 18.59l7.72-7.72 1.47 1.35L5.41 20z\"/>\n",
              "  </svg>\n",
              "      </button>\n",
              "      \n",
              "  <style>\n",
              "    .colab-df-container {\n",
              "      display:flex;\n",
              "      flex-wrap:wrap;\n",
              "      gap: 12px;\n",
              "    }\n",
              "\n",
              "    .colab-df-convert {\n",
              "      background-color: #E8F0FE;\n",
              "      border: none;\n",
              "      border-radius: 50%;\n",
              "      cursor: pointer;\n",
              "      display: none;\n",
              "      fill: #1967D2;\n",
              "      height: 32px;\n",
              "      padding: 0 0 0 0;\n",
              "      width: 32px;\n",
              "    }\n",
              "\n",
              "    .colab-df-convert:hover {\n",
              "      background-color: #E2EBFA;\n",
              "      box-shadow: 0px 1px 2px rgba(60, 64, 67, 0.3), 0px 1px 3px 1px rgba(60, 64, 67, 0.15);\n",
              "      fill: #174EA6;\n",
              "    }\n",
              "\n",
              "    [theme=dark] .colab-df-convert {\n",
              "      background-color: #3B4455;\n",
              "      fill: #D2E3FC;\n",
              "    }\n",
              "\n",
              "    [theme=dark] .colab-df-convert:hover {\n",
              "      background-color: #434B5C;\n",
              "      box-shadow: 0px 1px 3px 1px rgba(0, 0, 0, 0.15);\n",
              "      filter: drop-shadow(0px 1px 2px rgba(0, 0, 0, 0.3));\n",
              "      fill: #FFFFFF;\n",
              "    }\n",
              "  </style>\n",
              "\n",
              "      <script>\n",
              "        const buttonEl =\n",
              "          document.querySelector('#df-775a3c4a-c794-4b68-8023-b3a62b91cf3b button.colab-df-convert');\n",
              "        buttonEl.style.display =\n",
              "          google.colab.kernel.accessAllowed ? 'block' : 'none';\n",
              "\n",
              "        async function convertToInteractive(key) {\n",
              "          const element = document.querySelector('#df-775a3c4a-c794-4b68-8023-b3a62b91cf3b');\n",
              "          const dataTable =\n",
              "            await google.colab.kernel.invokeFunction('convertToInteractive',\n",
              "                                                     [key], {});\n",
              "          if (!dataTable) return;\n",
              "\n",
              "          const docLinkHtml = 'Like what you see? Visit the ' +\n",
              "            '<a target=\"_blank\" href=https://colab.research.google.com/notebooks/data_table.ipynb>data table notebook</a>'\n",
              "            + ' to learn more about interactive tables.';\n",
              "          element.innerHTML = '';\n",
              "          dataTable['output_type'] = 'display_data';\n",
              "          await google.colab.output.renderOutput(dataTable, element);\n",
              "          const docLink = document.createElement('div');\n",
              "          docLink.innerHTML = docLinkHtml;\n",
              "          element.appendChild(docLink);\n",
              "        }\n",
              "      </script>\n",
              "    </div>\n",
              "  </div>\n",
              "  "
            ]
          },
          "metadata": {},
          "execution_count": 3
        }
      ],
      "source": [
        "import os\n",
        "df=pd. read_csv('/content/drive/My Drive/Colab Notebooks/FPS/81250_202302_BeltCurrent.csv', engine='python', encoding='utf-8', error_bad_lines=False)\n",
        "df"
      ]
    },
    {
      "cell_type": "code",
      "execution_count": null,
      "id": "df289a72",
      "metadata": {
        "id": "df289a72",
        "outputId": "0062e206-ef05-4985-fe9a-04bc07d2d712",
        "colab": {
          "base_uri": "https://localhost:8080/",
          "height": 424
        }
      },
      "outputs": [
        {
          "output_type": "execute_result",
          "data": {
            "text/plain": [
              "       floatvalue                 t_stamp\n",
              "0       17.992546 2023-02-01 00:03:13.867\n",
              "1       18.385374 2023-02-01 00:03:33.868\n",
              "2       18.549816 2023-02-01 00:03:53.869\n",
              "3       18.448912 2023-02-01 00:04:13.870\n",
              "4       18.515699 2023-02-01 00:04:33.872\n",
              "...           ...                     ...\n",
              "60483   19.219530 2023-02-28 23:56:40.856\n",
              "60484   19.165195 2023-02-28 23:57:20.859\n",
              "60485   19.222761 2023-02-28 23:57:40.861\n",
              "60486   19.225843 2023-02-28 23:58:00.863\n",
              "60487   19.273302 2023-02-28 23:58:20.864\n",
              "\n",
              "[60488 rows x 2 columns]"
            ],
            "text/html": [
              "\n",
              "  <div id=\"df-2edc313c-1213-406c-9706-5b595a3576ec\">\n",
              "    <div class=\"colab-df-container\">\n",
              "      <div>\n",
              "<style scoped>\n",
              "    .dataframe tbody tr th:only-of-type {\n",
              "        vertical-align: middle;\n",
              "    }\n",
              "\n",
              "    .dataframe tbody tr th {\n",
              "        vertical-align: top;\n",
              "    }\n",
              "\n",
              "    .dataframe thead th {\n",
              "        text-align: right;\n",
              "    }\n",
              "</style>\n",
              "<table border=\"1\" class=\"dataframe\">\n",
              "  <thead>\n",
              "    <tr style=\"text-align: right;\">\n",
              "      <th></th>\n",
              "      <th>floatvalue</th>\n",
              "      <th>t_stamp</th>\n",
              "    </tr>\n",
              "  </thead>\n",
              "  <tbody>\n",
              "    <tr>\n",
              "      <th>0</th>\n",
              "      <td>17.992546</td>\n",
              "      <td>2023-02-01 00:03:13.867</td>\n",
              "    </tr>\n",
              "    <tr>\n",
              "      <th>1</th>\n",
              "      <td>18.385374</td>\n",
              "      <td>2023-02-01 00:03:33.868</td>\n",
              "    </tr>\n",
              "    <tr>\n",
              "      <th>2</th>\n",
              "      <td>18.549816</td>\n",
              "      <td>2023-02-01 00:03:53.869</td>\n",
              "    </tr>\n",
              "    <tr>\n",
              "      <th>3</th>\n",
              "      <td>18.448912</td>\n",
              "      <td>2023-02-01 00:04:13.870</td>\n",
              "    </tr>\n",
              "    <tr>\n",
              "      <th>4</th>\n",
              "      <td>18.515699</td>\n",
              "      <td>2023-02-01 00:04:33.872</td>\n",
              "    </tr>\n",
              "    <tr>\n",
              "      <th>...</th>\n",
              "      <td>...</td>\n",
              "      <td>...</td>\n",
              "    </tr>\n",
              "    <tr>\n",
              "      <th>60483</th>\n",
              "      <td>19.219530</td>\n",
              "      <td>2023-02-28 23:56:40.856</td>\n",
              "    </tr>\n",
              "    <tr>\n",
              "      <th>60484</th>\n",
              "      <td>19.165195</td>\n",
              "      <td>2023-02-28 23:57:20.859</td>\n",
              "    </tr>\n",
              "    <tr>\n",
              "      <th>60485</th>\n",
              "      <td>19.222761</td>\n",
              "      <td>2023-02-28 23:57:40.861</td>\n",
              "    </tr>\n",
              "    <tr>\n",
              "      <th>60486</th>\n",
              "      <td>19.225843</td>\n",
              "      <td>2023-02-28 23:58:00.863</td>\n",
              "    </tr>\n",
              "    <tr>\n",
              "      <th>60487</th>\n",
              "      <td>19.273302</td>\n",
              "      <td>2023-02-28 23:58:20.864</td>\n",
              "    </tr>\n",
              "  </tbody>\n",
              "</table>\n",
              "<p>60488 rows × 2 columns</p>\n",
              "</div>\n",
              "      <button class=\"colab-df-convert\" onclick=\"convertToInteractive('df-2edc313c-1213-406c-9706-5b595a3576ec')\"\n",
              "              title=\"Convert this dataframe to an interactive table.\"\n",
              "              style=\"display:none;\">\n",
              "        \n",
              "  <svg xmlns=\"http://www.w3.org/2000/svg\" height=\"24px\"viewBox=\"0 0 24 24\"\n",
              "       width=\"24px\">\n",
              "    <path d=\"M0 0h24v24H0V0z\" fill=\"none\"/>\n",
              "    <path d=\"M18.56 5.44l.94 2.06.94-2.06 2.06-.94-2.06-.94-.94-2.06-.94 2.06-2.06.94zm-11 1L8.5 8.5l.94-2.06 2.06-.94-2.06-.94L8.5 2.5l-.94 2.06-2.06.94zm10 10l.94 2.06.94-2.06 2.06-.94-2.06-.94-.94-2.06-.94 2.06-2.06.94z\"/><path d=\"M17.41 7.96l-1.37-1.37c-.4-.4-.92-.59-1.43-.59-.52 0-1.04.2-1.43.59L10.3 9.45l-7.72 7.72c-.78.78-.78 2.05 0 2.83L4 21.41c.39.39.9.59 1.41.59.51 0 1.02-.2 1.41-.59l7.78-7.78 2.81-2.81c.8-.78.8-2.07 0-2.86zM5.41 20L4 18.59l7.72-7.72 1.47 1.35L5.41 20z\"/>\n",
              "  </svg>\n",
              "      </button>\n",
              "      \n",
              "  <style>\n",
              "    .colab-df-container {\n",
              "      display:flex;\n",
              "      flex-wrap:wrap;\n",
              "      gap: 12px;\n",
              "    }\n",
              "\n",
              "    .colab-df-convert {\n",
              "      background-color: #E8F0FE;\n",
              "      border: none;\n",
              "      border-radius: 50%;\n",
              "      cursor: pointer;\n",
              "      display: none;\n",
              "      fill: #1967D2;\n",
              "      height: 32px;\n",
              "      padding: 0 0 0 0;\n",
              "      width: 32px;\n",
              "    }\n",
              "\n",
              "    .colab-df-convert:hover {\n",
              "      background-color: #E2EBFA;\n",
              "      box-shadow: 0px 1px 2px rgba(60, 64, 67, 0.3), 0px 1px 3px 1px rgba(60, 64, 67, 0.15);\n",
              "      fill: #174EA6;\n",
              "    }\n",
              "\n",
              "    [theme=dark] .colab-df-convert {\n",
              "      background-color: #3B4455;\n",
              "      fill: #D2E3FC;\n",
              "    }\n",
              "\n",
              "    [theme=dark] .colab-df-convert:hover {\n",
              "      background-color: #434B5C;\n",
              "      box-shadow: 0px 1px 3px 1px rgba(0, 0, 0, 0.15);\n",
              "      filter: drop-shadow(0px 1px 2px rgba(0, 0, 0, 0.3));\n",
              "      fill: #FFFFFF;\n",
              "    }\n",
              "  </style>\n",
              "\n",
              "      <script>\n",
              "        const buttonEl =\n",
              "          document.querySelector('#df-2edc313c-1213-406c-9706-5b595a3576ec button.colab-df-convert');\n",
              "        buttonEl.style.display =\n",
              "          google.colab.kernel.accessAllowed ? 'block' : 'none';\n",
              "\n",
              "        async function convertToInteractive(key) {\n",
              "          const element = document.querySelector('#df-2edc313c-1213-406c-9706-5b595a3576ec');\n",
              "          const dataTable =\n",
              "            await google.colab.kernel.invokeFunction('convertToInteractive',\n",
              "                                                     [key], {});\n",
              "          if (!dataTable) return;\n",
              "\n",
              "          const docLinkHtml = 'Like what you see? Visit the ' +\n",
              "            '<a target=\"_blank\" href=https://colab.research.google.com/notebooks/data_table.ipynb>data table notebook</a>'\n",
              "            + ' to learn more about interactive tables.';\n",
              "          element.innerHTML = '';\n",
              "          dataTable['output_type'] = 'display_data';\n",
              "          await google.colab.output.renderOutput(dataTable, element);\n",
              "          const docLink = document.createElement('div');\n",
              "          docLink.innerHTML = docLinkHtml;\n",
              "          element.appendChild(docLink);\n",
              "        }\n",
              "      </script>\n",
              "    </div>\n",
              "  </div>\n",
              "  "
            ]
          },
          "metadata": {},
          "execution_count": 4
        }
      ],
      "source": [
        "df.index.freq=\"MS\"\n",
        "df['t_stamp']= pd.to_datetime(df['t_stamp'], unit='ms') ##, unit='ms'\n",
        "#df=df.iloc[3535:9200]\n",
        "df"
      ]
    },
    {
      "cell_type": "code",
      "execution_count": null,
      "id": "3c61d02c",
      "metadata": {
        "id": "3c61d02c"
      },
      "outputs": [],
      "source": [
        "csv_data = df.to_csv('81250MLPredict_March15_V4.csv',sep= ',')"
      ]
    },
    {
      "cell_type": "code",
      "execution_count": null,
      "id": "5621c238",
      "metadata": {
        "id": "5621c238",
        "outputId": "0e03533a-a55a-4f9b-d834-ef9ac84774a2",
        "colab": {
          "base_uri": "https://localhost:8080/",
          "height": 539
        }
      },
      "outputs": [
        {
          "output_type": "execute_result",
          "data": {
            "text/plain": [
              "<Axes: >"
            ]
          },
          "metadata": {},
          "execution_count": 6
        },
        {
          "output_type": "display_data",
          "data": {
            "text/plain": [
              "<Figure size 2000x600 with 1 Axes>"
            ],
            "image/png": "[encoded data removed]"
          },
          "metadata": {}
        }
      ],
      "source": [
        "df['floatvalue'].plot(figsize=(20,6))"
      ]
    },
    {
      "cell_type": "code",
      "execution_count": null,
      "id": "ac04802c",
      "metadata": {
        "id": "ac04802c",
        "outputId": "2c3fee93-442c-45c9-e7f4-a018cd75ef47",
        "colab": {
          "base_uri": "https://localhost:8080/"
        }
      },
      "outputs": [
        {
          "output_type": "stream",
          "name": "stdout",
          "text": [
            "Count of zeros in Column floatvalue :  0\n"
          ]
        }
      ],
      "source": [
        "count = (df['floatvalue'] == 0).sum()\n",
        "print('Count of zeros in Column floatvalue : ', count)"
      ]
    },
    {
      "cell_type": "code",
      "execution_count": null,
      "id": "0eeeb6c4",
      "metadata": {
        "id": "0eeeb6c4",
        "outputId": "715b0ff0-6073-4e37-fb33-c011fab6e637",
        "colab": {
          "base_uri": "https://localhost:8080/"
        }
      },
      "outputs": [
        {
          "output_type": "stream",
          "name": "stdout",
          "text": [
            "<class 'pandas.core.frame.DataFrame'>\n",
            "RangeIndex: 60488 entries, 0 to 60487\n",
            "Data columns (total 2 columns):\n",
            " #   Column      Non-Null Count  Dtype         \n",
            "---  ------      --------------  -----         \n",
            " 0   floatvalue  60488 non-null  float64       \n",
            " 1   t_stamp     60488 non-null  datetime64[ns]\n",
            "dtypes: datetime64[ns](1), float64(1)\n",
            "memory usage: 945.2 KB\n"
          ]
        }
      ],
      "source": [
        "df.info()"
      ]
    },
    {
      "cell_type": "code",
      "source": [
        "my_df=df.set_index('t_stamp').resample(\"H\").mean()\n",
        "my_df.fillna(method='ffill', inplace=True)\n",
        "my_df.plot()"
      ],
      "metadata": {
        "colab": {
          "base_uri": "https://localhost:8080/",
          "height": 499
        },
        "id": "l6ziZuF9ceyJ",
        "outputId": "15ebd9f8-b9f2-4413-85b5-779664c8d49c"
      },
      "id": "l6ziZuF9ceyJ",
      "execution_count": null,
      "outputs": [
        {
          "output_type": "execute_result",
          "data": {
            "text/plain": [
              "<Axes: xlabel='t_stamp'>"
            ]
          },
          "metadata": {},
          "execution_count": 9
        },
        {
          "output_type": "display_data",
          "data": {
            "text/plain": [
              "<Figure size 640x480 with 1 Axes>"
            ],
            "image/png": "[encoded data removed]"
          },
          "metadata": {}
        }
      ]
    },
    {
      "cell_type": "code",
      "source": [
        "my_final_df= my_df.reset_index()[['t_stamp','floatvalue']].rename({'t_stamp':'ds','floatvalue':'floatvalue'},axis='columns')\n",
        "my_final_df"
      ],
      "metadata": {
        "colab": {
          "base_uri": "https://localhost:8080/",
          "height": 424
        },
        "id": "LQY0KgECce0j",
        "outputId": "f313fcb7-1c05-43b7-d5d6-65390399c70e"
      },
      "id": "LQY0KgECce0j",
      "execution_count": null,
      "outputs": [
        {
          "output_type": "execute_result",
          "data": {
            "text/plain": [
              "                     ds  floatvalue\n",
              "0   2023-02-01 00:00:00   18.356562\n",
              "1   2023-02-01 01:00:00   18.710471\n",
              "2   2023-02-01 02:00:00   18.498388\n",
              "3   2023-02-01 03:00:00   18.938417\n",
              "4   2023-02-01 04:00:00   18.105812\n",
              "..                  ...         ...\n",
              "667 2023-02-28 19:00:00   19.436618\n",
              "668 2023-02-28 20:00:00   19.771868\n",
              "669 2023-02-28 21:00:00   19.172429\n",
              "670 2023-02-28 22:00:00   17.864043\n",
              "671 2023-02-28 23:00:00   19.010759\n",
              "\n",
              "[672 rows x 2 columns]"
            ],
            "text/html": [
              "\n",
              "  <div id=\"df-ef8b511e-2eb1-44d9-9f14-8408b7cf37f4\">\n",
              "    <div class=\"colab-df-container\">\n",
              "      <div>\n",
              "<style scoped>\n",
              "    .dataframe tbody tr th:only-of-type {\n",
              "        vertical-align: middle;\n",
              "    }\n",
              "\n",
              "    .dataframe tbody tr th {\n",
              "        vertical-align: top;\n",
              "    }\n",
              "\n",
              "    .dataframe thead th {\n",
              "        text-align: right;\n",
              "    }\n",
              "</style>\n",
              "<table border=\"1\" class=\"dataframe\">\n",
              "  <thead>\n",
              "    <tr style=\"text-align: right;\">\n",
              "      <th></th>\n",
              "      <th>ds</th>\n",
              "      <th>floatvalue</th>\n",
              "    </tr>\n",
              "  </thead>\n",
              "  <tbody>\n",
              "    <tr>\n",
              "      <th>0</th>\n",
              "      <td>2023-02-01 00:00:00</td>\n",
              "      <td>18.356562</td>\n",
              "    </tr>\n",
              "    <tr>\n",
              "      <th>1</th>\n",
              "      <td>2023-02-01 01:00:00</td>\n",
              "      <td>18.710471</td>\n",
              "    </tr>\n",
              "    <tr>\n",
              "      <th>2</th>\n",
              "      <td>2023-02-01 02:00:00</td>\n",
              "      <td>18.498388</td>\n",
              "    </tr>\n",
              "    <tr>\n",
              "      <th>3</th>\n",
              "      <td>2023-02-01 03:00:00</td>\n",
              "      <td>18.938417</td>\n",
              "    </tr>\n",
              "    <tr>\n",
              "      <th>4</th>\n",
              "      <td>2023-02-01 04:00:00</td>\n",
              "      <td>18.105812</td>\n",
              "    </tr>\n",
              "    <tr>\n",
              "      <th>...</th>\n",
              "      <td>...</td>\n",
              "      <td>...</td>\n",
              "    </tr>\n",
              "    <tr>\n",
              "      <th>667</th>\n",
              "      <td>2023-02-28 19:00:00</td>\n",
              "      <td>19.436618</td>\n",
              "    </tr>\n",
              "    <tr>\n",
              "      <th>668</th>\n",
              "      <td>2023-02-28 20:00:00</td>\n",
              "      <td>19.771868</td>\n",
              "    </tr>\n",
              "    <tr>\n",
              "      <th>669</th>\n",
              "      <td>2023-02-28 21:00:00</td>\n",
              "      <td>19.172429</td>\n",
              "    </tr>\n",
              "    <tr>\n",
              "      <th>670</th>\n",
              "      <td>2023-02-28 22:00:00</td>\n",
              "      <td>17.864043</td>\n",
              "    </tr>\n",
              "    <tr>\n",
              "      <th>671</th>\n",
              "      <td>2023-02-28 23:00:00</td>\n",
              "      <td>19.010759</td>\n",
              "    </tr>\n",
              "  </tbody>\n",
              "</table>\n",
              "<p>672 rows × 2 columns</p>\n",
              "</div>\n",
              "      <button class=\"colab-df-convert\" onclick=\"convertToInteractive('df-ef8b511e-2eb1-44d9-9f14-8408b7cf37f4')\"\n",
              "              title=\"Convert this dataframe to an interactive table.\"\n",
              "              style=\"display:none;\">\n",
              "        \n",
              "  <svg xmlns=\"http://www.w3.org/2000/svg\" height=\"24px\"viewBox=\"0 0 24 24\"\n",
              "       width=\"24px\">\n",
              "    <path d=\"M0 0h24v24H0V0z\" fill=\"none\"/>\n",
              "    <path d=\"M18.56 5.44l.94 2.06.94-2.06 2.06-.94-2.06-.94-.94-2.06-.94 2.06-2.06.94zm-11 1L8.5 8.5l.94-2.06 2.06-.94-2.06-.94L8.5 2.5l-.94 2.06-2.06.94zm10 10l.94 2.06.94-2.06 2.06-.94-2.06-.94-.94-2.06-.94 2.06-2.06.94z\"/><path d=\"M17.41 7.96l-1.37-1.37c-.4-.4-.92-.59-1.43-.59-.52 0-1.04.2-1.43.59L10.3 9.45l-7.72 7.72c-.78.78-.78 2.05 0 2.83L4 21.41c.39.39.9.59 1.41.59.51 0 1.02-.2 1.41-.59l7.78-7.78 2.81-2.81c.8-.78.8-2.07 0-2.86zM5.41 20L4 18.59l7.72-7.72 1.47 1.35L5.41 20z\"/>\n",
              "  </svg>\n",
              "      </button>\n",
              "      \n",
              "  <style>\n",
              "    .colab-df-container {\n",
              "      display:flex;\n",
              "      flex-wrap:wrap;\n",
              "      gap: 12px;\n",
              "    }\n",
              "\n",
              "    .colab-df-convert {\n",
              "      background-color: #E8F0FE;\n",
              "      border: none;\n",
              "      border-radius: 50%;\n",
              "      cursor: pointer;\n",
              "      display: none;\n",
              "      fill: #1967D2;\n",
              "      height: 32px;\n",
              "      padding: 0 0 0 0;\n",
              "      width: 32px;\n",
              "    }\n",
              "\n",
              "    .colab-df-convert:hover {\n",
              "      background-color: #E2EBFA;\n",
              "      box-shadow: 0px 1px 2px rgba(60, 64, 67, 0.3), 0px 1px 3px 1px rgba(60, 64, 67, 0.15);\n",
              "      fill: #174EA6;\n",
              "    }\n",
              "\n",
              "    [theme=dark] .colab-df-convert {\n",
              "      background-color: #3B4455;\n",
              "      fill: #D2E3FC;\n",
              "    }\n",
              "\n",
              "    [theme=dark] .colab-df-convert:hover {\n",
              "      background-color: #434B5C;\n",
              "      box-shadow: 0px 1px 3px 1px rgba(0, 0, 0, 0.15);\n",
              "      filter: drop-shadow(0px 1px 2px rgba(0, 0, 0, 0.3));\n",
              "      fill: #FFFFFF;\n",
              "    }\n",
              "  </style>\n",
              "\n",
              "      <script>\n",
              "        const buttonEl =\n",
              "          document.querySelector('#df-ef8b511e-2eb1-44d9-9f14-8408b7cf37f4 button.colab-df-convert');\n",
              "        buttonEl.style.display =\n",
              "          google.colab.kernel.accessAllowed ? 'block' : 'none';\n",
              "\n",
              "        async function convertToInteractive(key) {\n",
              "          const element = document.querySelector('#df-ef8b511e-2eb1-44d9-9f14-8408b7cf37f4');\n",
              "          const dataTable =\n",
              "            await google.colab.kernel.invokeFunction('convertToInteractive',\n",
              "                                                     [key], {});\n",
              "          if (!dataTable) return;\n",
              "\n",
              "          const docLinkHtml = 'Like what you see? Visit the ' +\n",
              "            '<a target=\"_blank\" href=https://colab.research.google.com/notebooks/data_table.ipynb>data table notebook</a>'\n",
              "            + ' to learn more about interactive tables.';\n",
              "          element.innerHTML = '';\n",
              "          dataTable['output_type'] = 'display_data';\n",
              "          await google.colab.output.renderOutput(dataTable, element);\n",
              "          const docLink = document.createElement('div');\n",
              "          docLink.innerHTML = docLinkHtml;\n",
              "          element.appendChild(docLink);\n",
              "        }\n",
              "      </script>\n",
              "    </div>\n",
              "  </div>\n",
              "  "
            ]
          },
          "metadata": {},
          "execution_count": 10
        }
      ]
    },
    {
      "cell_type": "code",
      "source": [
        "train_data=my_final_df[['floatvalue']]\n",
        "train_data"
      ],
      "metadata": {
        "colab": {
          "base_uri": "https://localhost:8080/",
          "height": 424
        },
        "id": "Il5rQUmrce2r",
        "outputId": "c1089212-69f0-4703-f1b4-98cf2fbcaa39"
      },
      "id": "Il5rQUmrce2r",
      "execution_count": null,
      "outputs": [
        {
          "output_type": "execute_result",
          "data": {
            "text/plain": [
              "     floatvalue\n",
              "0     18.356562\n",
              "1     18.710471\n",
              "2     18.498388\n",
              "3     18.938417\n",
              "4     18.105812\n",
              "..          ...\n",
              "667   19.436618\n",
              "668   19.771868\n",
              "669   19.172429\n",
              "670   17.864043\n",
              "671   19.010759\n",
              "\n",
              "[672 rows x 1 columns]"
            ],
            "text/html": [
              "\n",
              "  <div id=\"df-f7bce61e-4bee-4220-9e49-8a4f0885bc42\">\n",
              "    <div class=\"colab-df-container\">\n",
              "      <div>\n",
              "<style scoped>\n",
              "    .dataframe tbody tr th:only-of-type {\n",
              "        vertical-align: middle;\n",
              "    }\n",
              "\n",
              "    .dataframe tbody tr th {\n",
              "        vertical-align: top;\n",
              "    }\n",
              "\n",
              "    .dataframe thead th {\n",
              "        text-align: right;\n",
              "    }\n",
              "</style>\n",
              "<table border=\"1\" class=\"dataframe\">\n",
              "  <thead>\n",
              "    <tr style=\"text-align: right;\">\n",
              "      <th></th>\n",
              "      <th>floatvalue</th>\n",
              "    </tr>\n",
              "  </thead>\n",
              "  <tbody>\n",
              "    <tr>\n",
              "      <th>0</th>\n",
              "      <td>18.356562</td>\n",
              "    </tr>\n",
              "    <tr>\n",
              "      <th>1</th>\n",
              "      <td>18.710471</td>\n",
              "    </tr>\n",
              "    <tr>\n",
              "      <th>2</th>\n",
              "      <td>18.498388</td>\n",
              "    </tr>\n",
              "    <tr>\n",
              "      <th>3</th>\n",
              "      <td>18.938417</td>\n",
              "    </tr>\n",
              "    <tr>\n",
              "      <th>4</th>\n",
              "      <td>18.105812</td>\n",
              "    </tr>\n",
              "    <tr>\n",
              "      <th>...</th>\n",
              "      <td>...</td>\n",
              "    </tr>\n",
              "    <tr>\n",
              "      <th>667</th>\n",
              "      <td>19.436618</td>\n",
              "    </tr>\n",
              "    <tr>\n",
              "      <th>668</th>\n",
              "      <td>19.771868</td>\n",
              "    </tr>\n",
              "    <tr>\n",
              "      <th>669</th>\n",
              "      <td>19.172429</td>\n",
              "    </tr>\n",
              "    <tr>\n",
              "      <th>670</th>\n",
              "      <td>17.864043</td>\n",
              "    </tr>\n",
              "    <tr>\n",
              "      <th>671</th>\n",
              "      <td>19.010759</td>\n",
              "    </tr>\n",
              "  </tbody>\n",
              "</table>\n",
              "<p>672 rows × 1 columns</p>\n",
              "</div>\n",
              "      <button class=\"colab-df-convert\" onclick=\"convertToInteractive('df-f7bce61e-4bee-4220-9e49-8a4f0885bc42')\"\n",
              "              title=\"Convert this dataframe to an interactive table.\"\n",
              "              style=\"display:none;\">\n",
              "        \n",
              "  <svg xmlns=\"http://www.w3.org/2000/svg\" height=\"24px\"viewBox=\"0 0 24 24\"\n",
              "       width=\"24px\">\n",
              "    <path d=\"M0 0h24v24H0V0z\" fill=\"none\"/>\n",
              "    <path d=\"M18.56 5.44l.94 2.06.94-2.06 2.06-.94-2.06-.94-.94-2.06-.94 2.06-2.06.94zm-11 1L8.5 8.5l.94-2.06 2.06-.94-2.06-.94L8.5 2.5l-.94 2.06-2.06.94zm10 10l.94 2.06.94-2.06 2.06-.94-2.06-.94-.94-2.06-.94 2.06-2.06.94z\"/><path d=\"M17.41 7.96l-1.37-1.37c-.4-.4-.92-.59-1.43-.59-.52 0-1.04.2-1.43.59L10.3 9.45l-7.72 7.72c-.78.78-.78 2.05 0 2.83L4 21.41c.39.39.9.59 1.41.59.51 0 1.02-.2 1.41-.59l7.78-7.78 2.81-2.81c.8-.78.8-2.07 0-2.86zM5.41 20L4 18.59l7.72-7.72 1.47 1.35L5.41 20z\"/>\n",
              "  </svg>\n",
              "      </button>\n",
              "      \n",
              "  <style>\n",
              "    .colab-df-container {\n",
              "      display:flex;\n",
              "      flex-wrap:wrap;\n",
              "      gap: 12px;\n",
              "    }\n",
              "\n",
              "    .colab-df-convert {\n",
              "      background-color: #E8F0FE;\n",
              "      border: none;\n",
              "      border-radius: 50%;\n",
              "      cursor: pointer;\n",
              "      display: none;\n",
              "      fill: #1967D2;\n",
              "      height: 32px;\n",
              "      padding: 0 0 0 0;\n",
              "      width: 32px;\n",
              "    }\n",
              "\n",
              "    .colab-df-convert:hover {\n",
              "      background-color: #E2EBFA;\n",
              "      box-shadow: 0px 1px 2px rgba(60, 64, 67, 0.3), 0px 1px 3px 1px rgba(60, 64, 67, 0.15);\n",
              "      fill: #174EA6;\n",
              "    }\n",
              "\n",
              "    [theme=dark] .colab-df-convert {\n",
              "      background-color: #3B4455;\n",
              "      fill: #D2E3FC;\n",
              "    }\n",
              "\n",
              "    [theme=dark] .colab-df-convert:hover {\n",
              "      background-color: #434B5C;\n",
              "      box-shadow: 0px 1px 3px 1px rgba(0, 0, 0, 0.15);\n",
              "      filter: drop-shadow(0px 1px 2px rgba(0, 0, 0, 0.3));\n",
              "      fill: #FFFFFF;\n",
              "    }\n",
              "  </style>\n",
              "\n",
              "      <script>\n",
              "        const buttonEl =\n",
              "          document.querySelector('#df-f7bce61e-4bee-4220-9e49-8a4f0885bc42 button.colab-df-convert');\n",
              "        buttonEl.style.display =\n",
              "          google.colab.kernel.accessAllowed ? 'block' : 'none';\n",
              "\n",
              "        async function convertToInteractive(key) {\n",
              "          const element = document.querySelector('#df-f7bce61e-4bee-4220-9e49-8a4f0885bc42');\n",
              "          const dataTable =\n",
              "            await google.colab.kernel.invokeFunction('convertToInteractive',\n",
              "                                                     [key], {});\n",
              "          if (!dataTable) return;\n",
              "\n",
              "          const docLinkHtml = 'Like what you see? Visit the ' +\n",
              "            '<a target=\"_blank\" href=https://colab.research.google.com/notebooks/data_table.ipynb>data table notebook</a>'\n",
              "            + ' to learn more about interactive tables.';\n",
              "          element.innerHTML = '';\n",
              "          dataTable['output_type'] = 'display_data';\n",
              "          await google.colab.output.renderOutput(dataTable, element);\n",
              "          const docLink = document.createElement('div');\n",
              "          docLink.innerHTML = docLinkHtml;\n",
              "          element.appendChild(docLink);\n",
              "        }\n",
              "      </script>\n",
              "    </div>\n",
              "  </div>\n",
              "  "
            ]
          },
          "metadata": {},
          "execution_count": 11
        }
      ]
    },
    {
      "cell_type": "code",
      "source": [
        "#split a univariate sequence into samples\n",
        "def df_to_X_y(sequence, n_steps_in, n_steps_out):\n",
        " X, y = list(), list()\n",
        " for i in range(len(sequence)-n_steps_in-n_steps_out-1):\n",
        " # find the end of this pattern\n",
        "  end_ix = i + n_steps_in\n",
        "  out_end_ix = end_ix + n_steps_out\n",
        "   # gather input and output parts of the pattern\n",
        "  seq_x, seq_y = sequence[i:end_ix], sequence[end_ix:out_end_ix]\n",
        "  X.append(seq_x)\n",
        "  y.append(seq_y)\n",
        " return np.array(X), np.array(y)"
      ],
      "metadata": {
        "id": "Yh9gFb8uZt5s"
      },
      "id": "Yh9gFb8uZt5s",
      "execution_count": null,
      "outputs": []
    },
    {
      "cell_type": "code",
      "source": [
        "input_size = 36\n",
        "output_size = 12\n",
        "X, y = df_to_X_y(train_data, input_size, output_size)\n",
        "X.shape, y.shape"
      ],
      "metadata": {
        "colab": {
          "base_uri": "https://localhost:8080/"
        },
        "id": "QPdK3XCUYu5c",
        "outputId": "b09a4b70-f968-4f82-a84c-edee46533d8f"
      },
      "id": "QPdK3XCUYu5c",
      "execution_count": null,
      "outputs": [
        {
          "output_type": "execute_result",
          "data": {
            "text/plain": [
              "((623, 36, 1), (623, 12, 1))"
            ]
          },
          "metadata": {},
          "execution_count": 13
        }
      ]
    },
    {
      "cell_type": "code",
      "source": [
        "X"
      ],
      "metadata": {
        "colab": {
          "base_uri": "https://localhost:8080/"
        },
        "id": "2boyHcydhlou",
        "outputId": "0d521d88-7dc2-4128-bfb2-07af174967d2"
      },
      "id": "2boyHcydhlou",
      "execution_count": null,
      "outputs": [
        {
          "output_type": "execute_result",
          "data": {
            "text/plain": [
              "array([[[18.35656231],\n",
              "        [18.71047106],\n",
              "        [18.49838842],\n",
              "        ...,\n",
              "        [14.38717252],\n",
              "        [13.08428952],\n",
              "        [12.54372204]],\n",
              "\n",
              "       [[18.71047106],\n",
              "        [18.49838842],\n",
              "        [18.93841708],\n",
              "        ...,\n",
              "        [13.08428952],\n",
              "        [12.54372204],\n",
              "        [13.64133465]],\n",
              "\n",
              "       [[18.49838842],\n",
              "        [18.93841708],\n",
              "        [18.10581239],\n",
              "        ...,\n",
              "        [12.54372204],\n",
              "        [13.64133465],\n",
              "        [16.0555921 ]],\n",
              "\n",
              "       ...,\n",
              "\n",
              "       [[14.14256096],\n",
              "        [14.14256096],\n",
              "        [14.14256096],\n",
              "        ...,\n",
              "        [18.44319057],\n",
              "        [13.40362901],\n",
              "        [12.57381815]],\n",
              "\n",
              "       [[14.14256096],\n",
              "        [14.14256096],\n",
              "        [14.14256096],\n",
              "        ...,\n",
              "        [13.40362901],\n",
              "        [12.57381815],\n",
              "        [12.67732277]],\n",
              "\n",
              "       [[14.14256096],\n",
              "        [14.14256096],\n",
              "        [14.14256096],\n",
              "        ...,\n",
              "        [12.57381815],\n",
              "        [12.67732277],\n",
              "        [12.67732277]]])"
            ]
          },
          "metadata": {},
          "execution_count": 14
        }
      ]
    },
    {
      "cell_type": "code",
      "source": [
        "n_features = 1\n",
        "X = X.reshape((X.shape[0], X.shape[1], n_features))\n",
        "X.shape"
      ],
      "metadata": {
        "colab": {
          "base_uri": "https://localhost:8080/"
        },
        "id": "3hiuRAeBgDF7",
        "outputId": "296e56a4-a3c7-4968-b48a-cdcd6af76fac"
      },
      "id": "3hiuRAeBgDF7",
      "execution_count": null,
      "outputs": [
        {
          "output_type": "execute_result",
          "data": {
            "text/plain": [
              "(623, 36, 1)"
            ]
          },
          "metadata": {},
          "execution_count": 16
        }
      ]
    },
    {
      "cell_type": "code",
      "source": [
        "from tensorflow.keras.models import Sequential\n",
        "from tensorflow.keras.layers import *\n",
        "from tensorflow.keras.callbacks import ModelCheckpoint\n",
        "from tensorflow.keras.losses import MeanSquaredError\n",
        "from tensorflow.keras.metrics import RootMeanSquaredError\n",
        "from tensorflow.keras.optimizers import Adam\n",
        "from tensorflow.keras.models import load_model"
      ],
      "metadata": {
        "id": "ls5zOMOfYu8c"
      },
      "id": "ls5zOMOfYu8c",
      "execution_count": null,
      "outputs": []
    },
    {
      "cell_type": "code",
      "source": [
        "model = Sequential()\n",
        "model.add(LSTM(100, activation='relu', input_shape=(input_size, n_features)))\n",
        "model.add(Dense(output_size))\n",
        "model.summary()"
      ],
      "metadata": {
        "colab": {
          "base_uri": "https://localhost:8080/"
        },
        "id": "tT01bWcrYu_S",
        "outputId": "fabe97dd-303f-43f5-b58e-92fcfe647029"
      },
      "id": "tT01bWcrYu_S",
      "execution_count": null,
      "outputs": [
        {
          "output_type": "stream",
          "name": "stdout",
          "text": [
            "Model: \"sequential_3\"\n",
            "_________________________________________________________________\n",
            " Layer (type)                Output Shape              Param #   \n",
            "=================================================================\n",
            " lstm_4 (LSTM)               (None, 100)               40800     \n",
            "                                                                 \n",
            " dense_3 (Dense)             (None, 12)                1212      \n",
            "                                                                 \n",
            "=================================================================\n",
            "Total params: 42,012\n",
            "Trainable params: 42,012\n",
            "Non-trainable params: 0\n",
            "_________________________________________________________________\n"
          ]
        }
      ]
    },
    {
      "cell_type": "code",
      "source": [
        "cp = ModelCheckpoint('model/', save_best_only =True)\n",
        "model.compile(loss=MeanSquaredError(), optimizer=Adam(learning_rate=0.005), metrics = [RootMeanSquaredError()])\n",
        "model.fit(X, y, epochs=50, callbacks = [cp])"
      ],
      "metadata": {
        "colab": {
          "base_uri": "https://localhost:8080/"
        },
        "id": "7VVYxBwUYvBd",
        "outputId": "fdaad97f-4566-4a4d-eae8-35d880bafc99"
      },
      "id": "7VVYxBwUYvBd",
      "execution_count": null,
      "outputs": [
        {
          "output_type": "stream",
          "name": "stdout",
          "text": [
            "Epoch 1/50\n",
            "19/20 [===========================>..] - ETA: 0s - loss: 268.8175 - root_mean_squared_error: 16.3957"
          ]
        },
        {
          "output_type": "stream",
          "name": "stderr",
          "text": [
            "WARNING:tensorflow:Can save best model only with val_loss available, skipping.\n"
          ]
        },
        {
          "output_type": "stream",
          "name": "stdout",
          "text": [
            "\b\b\b\b\b\b\b\b\b\b\b\b\b\b\b\b\b\b\b\b\b\b\b\b\b\b\b\b\b\b\b\b\b\b\b\b\b\b\b\b\b\b\b\b\b\b\b\b\b\b\b\b\b\b\b\b\b\b\b\b\b\b\b\b\b\b\b\b\b\b\b\b\b\b\b\b\b\b\b\b\b\b\b\b\b\b\b\b\b\b\b\b\b\b\b\b\b\b\b\b\r20/20 [==============================] - 2s 29ms/step - loss: 264.7470 - root_mean_squared_error: 16.2710\n",
            "Epoch 2/50\n",
            "19/20 [===========================>..] - ETA: 0s - loss: 25.1438 - root_mean_squared_error: 5.0144"
          ]
        },
        {
          "output_type": "stream",
          "name": "stderr",
          "text": [
            "WARNING:tensorflow:Can save best model only with val_loss available, skipping.\n"
          ]
        },
        {
          "output_type": "stream",
          "name": "stdout",
          "text": [
            "\b\b\b\b\b\b\b\b\b\b\b\b\b\b\b\b\b\b\b\b\b\b\b\b\b\b\b\b\b\b\b\b\b\b\b\b\b\b\b\b\b\b\b\b\b\b\b\b\b\b\b\b\b\b\b\b\b\b\b\b\b\b\b\b\b\b\b\b\b\b\b\b\b\b\b\b\b\b\b\b\b\b\b\b\b\b\b\b\b\b\b\b\b\b\b\b\b\b\r20/20 [==============================] - 1s 29ms/step - loss: 24.7804 - root_mean_squared_error: 4.9780\n",
            "Epoch 3/50\n",
            "19/20 [===========================>..] - ETA: 0s - loss: 14.3800 - root_mean_squared_error: 3.7921"
          ]
        },
        {
          "output_type": "stream",
          "name": "stderr",
          "text": [
            "WARNING:tensorflow:Can save best model only with val_loss available, skipping.\n"
          ]
        },
        {
          "output_type": "stream",
          "name": "stdout",
          "text": [
            "\b\b\b\b\b\b\b\b\b\b\b\b\b\b\b\b\b\b\b\b\b\b\b\b\b\b\b\b\b\b\b\b\b\b\b\b\b\b\b\b\b\b\b\b\b\b\b\b\b\b\b\b\b\b\b\b\b\b\b\b\b\b\b\b\b\b\b\b\b\b\b\b\b\b\b\b\b\b\b\b\b\b\b\b\b\b\b\b\b\b\b\b\b\b\b\b\b\b\r20/20 [==============================] - 1s 29ms/step - loss: 14.2669 - root_mean_squared_error: 3.7772\n",
            "Epoch 4/50\n",
            "19/20 [===========================>..] - ETA: 0s - loss: 9.6109 - root_mean_squared_error: 3.1002"
          ]
        },
        {
          "output_type": "stream",
          "name": "stderr",
          "text": [
            "WARNING:tensorflow:Can save best model only with val_loss available, skipping.\n"
          ]
        },
        {
          "output_type": "stream",
          "name": "stdout",
          "text": [
            "\b\b\b\b\b\b\b\b\b\b\b\b\b\b\b\b\b\b\b\b\b\b\b\b\b\b\b\b\b\b\b\b\b\b\b\b\b\b\b\b\b\b\b\b\b\b\b\b\b\b\b\b\b\b\b\b\b\b\b\b\b\b\b\b\b\b\b\b\b\b\b\b\b\b\b\b\b\b\b\b\b\b\b\b\b\b\b\b\b\b\b\b\b\b\b\b\b\r20/20 [==============================] - 1s 43ms/step - loss: 9.6001 - root_mean_squared_error: 3.0984\n",
            "Epoch 5/50\n",
            "19/20 [===========================>..] - ETA: 0s - loss: 9.1055 - root_mean_squared_error: 3.0175"
          ]
        },
        {
          "output_type": "stream",
          "name": "stderr",
          "text": [
            "WARNING:tensorflow:Can save best model only with val_loss available, skipping.\n"
          ]
        },
        {
          "output_type": "stream",
          "name": "stdout",
          "text": [
            "\b\b\b\b\b\b\b\b\b\b\b\b\b\b\b\b\b\b\b\b\b\b\b\b\b\b\b\b\b\b\b\b\b\b\b\b\b\b\b\b\b\b\b\b\b\b\b\b\b\b\b\b\b\b\b\b\b\b\b\b\b\b\b\b\b\b\b\b\b\b\b\b\b\b\b\b\b\b\b\b\b\b\b\b\b\b\b\b\b\b\b\b\b\b\b\b\b\r20/20 [==============================] - 1s 43ms/step - loss: 9.1681 - root_mean_squared_error: 3.0279\n",
            "Epoch 6/50\n",
            "19/20 [===========================>..] - ETA: 0s - loss: 8.9650 - root_mean_squared_error: 2.9942"
          ]
        },
        {
          "output_type": "stream",
          "name": "stderr",
          "text": [
            "WARNING:tensorflow:Can save best model only with val_loss available, skipping.\n"
          ]
        },
        {
          "output_type": "stream",
          "name": "stdout",
          "text": [
            "\b\b\b\b\b\b\b\b\b\b\b\b\b\b\b\b\b\b\b\b\b\b\b\b\b\b\b\b\b\b\b\b\b\b\b\b\b\b\b\b\b\b\b\b\b\b\b\b\b\b\b\b\b\b\b\b\b\b\b\b\b\b\b\b\b\b\b\b\b\b\b\b\b\b\b\b\b\b\b\b\b\b\b\b\b\b\b\b\b\b\b\b\b\b\b\b\b\r20/20 [==============================] - 1s 44ms/step - loss: 8.9745 - root_mean_squared_error: 2.9957\n",
            "Epoch 7/50\n",
            "19/20 [===========================>..] - ETA: 0s - loss: 426154560.0000 - root_mean_squared_error: 20643.5117"
          ]
        },
        {
          "output_type": "stream",
          "name": "stderr",
          "text": [
            "WARNING:tensorflow:Can save best model only with val_loss available, skipping.\n"
          ]
        },
        {
          "output_type": "stream",
          "name": "stdout",
          "text": [
            "\b\b\b\b\b\b\b\b\b\b\b\b\b\b\b\b\b\b\b\b\b\b\b\b\b\b\b\b\b\b\b\b\b\b\b\b\b\b\b\b\b\b\b\b\b\b\b\b\b\b\b\b\b\b\b\b\b\b\b\b\b\b\b\b\b\b\b\b\b\b\b\b\b\b\b\b\b\b\b\b\b\b\b\b\b\b\b\b\b\b\b\b\b\b\b\b\b\b\b\b\b\b\b\b\b\b\b\b\b\r20/20 [==============================] - 1s 47ms/step - loss: 415898752.0000 - root_mean_squared_error: 20393.5977\n",
            "Epoch 8/50\n",
            "20/20 [==============================] - ETA: 0s - loss: 903308032.0000 - root_mean_squared_error: 30055.0840"
          ]
        },
        {
          "output_type": "stream",
          "name": "stderr",
          "text": [
            "WARNING:tensorflow:Can save best model only with val_loss available, skipping.\n"
          ]
        },
        {
          "output_type": "stream",
          "name": "stdout",
          "text": [
            "\b\b\b\b\b\b\b\b\b\b\b\b\b\b\b\b\b\b\b\b\b\b\b\b\b\b\b\b\b\b\b\b\b\b\b\b\b\b\b\b\b\b\b\b\b\b\b\b\b\b\b\b\b\b\b\b\b\b\b\b\b\b\b\b\b\b\b\b\b\b\b\b\b\b\b\b\b\b\b\b\b\b\b\b\b\b\b\b\b\b\b\b\b\b\b\b\b\b\b\b\b\b\b\b\b\b\b\b\b\r20/20 [==============================] - 1s 45ms/step - loss: 903308032.0000 - root_mean_squared_error: 30055.0840\n",
            "Epoch 9/50\n",
            "20/20 [==============================] - ETA: 0s - loss: 317633280.0000 - root_mean_squared_error: 17822.2676"
          ]
        },
        {
          "output_type": "stream",
          "name": "stderr",
          "text": [
            "WARNING:tensorflow:Can save best model only with val_loss available, skipping.\n"
          ]
        },
        {
          "output_type": "stream",
          "name": "stdout",
          "text": [
            "\b\b\b\b\b\b\b\b\b\b\b\b\b\b\b\b\b\b\b\b\b\b\b\b\b\b\b\b\b\b\b\b\b\b\b\b\b\b\b\b\b\b\b\b\b\b\b\b\b\b\b\b\b\b\b\b\b\b\b\b\b\b\b\b\b\b\b\b\b\b\b\b\b\b\b\b\b\b\b\b\b\b\b\b\b\b\b\b\b\b\b\b\b\b\b\b\b\b\b\b\b\b\b\b\b\b\b\b\b\r20/20 [==============================] - 1s 35ms/step - loss: 317633280.0000 - root_mean_squared_error: 17822.2676\n",
            "Epoch 10/50\n",
            "19/20 [===========================>..] - ETA: 0s - loss: 524.2111 - root_mean_squared_error: 22.8957"
          ]
        },
        {
          "output_type": "stream",
          "name": "stderr",
          "text": [
            "WARNING:tensorflow:Can save best model only with val_loss available, skipping.\n"
          ]
        },
        {
          "output_type": "stream",
          "name": "stdout",
          "text": [
            "\b\b\b\b\b\b\b\b\b\b\b\b\b\b\b\b\b\b\b\b\b\b\b\b\b\b\b\b\b\b\b\b\b\b\b\b\b\b\b\b\b\b\b\b\b\b\b\b\b\b\b\b\b\b\b\b\b\b\b\b\b\b\b\b\b\b\b\b\b\b\b\b\b\b\b\b\b\b\b\b\b\b\b\b\b\b\b\b\b\b\b\b\b\b\b\b\b\b\b\b\r20/20 [==============================] - 1s 29ms/step - loss: 517.9802 - root_mean_squared_error: 22.7592\n",
            "Epoch 11/50\n",
            "19/20 [===========================>..] - ETA: 0s - loss: 1456.3896 - root_mean_squared_error: 38.1627"
          ]
        },
        {
          "output_type": "stream",
          "name": "stderr",
          "text": [
            "WARNING:tensorflow:Can save best model only with val_loss available, skipping.\n"
          ]
        },
        {
          "output_type": "stream",
          "name": "stdout",
          "text": [
            "\b\b\b\b\b\b\b\b\b\b\b\b\b\b\b\b\b\b\b\b\b\b\b\b\b\b\b\b\b\b\b\b\b\b\b\b\b\b\b\b\b\b\b\b\b\b\b\b\b\b\b\b\b\b\b\b\b\b\b\b\b\b\b\b\b\b\b\b\b\b\b\b\b\b\b\b\b\b\b\b\b\b\b\b\b\b\b\b\b\b\b\b\b\b\b\b\b\b\b\b\b\r20/20 [==============================] - 1s 29ms/step - loss: 1453.1167 - root_mean_squared_error: 38.1198\n",
            "Epoch 12/50\n",
            "19/20 [===========================>..] - ETA: 0s - loss: 42658.8281 - root_mean_squared_error: 206.5401"
          ]
        },
        {
          "output_type": "stream",
          "name": "stderr",
          "text": [
            "WARNING:tensorflow:Can save best model only with val_loss available, skipping.\n"
          ]
        },
        {
          "output_type": "stream",
          "name": "stdout",
          "text": [
            "\b\b\b\b\b\b\b\b\b\b\b\b\b\b\b\b\b\b\b\b\b\b\b\b\b\b\b\b\b\b\b\b\b\b\b\b\b\b\b\b\b\b\b\b\b\b\b\b\b\b\b\b\b\b\b\b\b\b\b\b\b\b\b\b\b\b\b\b\b\b\b\b\b\b\b\b\b\b\b\b\b\b\b\b\b\b\b\b\b\b\b\b\b\b\b\b\b\b\b\b\b\b\b\r20/20 [==============================] - 1s 29ms/step - loss: 41665.2344 - root_mean_squared_error: 204.1207\n",
            "Epoch 13/50\n",
            "19/20 [===========================>..] - ETA: 0s - loss: 3437.1384 - root_mean_squared_error: 58.6271"
          ]
        },
        {
          "output_type": "stream",
          "name": "stderr",
          "text": [
            "WARNING:tensorflow:Can save best model only with val_loss available, skipping.\n"
          ]
        },
        {
          "output_type": "stream",
          "name": "stdout",
          "text": [
            "\b\b\b\b\b\b\b\b\b\b\b\b\b\b\b\b\b\b\b\b\b\b\b\b\b\b\b\b\b\b\b\b\b\b\b\b\b\b\b\b\b\b\b\b\b\b\b\b\b\b\b\b\b\b\b\b\b\b\b\b\b\b\b\b\b\b\b\b\b\b\b\b\b\b\b\b\b\b\b\b\b\b\b\b\b\b\b\b\b\b\b\b\b\b\b\b\b\b\b\b\b\r20/20 [==============================] - 1s 29ms/step - loss: 3384.6953 - root_mean_squared_error: 58.1781\n",
            "Epoch 14/50\n",
            "19/20 [===========================>..] - ETA: 0s - loss: 875.9802 - root_mean_squared_error: 29.5970"
          ]
        },
        {
          "output_type": "stream",
          "name": "stderr",
          "text": [
            "WARNING:tensorflow:Can save best model only with val_loss available, skipping.\n"
          ]
        },
        {
          "output_type": "stream",
          "name": "stdout",
          "text": [
            "\b\b\b\b\b\b\b\b\b\b\b\b\b\b\b\b\b\b\b\b\b\b\b\b\b\b\b\b\b\b\b\b\b\b\b\b\b\b\b\b\b\b\b\b\b\b\b\b\b\b\b\b\b\b\b\b\b\b\b\b\b\b\b\b\b\b\b\b\b\b\b\b\b\b\b\b\b\b\b\b\b\b\b\b\b\b\b\b\b\b\b\b\b\b\b\b\b\b\b\b\r20/20 [==============================] - 1s 29ms/step - loss: 869.3611 - root_mean_squared_error: 29.4849\n",
            "Epoch 15/50\n",
            "19/20 [===========================>..] - ETA: 0s - loss: 559.1707 - root_mean_squared_error: 23.6468"
          ]
        },
        {
          "output_type": "stream",
          "name": "stderr",
          "text": [
            "WARNING:tensorflow:Can save best model only with val_loss available, skipping.\n"
          ]
        },
        {
          "output_type": "stream",
          "name": "stdout",
          "text": [
            "\b\b\b\b\b\b\b\b\b\b\b\b\b\b\b\b\b\b\b\b\b\b\b\b\b\b\b\b\b\b\b\b\b\b\b\b\b\b\b\b\b\b\b\b\b\b\b\b\b\b\b\b\b\b\b\b\b\b\b\b\b\b\b\b\b\b\b\b\b\b\b\b\b\b\b\b\b\b\b\b\b\b\b\b\b\b\b\b\b\b\b\b\b\b\b\b\b\b\b\b\r20/20 [==============================] - 1s 29ms/step - loss: 556.6028 - root_mean_squared_error: 23.5924\n",
            "Epoch 16/50\n",
            "19/20 [===========================>..] - ETA: 0s - loss: 373.0823 - root_mean_squared_error: 19.3153"
          ]
        },
        {
          "output_type": "stream",
          "name": "stderr",
          "text": [
            "WARNING:tensorflow:Can save best model only with val_loss available, skipping.\n"
          ]
        },
        {
          "output_type": "stream",
          "name": "stdout",
          "text": [
            "\b\b\b\b\b\b\b\b\b\b\b\b\b\b\b\b\b\b\b\b\b\b\b\b\b\b\b\b\b\b\b\b\b\b\b\b\b\b\b\b\b\b\b\b\b\b\b\b\b\b\b\b\b\b\b\b\b\b\b\b\b\b\b\b\b\b\b\b\b\b\b\b\b\b\b\b\b\b\b\b\b\b\b\b\b\b\b\b\b\b\b\b\b\b\b\b\b\b\b\b\r20/20 [==============================] - 1s 29ms/step - loss: 371.1661 - root_mean_squared_error: 19.2657\n",
            "Epoch 17/50\n",
            "19/20 [===========================>..] - ETA: 0s - loss: 212.5846 - root_mean_squared_error: 14.5803"
          ]
        },
        {
          "output_type": "stream",
          "name": "stderr",
          "text": [
            "WARNING:tensorflow:Can save best model only with val_loss available, skipping.\n"
          ]
        },
        {
          "output_type": "stream",
          "name": "stdout",
          "text": [
            "\b\b\b\b\b\b\b\b\b\b\b\b\b\b\b\b\b\b\b\b\b\b\b\b\b\b\b\b\b\b\b\b\b\b\b\b\b\b\b\b\b\b\b\b\b\b\b\b\b\b\b\b\b\b\b\b\b\b\b\b\b\b\b\b\b\b\b\b\b\b\b\b\b\b\b\b\b\b\b\b\b\b\b\b\b\b\b\b\b\b\b\b\b\b\b\b\b\b\b\b\r20/20 [==============================] - 1s 28ms/step - loss: 211.0114 - root_mean_squared_error: 14.5262\n",
            "Epoch 18/50\n",
            "19/20 [===========================>..] - ETA: 0s - loss: 95.0854 - root_mean_squared_error: 9.7512"
          ]
        },
        {
          "output_type": "stream",
          "name": "stderr",
          "text": [
            "WARNING:tensorflow:Can save best model only with val_loss available, skipping.\n"
          ]
        },
        {
          "output_type": "stream",
          "name": "stdout",
          "text": [
            "\b\b\b\b\b\b\b\b\b\b\b\b\b\b\b\b\b\b\b\b\b\b\b\b\b\b\b\b\b\b\b\b\b\b\b\b\b\b\b\b\b\b\b\b\b\b\b\b\b\b\b\b\b\b\b\b\b\b\b\b\b\b\b\b\b\b\b\b\b\b\b\b\b\b\b\b\b\b\b\b\b\b\b\b\b\b\b\b\b\b\b\b\b\b\b\b\b\b\r20/20 [==============================] - 1s 29ms/step - loss: 94.1679 - root_mean_squared_error: 9.7040\n",
            "Epoch 19/50\n",
            "19/20 [===========================>..] - ETA: 0s - loss: 51.4189 - root_mean_squared_error: 7.1707"
          ]
        },
        {
          "output_type": "stream",
          "name": "stderr",
          "text": [
            "WARNING:tensorflow:Can save best model only with val_loss available, skipping.\n"
          ]
        },
        {
          "output_type": "stream",
          "name": "stdout",
          "text": [
            "\b\b\b\b\b\b\b\b\b\b\b\b\b\b\b\b\b\b\b\b\b\b\b\b\b\b\b\b\b\b\b\b\b\b\b\b\b\b\b\b\b\b\b\b\b\b\b\b\b\b\b\b\b\b\b\b\b\b\b\b\b\b\b\b\b\b\b\b\b\b\b\b\b\b\b\b\b\b\b\b\b\b\b\b\b\b\b\b\b\b\b\b\b\b\b\b\b\b\r20/20 [==============================] - 1s 30ms/step - loss: 51.2425 - root_mean_squared_error: 7.1584\n",
            "Epoch 20/50\n",
            "19/20 [===========================>..] - ETA: 0s - loss: 34.3884 - root_mean_squared_error: 5.8642"
          ]
        },
        {
          "output_type": "stream",
          "name": "stderr",
          "text": [
            "WARNING:tensorflow:Can save best model only with val_loss available, skipping.\n"
          ]
        },
        {
          "output_type": "stream",
          "name": "stdout",
          "text": [
            "\b\b\b\b\b\b\b\b\b\b\b\b\b\b\b\b\b\b\b\b\b\b\b\b\b\b\b\b\b\b\b\b\b\b\b\b\b\b\b\b\b\b\b\b\b\b\b\b\b\b\b\b\b\b\b\b\b\b\b\b\b\b\b\b\b\b\b\b\b\b\b\b\b\b\b\b\b\b\b\b\b\b\b\b\b\b\b\b\b\b\b\b\b\b\b\b\b\b\r20/20 [==============================] - 1s 29ms/step - loss: 34.2807 - root_mean_squared_error: 5.8550\n",
            "Epoch 21/50\n",
            "19/20 [===========================>..] - ETA: 0s - loss: 26.5816 - root_mean_squared_error: 5.1557"
          ]
        },
        {
          "output_type": "stream",
          "name": "stderr",
          "text": [
            "WARNING:tensorflow:Can save best model only with val_loss available, skipping.\n"
          ]
        },
        {
          "output_type": "stream",
          "name": "stdout",
          "text": [
            "\b\b\b\b\b\b\b\b\b\b\b\b\b\b\b\b\b\b\b\b\b\b\b\b\b\b\b\b\b\b\b\b\b\b\b\b\b\b\b\b\b\b\b\b\b\b\b\b\b\b\b\b\b\b\b\b\b\b\b\b\b\b\b\b\b\b\b\b\b\b\b\b\b\b\b\b\b\b\b\b\b\b\b\b\b\b\b\b\b\b\b\b\b\b\b\b\b\b\r20/20 [==============================] - 1s 29ms/step - loss: 26.5548 - root_mean_squared_error: 5.1531\n",
            "Epoch 22/50\n",
            "19/20 [===========================>..] - ETA: 0s - loss: 22.7586 - root_mean_squared_error: 4.7706"
          ]
        },
        {
          "output_type": "stream",
          "name": "stderr",
          "text": [
            "WARNING:tensorflow:Can save best model only with val_loss available, skipping.\n"
          ]
        },
        {
          "output_type": "stream",
          "name": "stdout",
          "text": [
            "\b\b\b\b\b\b\b\b\b\b\b\b\b\b\b\b\b\b\b\b\b\b\b\b\b\b\b\b\b\b\b\b\b\b\b\b\b\b\b\b\b\b\b\b\b\b\b\b\b\b\b\b\b\b\b\b\b\b\b\b\b\b\b\b\b\b\b\b\b\b\b\b\b\b\b\b\b\b\b\b\b\b\b\b\b\b\b\b\b\b\b\b\b\b\b\b\b\b\r20/20 [==============================] - 1s 30ms/step - loss: 22.8679 - root_mean_squared_error: 4.7820\n",
            "Epoch 23/50\n",
            "19/20 [===========================>..] - ETA: 0s - loss: 21.0257 - root_mean_squared_error: 4.5854"
          ]
        },
        {
          "output_type": "stream",
          "name": "stderr",
          "text": [
            "WARNING:tensorflow:Can save best model only with val_loss available, skipping.\n"
          ]
        },
        {
          "output_type": "stream",
          "name": "stdout",
          "text": [
            "\b\b\b\b\b\b\b\b\b\b\b\b\b\b\b\b\b\b\b\b\b\b\b\b\b\b\b\b\b\b\b\b\b\b\b\b\b\b\b\b\b\b\b\b\b\b\b\b\b\b\b\b\b\b\b\b\b\b\b\b\b\b\b\b\b\b\b\b\b\b\b\b\b\b\b\b\b\b\b\b\b\b\b\b\b\b\b\b\b\b\b\b\b\b\b\b\b\b\r20/20 [==============================] - 1s 30ms/step - loss: 21.1089 - root_mean_squared_error: 4.5944\n",
            "Epoch 24/50\n",
            "19/20 [===========================>..] - ETA: 0s - loss: 20.2052 - root_mean_squared_error: 4.4950"
          ]
        },
        {
          "output_type": "stream",
          "name": "stderr",
          "text": [
            "WARNING:tensorflow:Can save best model only with val_loss available, skipping.\n"
          ]
        },
        {
          "output_type": "stream",
          "name": "stdout",
          "text": [
            "\b\b\b\b\b\b\b\b\b\b\b\b\b\b\b\b\b\b\b\b\b\b\b\b\b\b\b\b\b\b\b\b\b\b\b\b\b\b\b\b\b\b\b\b\b\b\b\b\b\b\b\b\b\b\b\b\b\b\b\b\b\b\b\b\b\b\b\b\b\b\b\b\b\b\b\b\b\b\b\b\b\b\b\b\b\b\b\b\b\b\b\b\b\b\b\b\b\b\r20/20 [==============================] - 1s 28ms/step - loss: 20.2655 - root_mean_squared_error: 4.5017\n",
            "Epoch 25/50\n",
            "19/20 [===========================>..] - ETA: 0s - loss: 19.9091 - root_mean_squared_error: 4.4620"
          ]
        },
        {
          "output_type": "stream",
          "name": "stderr",
          "text": [
            "WARNING:tensorflow:Can save best model only with val_loss available, skipping.\n"
          ]
        },
        {
          "output_type": "stream",
          "name": "stdout",
          "text": [
            "\b\b\b\b\b\b\b\b\b\b\b\b\b\b\b\b\b\b\b\b\b\b\b\b\b\b\b\b\b\b\b\b\b\b\b\b\b\b\b\b\b\b\b\b\b\b\b\b\b\b\b\b\b\b\b\b\b\b\b\b\b\b\b\b\b\b\b\b\b\b\b\b\b\b\b\b\b\b\b\b\b\b\b\b\b\b\b\b\b\b\b\b\b\b\b\b\b\b\r20/20 [==============================] - 1s 29ms/step - loss: 19.8906 - root_mean_squared_error: 4.4599\n",
            "Epoch 26/50\n",
            "19/20 [===========================>..] - ETA: 0s - loss: 19.6230 - root_mean_squared_error: 4.4298"
          ]
        },
        {
          "output_type": "stream",
          "name": "stderr",
          "text": [
            "WARNING:tensorflow:Can save best model only with val_loss available, skipping.\n"
          ]
        },
        {
          "output_type": "stream",
          "name": "stdout",
          "text": [
            "\b\b\b\b\b\b\b\b\b\b\b\b\b\b\b\b\b\b\b\b\b\b\b\b\b\b\b\b\b\b\b\b\b\b\b\b\b\b\b\b\b\b\b\b\b\b\b\b\b\b\b\b\b\b\b\b\b\b\b\b\b\b\b\b\b\b\b\b\b\b\b\b\b\b\b\b\b\b\b\b\b\b\b\b\b\b\b\b\b\b\b\b\b\b\b\b\b\b\r20/20 [==============================] - 1s 40ms/step - loss: 19.6438 - root_mean_squared_error: 4.4321\n",
            "Epoch 27/50\n",
            "19/20 [===========================>..] - ETA: 0s - loss: 19.6476 - root_mean_squared_error: 4.4326"
          ]
        },
        {
          "output_type": "stream",
          "name": "stderr",
          "text": [
            "WARNING:tensorflow:Can save best model only with val_loss available, skipping.\n"
          ]
        },
        {
          "output_type": "stream",
          "name": "stdout",
          "text": [
            "\b\b\b\b\b\b\b\b\b\b\b\b\b\b\b\b\b\b\b\b\b\b\b\b\b\b\b\b\b\b\b\b\b\b\b\b\b\b\b\b\b\b\b\b\b\b\b\b\b\b\b\b\b\b\b\b\b\b\b\b\b\b\b\b\b\b\b\b\b\b\b\b\b\b\b\b\b\b\b\b\b\b\b\b\b\b\b\b\b\b\b\b\b\b\b\b\b\b\r20/20 [==============================] - 1s 43ms/step - loss: 19.4950 - root_mean_squared_error: 4.4153\n",
            "Epoch 28/50\n",
            "19/20 [===========================>..] - ETA: 0s - loss: 19.2389 - root_mean_squared_error: 4.3862"
          ]
        },
        {
          "output_type": "stream",
          "name": "stderr",
          "text": [
            "WARNING:tensorflow:Can save best model only with val_loss available, skipping.\n"
          ]
        },
        {
          "output_type": "stream",
          "name": "stdout",
          "text": [
            "\b\b\b\b\b\b\b\b\b\b\b\b\b\b\b\b\b\b\b\b\b\b\b\b\b\b\b\b\b\b\b\b\b\b\b\b\b\b\b\b\b\b\b\b\b\b\b\b\b\b\b\b\b\b\b\b\b\b\b\b\b\b\b\b\b\b\b\b\b\b\b\b\b\b\b\b\b\b\b\b\b\b\b\b\b\b\b\b\b\b\b\b\b\b\b\b\b\b\r20/20 [==============================] - 1s 43ms/step - loss: 19.3957 - root_mean_squared_error: 4.4041\n",
            "Epoch 29/50\n",
            "19/20 [===========================>..] - ETA: 0s - loss: 19.1279 - root_mean_squared_error: 4.3735"
          ]
        },
        {
          "output_type": "stream",
          "name": "stderr",
          "text": [
            "WARNING:tensorflow:Can save best model only with val_loss available, skipping.\n"
          ]
        },
        {
          "output_type": "stream",
          "name": "stdout",
          "text": [
            "\b\b\b\b\b\b\b\b\b\b\b\b\b\b\b\b\b\b\b\b\b\b\b\b\b\b\b\b\b\b\b\b\b\b\b\b\b\b\b\b\b\b\b\b\b\b\b\b\b\b\b\b\b\b\b\b\b\b\b\b\b\b\b\b\b\b\b\b\b\b\b\b\b\b\b\b\b\b\b\b\b\b\b\b\b\b\b\b\b\b\b\b\b\b\b\b\b\b\r20/20 [==============================] - 1s 43ms/step - loss: 19.3165 - root_mean_squared_error: 4.3951\n",
            "Epoch 30/50\n",
            "19/20 [===========================>..] - ETA: 0s - loss: 19.1789 - root_mean_squared_error: 4.3794"
          ]
        },
        {
          "output_type": "stream",
          "name": "stderr",
          "text": [
            "WARNING:tensorflow:Can save best model only with val_loss available, skipping.\n"
          ]
        },
        {
          "output_type": "stream",
          "name": "stdout",
          "text": [
            "\b\b\b\b\b\b\b\b\b\b\b\b\b\b\b\b\b\b\b\b\b\b\b\b\b\b\b\b\b\b\b\b\b\b\b\b\b\b\b\b\b\b\b\b\b\b\b\b\b\b\b\b\b\b\b\b\b\b\b\b\b\b\b\b\b\b\b\b\b\b\b\b\b\b\b\b\b\b\b\b\b\b\b\b\b\b\b\b\b\b\b\b\b\b\b\b\b\b\r20/20 [==============================] - 1s 42ms/step - loss: 19.2707 - root_mean_squared_error: 4.3898\n",
            "Epoch 31/50\n",
            "20/20 [==============================] - ETA: 0s - loss: 19.1656 - root_mean_squared_error: 4.3779"
          ]
        },
        {
          "output_type": "stream",
          "name": "stderr",
          "text": [
            "WARNING:tensorflow:Can save best model only with val_loss available, skipping.\n"
          ]
        },
        {
          "output_type": "stream",
          "name": "stdout",
          "text": [
            "\b\b\b\b\b\b\b\b\b\b\b\b\b\b\b\b\b\b\b\b\b\b\b\b\b\b\b\b\b\b\b\b\b\b\b\b\b\b\b\b\b\b\b\b\b\b\b\b\b\b\b\b\b\b\b\b\b\b\b\b\b\b\b\b\b\b\b\b\b\b\b\b\b\b\b\b\b\b\b\b\b\b\b\b\b\b\b\b\b\b\b\b\b\b\b\b\b\b\r20/20 [==============================] - 1s 43ms/step - loss: 19.1656 - root_mean_squared_error: 4.3779\n",
            "Epoch 32/50\n",
            "19/20 [===========================>..] - ETA: 0s - loss: 19.0848 - root_mean_squared_error: 4.3686"
          ]
        },
        {
          "output_type": "stream",
          "name": "stderr",
          "text": [
            "WARNING:tensorflow:Can save best model only with val_loss available, skipping.\n"
          ]
        },
        {
          "output_type": "stream",
          "name": "stdout",
          "text": [
            "\b\b\b\b\b\b\b\b\b\b\b\b\b\b\b\b\b\b\b\b\b\b\b\b\b\b\b\b\b\b\b\b\b\b\b\b\b\b\b\b\b\b\b\b\b\b\b\b\b\b\b\b\b\b\b\b\b\b\b\b\b\b\b\b\b\b\b\b\b\b\b\b\b\b\b\b\b\b\b\b\b\b\b\b\b\b\b\b\b\b\b\b\b\b\b\b\b\b\r20/20 [==============================] - 1s 29ms/step - loss: 19.0851 - root_mean_squared_error: 4.3686\n",
            "Epoch 33/50\n",
            "19/20 [===========================>..] - ETA: 0s - loss: 18.8248 - root_mean_squared_error: 4.3388"
          ]
        },
        {
          "output_type": "stream",
          "name": "stderr",
          "text": [
            "WARNING:tensorflow:Can save best model only with val_loss available, skipping.\n"
          ]
        },
        {
          "output_type": "stream",
          "name": "stdout",
          "text": [
            "\b\b\b\b\b\b\b\b\b\b\b\b\b\b\b\b\b\b\b\b\b\b\b\b\b\b\b\b\b\b\b\b\b\b\b\b\b\b\b\b\b\b\b\b\b\b\b\b\b\b\b\b\b\b\b\b\b\b\b\b\b\b\b\b\b\b\b\b\b\b\b\b\b\b\b\b\b\b\b\b\b\b\b\b\b\b\b\b\b\b\b\b\b\b\b\b\b\b\r20/20 [==============================] - 1s 29ms/step - loss: 19.0121 - root_mean_squared_error: 4.3603\n",
            "Epoch 34/50\n",
            "19/20 [===========================>..] - ETA: 0s - loss: 19.0678 - root_mean_squared_error: 4.3667"
          ]
        },
        {
          "output_type": "stream",
          "name": "stderr",
          "text": [
            "WARNING:tensorflow:Can save best model only with val_loss available, skipping.\n"
          ]
        },
        {
          "output_type": "stream",
          "name": "stdout",
          "text": [
            "\b\b\b\b\b\b\b\b\b\b\b\b\b\b\b\b\b\b\b\b\b\b\b\b\b\b\b\b\b\b\b\b\b\b\b\b\b\b\b\b\b\b\b\b\b\b\b\b\b\b\b\b\b\b\b\b\b\b\b\b\b\b\b\b\b\b\b\b\b\b\b\b\b\b\b\b\b\b\b\b\b\b\b\b\b\b\b\b\b\b\b\b\b\b\b\b\b\b\r20/20 [==============================] - 1s 29ms/step - loss: 18.9578 - root_mean_squared_error: 4.3541\n",
            "Epoch 35/50\n",
            "19/20 [===========================>..] - ETA: 0s - loss: 18.8995 - root_mean_squared_error: 4.3474"
          ]
        },
        {
          "output_type": "stream",
          "name": "stderr",
          "text": [
            "WARNING:tensorflow:Can save best model only with val_loss available, skipping.\n"
          ]
        },
        {
          "output_type": "stream",
          "name": "stdout",
          "text": [
            "\b\b\b\b\b\b\b\b\b\b\b\b\b\b\b\b\b\b\b\b\b\b\b\b\b\b\b\b\b\b\b\b\b\b\b\b\b\b\b\b\b\b\b\b\b\b\b\b\b\b\b\b\b\b\b\b\b\b\b\b\b\b\b\b\b\b\b\b\b\b\b\b\b\b\b\b\b\b\b\b\b\b\b\b\b\b\b\b\b\b\b\b\b\b\b\b\b\b\r20/20 [==============================] - 1s 30ms/step - loss: 18.9096 - root_mean_squared_error: 4.3485\n",
            "Epoch 36/50\n",
            "19/20 [===========================>..] - ETA: 0s - loss: 18.7914 - root_mean_squared_error: 4.3349"
          ]
        },
        {
          "output_type": "stream",
          "name": "stderr",
          "text": [
            "WARNING:tensorflow:Can save best model only with val_loss available, skipping.\n"
          ]
        },
        {
          "output_type": "stream",
          "name": "stdout",
          "text": [
            "\b\b\b\b\b\b\b\b\b\b\b\b\b\b\b\b\b\b\b\b\b\b\b\b\b\b\b\b\b\b\b\b\b\b\b\b\b\b\b\b\b\b\b\b\b\b\b\b\b\b\b\b\b\b\b\b\b\b\b\b\b\b\b\b\b\b\b\b\b\b\b\b\b\b\b\b\b\b\b\b\b\b\b\b\b\b\b\b\b\b\b\b\b\b\b\b\b\b\r20/20 [==============================] - 1s 30ms/step - loss: 18.8330 - root_mean_squared_error: 4.3397\n",
            "Epoch 37/50\n",
            "19/20 [===========================>..] - ETA: 0s - loss: 18.8824 - root_mean_squared_error: 4.3454"
          ]
        },
        {
          "output_type": "stream",
          "name": "stderr",
          "text": [
            "WARNING:tensorflow:Can save best model only with val_loss available, skipping.\n"
          ]
        },
        {
          "output_type": "stream",
          "name": "stdout",
          "text": [
            "\b\b\b\b\b\b\b\b\b\b\b\b\b\b\b\b\b\b\b\b\b\b\b\b\b\b\b\b\b\b\b\b\b\b\b\b\b\b\b\b\b\b\b\b\b\b\b\b\b\b\b\b\b\b\b\b\b\b\b\b\b\b\b\b\b\b\b\b\b\b\b\b\b\b\b\b\b\b\b\b\b\b\b\b\b\b\b\b\b\b\b\b\b\b\b\b\b\b\r20/20 [==============================] - 1s 30ms/step - loss: 18.7930 - root_mean_squared_error: 4.3351\n",
            "Epoch 38/50\n",
            "20/20 [==============================] - ETA: 0s - loss: 18.7415 - root_mean_squared_error: 4.3291"
          ]
        },
        {
          "output_type": "stream",
          "name": "stderr",
          "text": [
            "WARNING:tensorflow:Can save best model only with val_loss available, skipping.\n"
          ]
        },
        {
          "output_type": "stream",
          "name": "stdout",
          "text": [
            "\b\b\b\b\b\b\b\b\b\b\b\b\b\b\b\b\b\b\b\b\b\b\b\b\b\b\b\b\b\b\b\b\b\b\b\b\b\b\b\b\b\b\b\b\b\b\b\b\b\b\b\b\b\b\b\b\b\b\b\b\b\b\b\b\b\b\b\b\b\b\b\b\b\b\b\b\b\b\b\b\b\b\b\b\b\b\b\b\b\b\b\b\b\b\b\b\b\b\r20/20 [==============================] - 1s 31ms/step - loss: 18.7415 - root_mean_squared_error: 4.3291\n",
            "Epoch 39/50\n",
            "19/20 [===========================>..] - ETA: 0s - loss: 18.7858 - root_mean_squared_error: 4.3343"
          ]
        },
        {
          "output_type": "stream",
          "name": "stderr",
          "text": [
            "WARNING:tensorflow:Can save best model only with val_loss available, skipping.\n"
          ]
        },
        {
          "output_type": "stream",
          "name": "stdout",
          "text": [
            "\b\b\b\b\b\b\b\b\b\b\b\b\b\b\b\b\b\b\b\b\b\b\b\b\b\b\b\b\b\b\b\b\b\b\b\b\b\b\b\b\b\b\b\b\b\b\b\b\b\b\b\b\b\b\b\b\b\b\b\b\b\b\b\b\b\b\b\b\b\b\b\b\b\b\b\b\b\b\b\b\b\b\b\b\b\b\b\b\b\b\b\b\b\b\b\b\b\b\r20/20 [==============================] - 1s 29ms/step - loss: 18.6842 - root_mean_squared_error: 4.3225\n",
            "Epoch 40/50\n",
            "19/20 [===========================>..] - ETA: 0s - loss: 18.5041 - root_mean_squared_error: 4.3016"
          ]
        },
        {
          "output_type": "stream",
          "name": "stderr",
          "text": [
            "WARNING:tensorflow:Can save best model only with val_loss available, skipping.\n"
          ]
        },
        {
          "output_type": "stream",
          "name": "stdout",
          "text": [
            "\b\b\b\b\b\b\b\b\b\b\b\b\b\b\b\b\b\b\b\b\b\b\b\b\b\b\b\b\b\b\b\b\b\b\b\b\b\b\b\b\b\b\b\b\b\b\b\b\b\b\b\b\b\b\b\b\b\b\b\b\b\b\b\b\b\b\b\b\b\b\b\b\b\b\b\b\b\b\b\b\b\b\b\b\b\b\b\b\b\b\b\b\b\b\b\b\b\b\r20/20 [==============================] - 1s 29ms/step - loss: 18.6361 - root_mean_squared_error: 4.3170\n",
            "Epoch 41/50\n",
            "19/20 [===========================>..] - ETA: 0s - loss: 18.6856 - root_mean_squared_error: 4.3227"
          ]
        },
        {
          "output_type": "stream",
          "name": "stderr",
          "text": [
            "WARNING:tensorflow:Can save best model only with val_loss available, skipping.\n"
          ]
        },
        {
          "output_type": "stream",
          "name": "stdout",
          "text": [
            "\b\b\b\b\b\b\b\b\b\b\b\b\b\b\b\b\b\b\b\b\b\b\b\b\b\b\b\b\b\b\b\b\b\b\b\b\b\b\b\b\b\b\b\b\b\b\b\b\b\b\b\b\b\b\b\b\b\b\b\b\b\b\b\b\b\b\b\b\b\b\b\b\b\b\b\b\b\b\b\b\b\b\b\b\b\b\b\b\b\b\b\b\b\b\b\b\b\b\r20/20 [==============================] - 1s 29ms/step - loss: 18.6538 - root_mean_squared_error: 4.3190\n",
            "Epoch 42/50\n",
            "19/20 [===========================>..] - ETA: 0s - loss: 18.5820 - root_mean_squared_error: 4.3107"
          ]
        },
        {
          "output_type": "stream",
          "name": "stderr",
          "text": [
            "WARNING:tensorflow:Can save best model only with val_loss available, skipping.\n"
          ]
        },
        {
          "output_type": "stream",
          "name": "stdout",
          "text": [
            "\b\b\b\b\b\b\b\b\b\b\b\b\b\b\b\b\b\b\b\b\b\b\b\b\b\b\b\b\b\b\b\b\b\b\b\b\b\b\b\b\b\b\b\b\b\b\b\b\b\b\b\b\b\b\b\b\b\b\b\b\b\b\b\b\b\b\b\b\b\b\b\b\b\b\b\b\b\b\b\b\b\b\b\b\b\b\b\b\b\b\b\b\b\b\b\b\b\b\r20/20 [==============================] - 1s 29ms/step - loss: 18.6364 - root_mean_squared_error: 4.3170\n",
            "Epoch 43/50\n",
            "19/20 [===========================>..] - ETA: 0s - loss: 18.6366 - root_mean_squared_error: 4.3170"
          ]
        },
        {
          "output_type": "stream",
          "name": "stderr",
          "text": [
            "WARNING:tensorflow:Can save best model only with val_loss available, skipping.\n"
          ]
        },
        {
          "output_type": "stream",
          "name": "stdout",
          "text": [
            "\b\b\b\b\b\b\b\b\b\b\b\b\b\b\b\b\b\b\b\b\b\b\b\b\b\b\b\b\b\b\b\b\b\b\b\b\b\b\b\b\b\b\b\b\b\b\b\b\b\b\b\b\b\b\b\b\b\b\b\b\b\b\b\b\b\b\b\b\b\b\b\b\b\b\b\b\b\b\b\b\b\b\b\b\b\b\b\b\b\b\b\b\b\b\b\b\b\b\r20/20 [==============================] - 1s 30ms/step - loss: 18.5539 - root_mean_squared_error: 4.3074\n",
            "Epoch 44/50\n",
            "19/20 [===========================>..] - ETA: 0s - loss: 18.3777 - root_mean_squared_error: 4.2869"
          ]
        },
        {
          "output_type": "stream",
          "name": "stderr",
          "text": [
            "WARNING:tensorflow:Can save best model only with val_loss available, skipping.\n"
          ]
        },
        {
          "output_type": "stream",
          "name": "stdout",
          "text": [
            "\b\b\b\b\b\b\b\b\b\b\b\b\b\b\b\b\b\b\b\b\b\b\b\b\b\b\b\b\b\b\b\b\b\b\b\b\b\b\b\b\b\b\b\b\b\b\b\b\b\b\b\b\b\b\b\b\b\b\b\b\b\b\b\b\b\b\b\b\b\b\b\b\b\b\b\b\b\b\b\b\b\b\b\b\b\b\b\b\b\b\b\b\b\b\b\b\b\b\r20/20 [==============================] - 1s 28ms/step - loss: 18.4726 - root_mean_squared_error: 4.2980\n",
            "Epoch 45/50\n",
            "19/20 [===========================>..] - ETA: 0s - loss: 18.5187 - root_mean_squared_error: 4.3033"
          ]
        },
        {
          "output_type": "stream",
          "name": "stderr",
          "text": [
            "WARNING:tensorflow:Can save best model only with val_loss available, skipping.\n"
          ]
        },
        {
          "output_type": "stream",
          "name": "stdout",
          "text": [
            "\b\b\b\b\b\b\b\b\b\b\b\b\b\b\b\b\b\b\b\b\b\b\b\b\b\b\b\b\b\b\b\b\b\b\b\b\b\b\b\b\b\b\b\b\b\b\b\b\b\b\b\b\b\b\b\b\b\b\b\b\b\b\b\b\b\b\b\b\b\b\b\b\b\b\b\b\b\b\b\b\b\b\b\b\b\b\b\b\b\b\b\b\b\b\b\b\b\b\r20/20 [==============================] - 1s 30ms/step - loss: 18.4517 - root_mean_squared_error: 4.2955\n",
            "Epoch 46/50\n",
            "19/20 [===========================>..] - ETA: 0s - loss: 18.5323 - root_mean_squared_error: 4.3049"
          ]
        },
        {
          "output_type": "stream",
          "name": "stderr",
          "text": [
            "WARNING:tensorflow:Can save best model only with val_loss available, skipping.\n"
          ]
        },
        {
          "output_type": "stream",
          "name": "stdout",
          "text": [
            "\b\b\b\b\b\b\b\b\b\b\b\b\b\b\b\b\b\b\b\b\b\b\b\b\b\b\b\b\b\b\b\b\b\b\b\b\b\b\b\b\b\b\b\b\b\b\b\b\b\b\b\b\b\b\b\b\b\b\b\b\b\b\b\b\b\b\b\b\b\b\b\b\b\b\b\b\b\b\b\b\b\b\b\b\b\b\b\b\b\b\b\b\b\b\b\b\b\b\r20/20 [==============================] - 1s 30ms/step - loss: 18.4395 - root_mean_squared_error: 4.2941\n",
            "Epoch 47/50\n",
            "19/20 [===========================>..] - ETA: 0s - loss: 18.3314 - root_mean_squared_error: 4.2815"
          ]
        },
        {
          "output_type": "stream",
          "name": "stderr",
          "text": [
            "WARNING:tensorflow:Can save best model only with val_loss available, skipping.\n"
          ]
        },
        {
          "output_type": "stream",
          "name": "stdout",
          "text": [
            "\b\b\b\b\b\b\b\b\b\b\b\b\b\b\b\b\b\b\b\b\b\b\b\b\b\b\b\b\b\b\b\b\b\b\b\b\b\b\b\b\b\b\b\b\b\b\b\b\b\b\b\b\b\b\b\b\b\b\b\b\b\b\b\b\b\b\b\b\b\b\b\b\b\b\b\b\b\b\b\b\b\b\b\b\b\b\b\b\b\b\b\b\b\b\b\b\b\b\r20/20 [==============================] - 1s 30ms/step - loss: 18.4320 - root_mean_squared_error: 4.2932\n",
            "Epoch 48/50\n",
            "20/20 [==============================] - ETA: 0s - loss: 18.3899 - root_mean_squared_error: 4.2883"
          ]
        },
        {
          "output_type": "stream",
          "name": "stderr",
          "text": [
            "WARNING:tensorflow:Can save best model only with val_loss available, skipping.\n"
          ]
        },
        {
          "output_type": "stream",
          "name": "stdout",
          "text": [
            "\b\b\b\b\b\b\b\b\b\b\b\b\b\b\b\b\b\b\b\b\b\b\b\b\b\b\b\b\b\b\b\b\b\b\b\b\b\b\b\b\b\b\b\b\b\b\b\b\b\b\b\b\b\b\b\b\b\b\b\b\b\b\b\b\b\b\b\b\b\b\b\b\b\b\b\b\b\b\b\b\b\b\b\b\b\b\b\b\b\b\b\b\b\b\b\b\b\b\r20/20 [==============================] - 1s 33ms/step - loss: 18.3899 - root_mean_squared_error: 4.2883\n",
            "Epoch 49/50\n",
            "19/20 [===========================>..] - ETA: 0s - loss: 18.4746 - root_mean_squared_error: 4.2982"
          ]
        },
        {
          "output_type": "stream",
          "name": "stderr",
          "text": [
            "WARNING:tensorflow:Can save best model only with val_loss available, skipping.\n"
          ]
        },
        {
          "output_type": "stream",
          "name": "stdout",
          "text": [
            "\b\b\b\b\b\b\b\b\b\b\b\b\b\b\b\b\b\b\b\b\b\b\b\b\b\b\b\b\b\b\b\b\b\b\b\b\b\b\b\b\b\b\b\b\b\b\b\b\b\b\b\b\b\b\b\b\b\b\b\b\b\b\b\b\b\b\b\b\b\b\b\b\b\b\b\b\b\b\b\b\b\b\b\b\b\b\b\b\b\b\b\b\b\b\b\b\b\b\r20/20 [==============================] - 1s 44ms/step - loss: 18.3890 - root_mean_squared_error: 4.2882\n",
            "Epoch 50/50\n",
            "20/20 [==============================] - ETA: 0s - loss: 18.2983 - root_mean_squared_error: 4.2777"
          ]
        },
        {
          "output_type": "stream",
          "name": "stderr",
          "text": [
            "WARNING:tensorflow:Can save best model only with val_loss available, skipping.\n"
          ]
        },
        {
          "output_type": "stream",
          "name": "stdout",
          "text": [
            "\b\b\b\b\b\b\b\b\b\b\b\b\b\b\b\b\b\b\b\b\b\b\b\b\b\b\b\b\b\b\b\b\b\b\b\b\b\b\b\b\b\b\b\b\b\b\b\b\b\b\b\b\b\b\b\b\b\b\b\b\b\b\b\b\b\b\b\b\b\b\b\b\b\b\b\b\b\b\b\b\b\b\b\b\b\b\b\b\b\b\b\b\b\b\b\b\b\b\r20/20 [==============================] - 1s 45ms/step - loss: 18.2983 - root_mean_squared_error: 4.2777\n"
          ]
        },
        {
          "output_type": "execute_result",
          "data": {
            "text/plain": [
              "<keras.callbacks.History at 0x7f55a689e6d0>"
            ]
          },
          "metadata": {},
          "execution_count": 67
        }
      ]
    },
    {
      "cell_type": "code",
      "source": [],
      "metadata": {
        "id": "kT4ljb-jaWat"
      },
      "id": "kT4ljb-jaWat",
      "execution_count": null,
      "outputs": []
    },
    {
      "cell_type": "code",
      "source": [
        "yhat=list()\n",
        "for half_day in range(52):\n",
        "  x_input = X[12*half_day].reshape((1, input_size, n_features))\n",
        "  yhat.append(model.predict(x_input))\n",
        "\n"
      ],
      "metadata": {
        "colab": {
          "base_uri": "https://localhost:8080/"
        },
        "id": "IIubVQvWaWdM",
        "outputId": "53381c10-6476-4d7d-bcf9-7134a74a1264"
      },
      "id": "IIubVQvWaWdM",
      "execution_count": null,
      "outputs": [
        {
          "output_type": "stream",
          "name": "stdout",
          "text": [
            "1/1 [==============================] - 0s 175ms/step\n",
            "1/1 [==============================] - 0s 25ms/step\n",
            "1/1 [==============================] - 0s 26ms/step\n",
            "1/1 [==============================] - 0s 24ms/step\n",
            "1/1 [==============================] - 0s 29ms/step\n",
            "1/1 [==============================] - 0s 34ms/step\n",
            "1/1 [==============================] - 0s 23ms/step\n",
            "1/1 [==============================] - 0s 24ms/step\n",
            "1/1 [==============================] - 0s 24ms/step\n",
            "1/1 [==============================] - 0s 23ms/step\n",
            "1/1 [==============================] - 0s 31ms/step\n",
            "1/1 [==============================] - 0s 31ms/step\n",
            "1/1 [==============================] - 0s 26ms/step\n",
            "1/1 [==============================] - 0s 27ms/step\n",
            "1/1 [==============================] - 0s 24ms/step\n",
            "1/1 [==============================] - 0s 28ms/step\n",
            "1/1 [==============================] - 0s 24ms/step\n",
            "1/1 [==============================] - 0s 25ms/step\n",
            "1/1 [==============================] - 0s 23ms/step\n",
            "1/1 [==============================] - 0s 23ms/step\n",
            "1/1 [==============================] - 0s 24ms/step\n",
            "1/1 [==============================] - 0s 28ms/step\n",
            "1/1 [==============================] - 0s 28ms/step\n",
            "1/1 [==============================] - 0s 26ms/step\n",
            "1/1 [==============================] - 0s 26ms/step\n",
            "1/1 [==============================] - 0s 24ms/step\n",
            "1/1 [==============================] - 0s 24ms/step\n",
            "1/1 [==============================] - 0s 24ms/step\n",
            "1/1 [==============================] - 0s 31ms/step\n",
            "1/1 [==============================] - 0s 28ms/step\n",
            "1/1 [==============================] - 0s 27ms/step\n",
            "1/1 [==============================] - 0s 29ms/step\n",
            "1/1 [==============================] - 0s 25ms/step\n",
            "1/1 [==============================] - 0s 25ms/step\n",
            "1/1 [==============================] - 0s 24ms/step\n",
            "1/1 [==============================] - 0s 24ms/step\n",
            "1/1 [==============================] - 0s 27ms/step\n",
            "1/1 [==============================] - 0s 24ms/step\n",
            "1/1 [==============================] - 0s 25ms/step\n",
            "1/1 [==============================] - 0s 25ms/step\n",
            "1/1 [==============================] - 0s 26ms/step\n",
            "1/1 [==============================] - 0s 23ms/step\n",
            "1/1 [==============================] - 0s 24ms/step\n",
            "1/1 [==============================] - 0s 23ms/step\n",
            "1/1 [==============================] - 0s 26ms/step\n",
            "1/1 [==============================] - 0s 28ms/step\n",
            "1/1 [==============================] - 0s 28ms/step\n",
            "1/1 [==============================] - 0s 25ms/step\n",
            "1/1 [==============================] - 0s 23ms/step\n",
            "1/1 [==============================] - 0s 25ms/step\n",
            "1/1 [==============================] - 0s 27ms/step\n",
            "1/1 [==============================] - 0s 27ms/step\n"
          ]
        }
      ]
    },
    {
      "cell_type": "code",
      "source": [
        "yhat_df = pd.DataFrame(np.array(yhat).flatten(), columns = ['yhat'])"
      ],
      "metadata": {
        "id": "nJTyn31zaWxF"
      },
      "id": "nJTyn31zaWxF",
      "execution_count": null,
      "outputs": []
    },
    {
      "cell_type": "code",
      "source": [
        "yhat_df"
      ],
      "metadata": {
        "colab": {
          "base_uri": "https://localhost:8080/",
          "height": 424
        },
        "id": "SjHpRtmdaW01",
        "outputId": "a5c143b5-a963-47f5-d011-746091655bb1"
      },
      "id": "SjHpRtmdaW01",
      "execution_count": null,
      "outputs": [
        {
          "output_type": "execute_result",
          "data": {
            "text/plain": [
              "          yhat\n",
              "0    15.480156\n",
              "1    15.251646\n",
              "2    15.568432\n",
              "3    15.828644\n",
              "4    15.193152\n",
              "..         ...\n",
              "619  13.171495\n",
              "620  13.661772\n",
              "621  13.548859\n",
              "622  13.844753\n",
              "623  13.440976\n",
              "\n",
              "[624 rows x 1 columns]"
            ],
            "text/html": [
              "\n",
              "  <div id=\"df-cb1c3a5f-9478-4220-89cf-20e8410afb30\">\n",
              "    <div class=\"colab-df-container\">\n",
              "      <div>\n",
              "<style scoped>\n",
              "    .dataframe tbody tr th:only-of-type {\n",
              "        vertical-align: middle;\n",
              "    }\n",
              "\n",
              "    .dataframe tbody tr th {\n",
              "        vertical-align: top;\n",
              "    }\n",
              "\n",
              "    .dataframe thead th {\n",
              "        text-align: right;\n",
              "    }\n",
              "</style>\n",
              "<table border=\"1\" class=\"dataframe\">\n",
              "  <thead>\n",
              "    <tr style=\"text-align: right;\">\n",
              "      <th></th>\n",
              "      <th>yhat</th>\n",
              "    </tr>\n",
              "  </thead>\n",
              "  <tbody>\n",
              "    <tr>\n",
              "      <th>0</th>\n",
              "      <td>15.480156</td>\n",
              "    </tr>\n",
              "    <tr>\n",
              "      <th>1</th>\n",
              "      <td>15.251646</td>\n",
              "    </tr>\n",
              "    <tr>\n",
              "      <th>2</th>\n",
              "      <td>15.568432</td>\n",
              "    </tr>\n",
              "    <tr>\n",
              "      <th>3</th>\n",
              "      <td>15.828644</td>\n",
              "    </tr>\n",
              "    <tr>\n",
              "      <th>4</th>\n",
              "      <td>15.193152</td>\n",
              "    </tr>\n",
              "    <tr>\n",
              "      <th>...</th>\n",
              "      <td>...</td>\n",
              "    </tr>\n",
              "    <tr>\n",
              "      <th>619</th>\n",
              "      <td>13.171495</td>\n",
              "    </tr>\n",
              "    <tr>\n",
              "      <th>620</th>\n",
              "      <td>13.661772</td>\n",
              "    </tr>\n",
              "    <tr>\n",
              "      <th>621</th>\n",
              "      <td>13.548859</td>\n",
              "    </tr>\n",
              "    <tr>\n",
              "      <th>622</th>\n",
              "      <td>13.844753</td>\n",
              "    </tr>\n",
              "    <tr>\n",
              "      <th>623</th>\n",
              "      <td>13.440976</td>\n",
              "    </tr>\n",
              "  </tbody>\n",
              "</table>\n",
              "<p>624 rows × 1 columns</p>\n",
              "</div>\n",
              "      <button class=\"colab-df-convert\" onclick=\"convertToInteractive('df-cb1c3a5f-9478-4220-89cf-20e8410afb30')\"\n",
              "              title=\"Convert this dataframe to an interactive table.\"\n",
              "              style=\"display:none;\">\n",
              "        \n",
              "  <svg xmlns=\"http://www.w3.org/2000/svg\" height=\"24px\"viewBox=\"0 0 24 24\"\n",
              "       width=\"24px\">\n",
              "    <path d=\"M0 0h24v24H0V0z\" fill=\"none\"/>\n",
              "    <path d=\"M18.56 5.44l.94 2.06.94-2.06 2.06-.94-2.06-.94-.94-2.06-.94 2.06-2.06.94zm-11 1L8.5 8.5l.94-2.06 2.06-.94-2.06-.94L8.5 2.5l-.94 2.06-2.06.94zm10 10l.94 2.06.94-2.06 2.06-.94-2.06-.94-.94-2.06-.94 2.06-2.06.94z\"/><path d=\"M17.41 7.96l-1.37-1.37c-.4-.4-.92-.59-1.43-.59-.52 0-1.04.2-1.43.59L10.3 9.45l-7.72 7.72c-.78.78-.78 2.05 0 2.83L4 21.41c.39.39.9.59 1.41.59.51 0 1.02-.2 1.41-.59l7.78-7.78 2.81-2.81c.8-.78.8-2.07 0-2.86zM5.41 20L4 18.59l7.72-7.72 1.47 1.35L5.41 20z\"/>\n",
              "  </svg>\n",
              "      </button>\n",
              "      \n",
              "  <style>\n",
              "    .colab-df-container {\n",
              "      display:flex;\n",
              "      flex-wrap:wrap;\n",
              "      gap: 12px;\n",
              "    }\n",
              "\n",
              "    .colab-df-convert {\n",
              "      background-color: #E8F0FE;\n",
              "      border: none;\n",
              "      border-radius: 50%;\n",
              "      cursor: pointer;\n",
              "      display: none;\n",
              "      fill: #1967D2;\n",
              "      height: 32px;\n",
              "      padding: 0 0 0 0;\n",
              "      width: 32px;\n",
              "    }\n",
              "\n",
              "    .colab-df-convert:hover {\n",
              "      background-color: #E2EBFA;\n",
              "      box-shadow: 0px 1px 2px rgba(60, 64, 67, 0.3), 0px 1px 3px 1px rgba(60, 64, 67, 0.15);\n",
              "      fill: #174EA6;\n",
              "    }\n",
              "\n",
              "    [theme=dark] .colab-df-convert {\n",
              "      background-color: #3B4455;\n",
              "      fill: #D2E3FC;\n",
              "    }\n",
              "\n",
              "    [theme=dark] .colab-df-convert:hover {\n",
              "      background-color: #434B5C;\n",
              "      box-shadow: 0px 1px 3px 1px rgba(0, 0, 0, 0.15);\n",
              "      filter: drop-shadow(0px 1px 2px rgba(0, 0, 0, 0.3));\n",
              "      fill: #FFFFFF;\n",
              "    }\n",
              "  </style>\n",
              "\n",
              "      <script>\n",
              "        const buttonEl =\n",
              "          document.querySelector('#df-cb1c3a5f-9478-4220-89cf-20e8410afb30 button.colab-df-convert');\n",
              "        buttonEl.style.display =\n",
              "          google.colab.kernel.accessAllowed ? 'block' : 'none';\n",
              "\n",
              "        async function convertToInteractive(key) {\n",
              "          const element = document.querySelector('#df-cb1c3a5f-9478-4220-89cf-20e8410afb30');\n",
              "          const dataTable =\n",
              "            await google.colab.kernel.invokeFunction('convertToInteractive',\n",
              "                                                     [key], {});\n",
              "          if (!dataTable) return;\n",
              "\n",
              "          const docLinkHtml = 'Like what you see? Visit the ' +\n",
              "            '<a target=\"_blank\" href=https://colab.research.google.com/notebooks/data_table.ipynb>data table notebook</a>'\n",
              "            + ' to learn more about interactive tables.';\n",
              "          element.innerHTML = '';\n",
              "          dataTable['output_type'] = 'display_data';\n",
              "          await google.colab.output.renderOutput(dataTable, element);\n",
              "          const docLink = document.createElement('div');\n",
              "          docLink.innerHTML = docLinkHtml;\n",
              "          element.appendChild(docLink);\n",
              "        }\n",
              "      </script>\n",
              "    </div>\n",
              "  </div>\n",
              "  "
            ]
          },
          "metadata": {},
          "execution_count": 70
        }
      ]
    },
    {
      "cell_type": "code",
      "source": [
        "#x_input = X[-1].reshape((1, input_size, n_features))\n",
        "#yhat = model.predict(x_input)\n",
        "#yhat_df = pd.DataFrame(np.transpose(yhat), columns = ['yhat'])"
      ],
      "metadata": {
        "id": "W49tjAMgjIc7"
      },
      "id": "W49tjAMgjIc7",
      "execution_count": null,
      "outputs": []
    },
    {
      "cell_type": "code",
      "source": [
        "import pandas as pd \n",
        "yhat_times = pd.date_range('2023-02-01', periods=624, freq='1H')"
      ],
      "metadata": {
        "id": "oX3gzSOXrIsJ"
      },
      "id": "oX3gzSOXrIsJ",
      "execution_count": null,
      "outputs": []
    },
    {
      "cell_type": "code",
      "source": [
        "yhat_df['t_stamp']=yhat_times\n",
        "yhat_df"
      ],
      "metadata": {
        "colab": {
          "base_uri": "https://localhost:8080/",
          "height": 424
        },
        "id": "1ATF9ASOrIuY",
        "outputId": "e1819ff7-89fb-4aa4-80b9-9d1e8fccb4b2"
      },
      "id": "1ATF9ASOrIuY",
      "execution_count": null,
      "outputs": [
        {
          "output_type": "execute_result",
          "data": {
            "text/plain": [
              "          yhat             t_stamp\n",
              "0    15.480156 2023-02-01 00:00:00\n",
              "1    15.251646 2023-02-01 01:00:00\n",
              "2    15.568432 2023-02-01 02:00:00\n",
              "3    15.828644 2023-02-01 03:00:00\n",
              "4    15.193152 2023-02-01 04:00:00\n",
              "..         ...                 ...\n",
              "619  13.171495 2023-02-26 19:00:00\n",
              "620  13.661772 2023-02-26 20:00:00\n",
              "621  13.548859 2023-02-26 21:00:00\n",
              "622  13.844753 2023-02-26 22:00:00\n",
              "623  13.440976 2023-02-26 23:00:00\n",
              "\n",
              "[624 rows x 2 columns]"
            ],
            "text/html": [
              "\n",
              "  <div id=\"df-921e565b-5ce9-4828-96b9-e987244ead34\">\n",
              "    <div class=\"colab-df-container\">\n",
              "      <div>\n",
              "<style scoped>\n",
              "    .dataframe tbody tr th:only-of-type {\n",
              "        vertical-align: middle;\n",
              "    }\n",
              "\n",
              "    .dataframe tbody tr th {\n",
              "        vertical-align: top;\n",
              "    }\n",
              "\n",
              "    .dataframe thead th {\n",
              "        text-align: right;\n",
              "    }\n",
              "</style>\n",
              "<table border=\"1\" class=\"dataframe\">\n",
              "  <thead>\n",
              "    <tr style=\"text-align: right;\">\n",
              "      <th></th>\n",
              "      <th>yhat</th>\n",
              "      <th>t_stamp</th>\n",
              "    </tr>\n",
              "  </thead>\n",
              "  <tbody>\n",
              "    <tr>\n",
              "      <th>0</th>\n",
              "      <td>15.480156</td>\n",
              "      <td>2023-02-01 00:00:00</td>\n",
              "    </tr>\n",
              "    <tr>\n",
              "      <th>1</th>\n",
              "      <td>15.251646</td>\n",
              "      <td>2023-02-01 01:00:00</td>\n",
              "    </tr>\n",
              "    <tr>\n",
              "      <th>2</th>\n",
              "      <td>15.568432</td>\n",
              "      <td>2023-02-01 02:00:00</td>\n",
              "    </tr>\n",
              "    <tr>\n",
              "      <th>3</th>\n",
              "      <td>15.828644</td>\n",
              "      <td>2023-02-01 03:00:00</td>\n",
              "    </tr>\n",
              "    <tr>\n",
              "      <th>4</th>\n",
              "      <td>15.193152</td>\n",
              "      <td>2023-02-01 04:00:00</td>\n",
              "    </tr>\n",
              "    <tr>\n",
              "      <th>...</th>\n",
              "      <td>...</td>\n",
              "      <td>...</td>\n",
              "    </tr>\n",
              "    <tr>\n",
              "      <th>619</th>\n",
              "      <td>13.171495</td>\n",
              "      <td>2023-02-26 19:00:00</td>\n",
              "    </tr>\n",
              "    <tr>\n",
              "      <th>620</th>\n",
              "      <td>13.661772</td>\n",
              "      <td>2023-02-26 20:00:00</td>\n",
              "    </tr>\n",
              "    <tr>\n",
              "      <th>621</th>\n",
              "      <td>13.548859</td>\n",
              "      <td>2023-02-26 21:00:00</td>\n",
              "    </tr>\n",
              "    <tr>\n",
              "      <th>622</th>\n",
              "      <td>13.844753</td>\n",
              "      <td>2023-02-26 22:00:00</td>\n",
              "    </tr>\n",
              "    <tr>\n",
              "      <th>623</th>\n",
              "      <td>13.440976</td>\n",
              "      <td>2023-02-26 23:00:00</td>\n",
              "    </tr>\n",
              "  </tbody>\n",
              "</table>\n",
              "<p>624 rows × 2 columns</p>\n",
              "</div>\n",
              "      <button class=\"colab-df-convert\" onclick=\"convertToInteractive('df-921e565b-5ce9-4828-96b9-e987244ead34')\"\n",
              "              title=\"Convert this dataframe to an interactive table.\"\n",
              "              style=\"display:none;\">\n",
              "        \n",
              "  <svg xmlns=\"http://www.w3.org/2000/svg\" height=\"24px\"viewBox=\"0 0 24 24\"\n",
              "       width=\"24px\">\n",
              "    <path d=\"M0 0h24v24H0V0z\" fill=\"none\"/>\n",
              "    <path d=\"M18.56 5.44l.94 2.06.94-2.06 2.06-.94-2.06-.94-.94-2.06-.94 2.06-2.06.94zm-11 1L8.5 8.5l.94-2.06 2.06-.94-2.06-.94L8.5 2.5l-.94 2.06-2.06.94zm10 10l.94 2.06.94-2.06 2.06-.94-2.06-.94-.94-2.06-.94 2.06-2.06.94z\"/><path d=\"M17.41 7.96l-1.37-1.37c-.4-.4-.92-.59-1.43-.59-.52 0-1.04.2-1.43.59L10.3 9.45l-7.72 7.72c-.78.78-.78 2.05 0 2.83L4 21.41c.39.39.9.59 1.41.59.51 0 1.02-.2 1.41-.59l7.78-7.78 2.81-2.81c.8-.78.8-2.07 0-2.86zM5.41 20L4 18.59l7.72-7.72 1.47 1.35L5.41 20z\"/>\n",
              "  </svg>\n",
              "      </button>\n",
              "      \n",
              "  <style>\n",
              "    .colab-df-container {\n",
              "      display:flex;\n",
              "      flex-wrap:wrap;\n",
              "      gap: 12px;\n",
              "    }\n",
              "\n",
              "    .colab-df-convert {\n",
              "      background-color: #E8F0FE;\n",
              "      border: none;\n",
              "      border-radius: 50%;\n",
              "      cursor: pointer;\n",
              "      display: none;\n",
              "      fill: #1967D2;\n",
              "      height: 32px;\n",
              "      padding: 0 0 0 0;\n",
              "      width: 32px;\n",
              "    }\n",
              "\n",
              "    .colab-df-convert:hover {\n",
              "      background-color: #E2EBFA;\n",
              "      box-shadow: 0px 1px 2px rgba(60, 64, 67, 0.3), 0px 1px 3px 1px rgba(60, 64, 67, 0.15);\n",
              "      fill: #174EA6;\n",
              "    }\n",
              "\n",
              "    [theme=dark] .colab-df-convert {\n",
              "      background-color: #3B4455;\n",
              "      fill: #D2E3FC;\n",
              "    }\n",
              "\n",
              "    [theme=dark] .colab-df-convert:hover {\n",
              "      background-color: #434B5C;\n",
              "      box-shadow: 0px 1px 3px 1px rgba(0, 0, 0, 0.15);\n",
              "      filter: drop-shadow(0px 1px 2px rgba(0, 0, 0, 0.3));\n",
              "      fill: #FFFFFF;\n",
              "    }\n",
              "  </style>\n",
              "\n",
              "      <script>\n",
              "        const buttonEl =\n",
              "          document.querySelector('#df-921e565b-5ce9-4828-96b9-e987244ead34 button.colab-df-convert');\n",
              "        buttonEl.style.display =\n",
              "          google.colab.kernel.accessAllowed ? 'block' : 'none';\n",
              "\n",
              "        async function convertToInteractive(key) {\n",
              "          const element = document.querySelector('#df-921e565b-5ce9-4828-96b9-e987244ead34');\n",
              "          const dataTable =\n",
              "            await google.colab.kernel.invokeFunction('convertToInteractive',\n",
              "                                                     [key], {});\n",
              "          if (!dataTable) return;\n",
              "\n",
              "          const docLinkHtml = 'Like what you see? Visit the ' +\n",
              "            '<a target=\"_blank\" href=https://colab.research.google.com/notebooks/data_table.ipynb>data table notebook</a>'\n",
              "            + ' to learn more about interactive tables.';\n",
              "          element.innerHTML = '';\n",
              "          dataTable['output_type'] = 'display_data';\n",
              "          await google.colab.output.renderOutput(dataTable, element);\n",
              "          const docLink = document.createElement('div');\n",
              "          docLink.innerHTML = docLinkHtml;\n",
              "          element.appendChild(docLink);\n",
              "        }\n",
              "      </script>\n",
              "    </div>\n",
              "  </div>\n",
              "  "
            ]
          },
          "metadata": {},
          "execution_count": 78
        }
      ]
    },
    {
      "cell_type": "code",
      "source": [
        "import plotly.express as px\n",
        "import plotly.graph_objects as go\n",
        "df = px.data.iris()\n",
        "\n",
        "fig1 = px.line(my_final_df, x=\"ds\", y=\"floatvalue\")\n",
        "fig1.update_traces(line=dict(color = 'blue'))\n",
        "\n",
        "fig2 = px.line(yhat_df, x=\"t_stamp\", y=\"yhat\")\n",
        "fig2.update_traces(line=dict(color = 'red'))\n",
        "\n",
        "fig3 = go.Figure(data=fig1.data + fig2.data)\n",
        "fig3.show()"
      ],
      "metadata": {
        "colab": {
          "base_uri": "https://localhost:8080/",
          "height": 542
        },
        "id": "74_kDvbRrIwg",
        "outputId": "dbe25ad2-b05a-44c3-89dc-aa0a392509b3"
      },
      "id": "74_kDvbRrIwg",
      "execution_count": 87,
      "outputs": [
        {
          "output_type": "display_data",
          "data": {
            "text/html": [
              "<html>\n",
              "<head><meta charset=\"utf-8\" /></head>\n",
              "<body>\n",
              "    <div>            <script src=\"https://cdnjs.cloudflare.com/ajax/libs/mathjax/2.7.5/MathJax.js?config=TeX-AMS-MML_SVG\"></script><script type=\"text/javascript\">if (window.MathJax && window.MathJax.Hub && window.MathJax.Hub.Config) {window.MathJax.Hub.Config({SVG: {font: \"STIX-Web\"}});}</script>                <script type=\"text/javascript\">window.PlotlyConfig = {MathJaxConfig: 'local'};</script>\n",
              "        <script src=\"https://cdn.plot.ly/plotly-2.18.2.min.js\"></script>                <div id=\"69e5ed01-036e-418c-a0eb-260d662e31d0\" class=\"plotly-graph-div\" style=\"height:525px; width:100%;\"></div>            <script type=\"text/javascript\">                                    window.PLOTLYENV=window.PLOTLYENV || {};                                    if (document.getElementById(\"69e5ed01-036e-418c-a0eb-260d662e31d0\")) {                    Plotly.newPlot(                        \"69e5ed01-036e-418c-a0eb-260d662e31d0\",                        [{\"hovertemplate\":\"ds=%{x}<br>floatvalue=%{y}<extra></extra>\",\"legendgroup\":\"\",\"line\":{\"color\":\"blue\",\"dash\":\"solid\"},\"marker\":{\"symbol\":\"circle\"},\"mode\":\"lines\",\"name\":\"\",\"orientation\":\"v\",\"showlegend\":false,\"x\":[\"2023-02-01T00:00:00\",\"2023-02-01T01:00:00\",\"2023-02-01T02:00:00\",\"2023-02-01T03:00:00\",\"2023-02-01T04:00:00\",\"2023-02-01T05:00:00\",\"2023-02-01T06:00:00\",\"2023-02-01T07:00:00\",\"2023-02-01T08:00:00\",\"2023-02-01T09:00:00\",\"2023-02-01T10:00:00\",\"2023-02-01T11:00:00\",\"2023-02-01T12:00:00\",\"2023-02-01T13:00:00\",\"2023-02-01T14:00:00\",\"2023-02-01T15:00:00\",\"2023-02-01T16:00:00\",\"2023-02-01T17:00:00\",\"2023-02-01T18:00:00\",\"2023-02-01T19:00:00\",\"2023-02-01T20:00:00\",\"2023-02-01T21:00:00\",\"2023-02-01T22:00:00\",\"2023-02-01T23:00:00\",\"2023-02-02T00:00:00\",\"2023-02-02T01:00:00\",\"2023-02-02T02:00:00\",\"2023-02-02T03:00:00\",\"2023-02-02T04:00:00\",\"2023-02-02T05:00:00\",\"2023-02-02T06:00:00\",\"2023-02-02T07:00:00\",\"2023-02-02T08:00:00\",\"2023-02-02T09:00:00\",\"2023-02-02T10:00:00\",\"2023-02-02T11:00:00\",\"2023-02-02T12:00:00\",\"2023-02-02T13:00:00\",\"2023-02-02T14:00:00\",\"2023-02-02T15:00:00\",\"2023-02-02T16:00:00\",\"2023-02-02T17:00:00\",\"2023-02-02T18:00:00\",\"2023-02-02T19:00:00\",\"2023-02-02T20:00:00\",\"2023-02-02T21:00:00\",\"2023-02-02T22:00:00\",\"2023-02-02T23:00:00\",\"2023-02-03T00:00:00\",\"2023-02-03T01:00:00\",\"2023-02-03T02:00:00\",\"2023-02-03T03:00:00\",\"2023-02-03T04:00:00\",\"2023-02-03T05:00:00\",\"2023-02-03T06:00:00\",\"2023-02-03T07:00:00\",\"2023-02-03T08:00:00\",\"2023-02-03T09:00:00\",\"2023-02-03T10:00:00\",\"2023-02-03T11:00:00\",\"2023-02-03T12:00:00\",\"2023-02-03T13:00:00\",\"2023-02-03T14:00:00\",\"2023-02-03T15:00:00\",\"2023-02-03T16:00:00\",\"2023-02-03T17:00:00\",\"2023-02-03T18:00:00\",\"2023-02-03T19:00:00\",\"2023-02-03T20:00:00\",\"2023-02-03T21:00:00\",\"2023-02-03T22:00:00\",\"2023-02-03T23:00:00\",\"2023-02-04T00:00:00\",\"2023-02-04T01:00:00\",\"2023-02-04T02:00:00\",\"2023-02-04T03:00:00\",\"2023-02-04T04:00:00\",\"2023-02-04T05:00:00\",\"2023-02-04T06:00:00\",\"2023-02-04T07:00:00\",\"2023-02-04T08:00:00\",\"2023-02-04T09:00:00\",\"2023-02-04T10:00:00\",\"2023-02-04T11:00:00\",\"2023-02-04T12:00:00\",\"2023-02-04T13:00:00\",\"2023-02-04T14:00:00\",\"2023-02-04T15:00:00\",\"2023-02-04T16:00:00\",\"2023-02-04T17:00:00\",\"2023-02-04T18:00:00\",\"2023-02-04T19:00:00\",\"2023-02-04T20:00:00\",\"2023-02-04T21:00:00\",\"2023-02-04T22:00:00\",\"2023-02-04T23:00:00\",\"2023-02-05T00:00:00\",\"2023-02-05T01:00:00\",\"2023-02-05T02:00:00\",\"2023-02-05T03:00:00\",\"2023-02-05T04:00:00\",\"2023-02-05T05:00:00\",\"2023-02-05T06:00:00\",\"2023-02-05T07:00:00\",\"2023-02-05T08:00:00\",\"2023-02-05T09:00:00\",\"2023-02-05T10:00:00\",\"2023-02-05T11:00:00\",\"2023-02-05T12:00:00\",\"2023-02-05T13:00:00\",\"2023-02-05T14:00:00\",\"2023-02-05T15:00:00\",\"2023-02-05T16:00:00\",\"2023-02-05T17:00:00\",\"2023-02-05T18:00:00\",\"2023-02-05T19:00:00\",\"2023-02-05T20:00:00\",\"2023-02-05T21:00:00\",\"2023-02-05T22:00:00\",\"2023-02-05T23:00:00\",\"2023-02-06T00:00:00\",\"2023-02-06T01:00:00\",\"2023-02-06T02:00:00\",\"2023-02-06T03:00:00\",\"2023-02-06T04:00:00\",\"2023-02-06T05:00:00\",\"2023-02-06T06:00:00\",\"2023-02-06T07:00:00\",\"2023-02-06T08:00:00\",\"2023-02-06T09:00:00\",\"2023-02-06T10:00:00\",\"2023-02-06T11:00:00\",\"2023-02-06T12:00:00\",\"2023-02-06T13:00:00\",\"2023-02-06T14:00:00\",\"2023-02-06T15:00:00\",\"2023-02-06T16:00:00\",\"2023-02-06T17:00:00\",\"2023-02-06T18:00:00\",\"2023-02-06T19:00:00\",\"2023-02-06T20:00:00\",\"2023-02-06T21:00:00\",\"2023-02-06T22:00:00\",\"2023-02-06T23:00:00\",\"2023-02-07T00:00:00\",\"2023-02-07T01:00:00\",\"2023-02-07T02:00:00\",\"2023-02-07T03:00:00\",\"2023-02-07T04:00:00\",\"2023-02-07T05:00:00\",\"2023-02-07T06:00:00\",\"2023-02-07T07:00:00\",\"2023-02-07T08:00:00\",\"2023-02-07T09:00:00\",\"2023-02-07T10:00:00\",\"2023-02-07T11:00:00\",\"2023-02-07T12:00:00\",\"2023-02-07T13:00:00\",\"2023-02-07T14:00:00\",\"2023-02-07T15:00:00\",\"2023-02-07T16:00:00\",\"2023-02-07T17:00:00\",\"2023-02-07T18:00:00\",\"2023-02-07T19:00:00\",\"2023-02-07T20:00:00\",\"2023-02-07T21:00:00\",\"2023-02-07T22:00:00\",\"2023-02-07T23:00:00\",\"2023-02-08T00:00:00\",\"2023-02-08T01:00:00\",\"2023-02-08T02:00:00\",\"2023-02-08T03:00:00\",\"2023-02-08T04:00:00\",\"2023-02-08T05:00:00\",\"2023-02-08T06:00:00\",\"2023-02-08T07:00:00\",\"2023-02-08T08:00:00\",\"2023-02-08T09:00:00\",\"2023-02-08T10:00:00\",\"2023-02-08T11:00:00\",\"2023-02-08T12:00:00\",\"2023-02-08T13:00:00\",\"2023-02-08T14:00:00\",\"2023-02-08T15:00:00\",\"2023-02-08T16:00:00\",\"2023-02-08T17:00:00\",\"2023-02-08T18:00:00\",\"2023-02-08T19:00:00\",\"2023-02-08T20:00:00\",\"2023-02-08T21:00:00\",\"2023-02-08T22:00:00\",\"2023-02-08T23:00:00\",\"2023-02-09T00:00:00\",\"2023-02-09T01:00:00\",\"2023-02-09T02:00:00\",\"2023-02-09T03:00:00\",\"2023-02-09T04:00:00\",\"2023-02-09T05:00:00\",\"2023-02-09T06:00:00\",\"2023-02-09T07:00:00\",\"2023-02-09T08:00:00\",\"2023-02-09T09:00:00\",\"2023-02-09T10:00:00\",\"2023-02-09T11:00:00\",\"2023-02-09T12:00:00\",\"2023-02-09T13:00:00\",\"2023-02-09T14:00:00\",\"2023-02-09T15:00:00\",\"2023-02-09T16:00:00\",\"2023-02-09T17:00:00\",\"2023-02-09T18:00:00\",\"2023-02-09T19:00:00\",\"2023-02-09T20:00:00\",\"2023-02-09T21:00:00\",\"2023-02-09T22:00:00\",\"2023-02-09T23:00:00\",\"2023-02-10T00:00:00\",\"2023-02-10T01:00:00\",\"2023-02-10T02:00:00\",\"2023-02-10T03:00:00\",\"2023-02-10T04:00:00\",\"2023-02-10T05:00:00\",\"2023-02-10T06:00:00\",\"2023-02-10T07:00:00\",\"2023-02-10T08:00:00\",\"2023-02-10T09:00:00\",\"2023-02-10T10:00:00\",\"2023-02-10T11:00:00\",\"2023-02-10T12:00:00\",\"2023-02-10T13:00:00\",\"2023-02-10T14:00:00\",\"2023-02-10T15:00:00\",\"2023-02-10T16:00:00\",\"2023-02-10T17:00:00\",\"2023-02-10T18:00:00\",\"2023-02-10T19:00:00\",\"2023-02-10T20:00:00\",\"2023-02-10T21:00:00\",\"2023-02-10T22:00:00\",\"2023-02-10T23:00:00\",\"2023-02-11T00:00:00\",\"2023-02-11T01:00:00\",\"2023-02-11T02:00:00\",\"2023-02-11T03:00:00\",\"2023-02-11T04:00:00\",\"2023-02-11T05:00:00\",\"2023-02-11T06:00:00\",\"2023-02-11T07:00:00\",\"2023-02-11T08:00:00\",\"2023-02-11T09:00:00\",\"2023-02-11T10:00:00\",\"2023-02-11T11:00:00\",\"2023-02-11T12:00:00\",\"2023-02-11T13:00:00\",\"2023-02-11T14:00:00\",\"2023-02-11T15:00:00\",\"2023-02-11T16:00:00\",\"2023-02-11T17:00:00\",\"2023-02-11T18:00:00\",\"2023-02-11T19:00:00\",\"2023-02-11T20:00:00\",\"2023-02-11T21:00:00\",\"2023-02-11T22:00:00\",\"2023-02-11T23:00:00\",\"2023-02-12T00:00:00\",\"2023-02-12T01:00:00\",\"2023-02-12T02:00:00\",\"2023-02-12T03:00:00\",\"2023-02-12T04:00:00\",\"2023-02-12T05:00:00\",\"2023-02-12T06:00:00\",\"2023-02-12T07:00:00\",\"2023-02-12T08:00:00\",\"2023-02-12T09:00:00\",\"2023-02-12T10:00:00\",\"2023-02-12T11:00:00\",\"2023-02-12T12:00:00\",\"2023-02-12T13:00:00\",\"2023-02-12T14:00:00\",\"2023-02-12T15:00:00\",\"2023-02-12T16:00:00\",\"2023-02-12T17:00:00\",\"2023-02-12T18:00:00\",\"2023-02-12T19:00:00\",\"2023-02-12T20:00:00\",\"2023-02-12T21:00:00\",\"2023-02-12T22:00:00\",\"2023-02-12T23:00:00\",\"2023-02-13T00:00:00\",\"2023-02-13T01:00:00\",\"2023-02-13T02:00:00\",\"2023-02-13T03:00:00\",\"2023-02-13T04:00:00\",\"2023-02-13T05:00:00\",\"2023-02-13T06:00:00\",\"2023-02-13T07:00:00\",\"2023-02-13T08:00:00\",\"2023-02-13T09:00:00\",\"2023-02-13T10:00:00\",\"2023-02-13T11:00:00\",\"2023-02-13T12:00:00\",\"2023-02-13T13:00:00\",\"2023-02-13T14:00:00\",\"2023-02-13T15:00:00\",\"2023-02-13T16:00:00\",\"2023-02-13T17:00:00\",\"2023-02-13T18:00:00\",\"2023-02-13T19:00:00\",\"2023-02-13T20:00:00\",\"2023-02-13T21:00:00\",\"2023-02-13T22:00:00\",\"2023-02-13T23:00:00\",\"2023-02-14T00:00:00\",\"2023-02-14T01:00:00\",\"2023-02-14T02:00:00\",\"2023-02-14T03:00:00\",\"2023-02-14T04:00:00\",\"2023-02-14T05:00:00\",\"2023-02-14T06:00:00\",\"2023-02-14T07:00:00\",\"2023-02-14T08:00:00\",\"2023-02-14T09:00:00\",\"2023-02-14T10:00:00\",\"2023-02-14T11:00:00\",\"2023-02-14T12:00:00\",\"2023-02-14T13:00:00\",\"2023-02-14T14:00:00\",\"2023-02-14T15:00:00\",\"2023-02-14T16:00:00\",\"2023-02-14T17:00:00\",\"2023-02-14T18:00:00\",\"2023-02-14T19:00:00\",\"2023-02-14T20:00:00\",\"2023-02-14T21:00:00\",\"2023-02-14T22:00:00\",\"2023-02-14T23:00:00\",\"2023-02-15T00:00:00\",\"2023-02-15T01:00:00\",\"2023-02-15T02:00:00\",\"2023-02-15T03:00:00\",\"2023-02-15T04:00:00\",\"2023-02-15T05:00:00\",\"2023-02-15T06:00:00\",\"2023-02-15T07:00:00\",\"2023-02-15T08:00:00\",\"2023-02-15T09:00:00\",\"2023-02-15T10:00:00\",\"2023-02-15T11:00:00\",\"2023-02-15T12:00:00\",\"2023-02-15T13:00:00\",\"2023-02-15T14:00:00\",\"2023-02-15T15:00:00\",\"2023-02-15T16:00:00\",\"2023-02-15T17:00:00\",\"2023-02-15T18:00:00\",\"2023-02-15T19:00:00\",\"2023-02-15T20:00:00\",\"2023-02-15T21:00:00\",\"2023-02-15T22:00:00\",\"2023-02-15T23:00:00\",\"2023-02-16T00:00:00\",\"2023-02-16T01:00:00\",\"2023-02-16T02:00:00\",\"2023-02-16T03:00:00\",\"2023-02-16T04:00:00\",\"2023-02-16T05:00:00\",\"2023-02-16T06:00:00\",\"2023-02-16T07:00:00\",\"2023-02-16T08:00:00\",\"2023-02-16T09:00:00\",\"2023-02-16T10:00:00\",\"2023-02-16T11:00:00\",\"2023-02-16T12:00:00\",\"2023-02-16T13:00:00\",\"2023-02-16T14:00:00\",\"2023-02-16T15:00:00\",\"2023-02-16T16:00:00\",\"2023-02-16T17:00:00\",\"2023-02-16T18:00:00\",\"2023-02-16T19:00:00\",\"2023-02-16T20:00:00\",\"2023-02-16T21:00:00\",\"2023-02-16T22:00:00\",\"2023-02-16T23:00:00\",\"2023-02-17T00:00:00\",\"2023-02-17T01:00:00\",\"2023-02-17T02:00:00\",\"2023-02-17T03:00:00\",\"2023-02-17T04:00:00\",\"2023-02-17T05:00:00\",\"2023-02-17T06:00:00\",\"2023-02-17T07:00:00\",\"2023-02-17T08:00:00\",\"2023-02-17T09:00:00\",\"2023-02-17T10:00:00\",\"2023-02-17T11:00:00\",\"2023-02-17T12:00:00\",\"2023-02-17T13:00:00\",\"2023-02-17T14:00:00\",\"2023-02-17T15:00:00\",\"2023-02-17T16:00:00\",\"2023-02-17T17:00:00\",\"2023-02-17T18:00:00\",\"2023-02-17T19:00:00\",\"2023-02-17T20:00:00\",\"2023-02-17T21:00:00\",\"2023-02-17T22:00:00\",\"2023-02-17T23:00:00\",\"2023-02-18T00:00:00\",\"2023-02-18T01:00:00\",\"2023-02-18T02:00:00\",\"2023-02-18T03:00:00\",\"2023-02-18T04:00:00\",\"2023-02-18T05:00:00\",\"2023-02-18T06:00:00\",\"2023-02-18T07:00:00\",\"2023-02-18T08:00:00\",\"2023-02-18T09:00:00\",\"2023-02-18T10:00:00\",\"2023-02-18T11:00:00\",\"2023-02-18T12:00:00\",\"2023-02-18T13:00:00\",\"2023-02-18T14:00:00\",\"2023-02-18T15:00:00\",\"2023-02-18T16:00:00\",\"2023-02-18T17:00:00\",\"2023-02-18T18:00:00\",\"2023-02-18T19:00:00\",\"2023-02-18T20:00:00\",\"2023-02-18T21:00:00\",\"2023-02-18T22:00:00\",\"2023-02-18T23:00:00\",\"2023-02-19T00:00:00\",\"2023-02-19T01:00:00\",\"2023-02-19T02:00:00\",\"2023-02-19T03:00:00\",\"2023-02-19T04:00:00\",\"2023-02-19T05:00:00\",\"2023-02-19T06:00:00\",\"2023-02-19T07:00:00\",\"2023-02-19T08:00:00\",\"2023-02-19T09:00:00\",\"2023-02-19T10:00:00\",\"2023-02-19T11:00:00\",\"2023-02-19T12:00:00\",\"2023-02-19T13:00:00\",\"2023-02-19T14:00:00\",\"2023-02-19T15:00:00\",\"2023-02-19T16:00:00\",\"2023-02-19T17:00:00\",\"2023-02-19T18:00:00\",\"2023-02-19T19:00:00\",\"2023-02-19T20:00:00\",\"2023-02-19T21:00:00\",\"2023-02-19T22:00:00\",\"2023-02-19T23:00:00\",\"2023-02-20T00:00:00\",\"2023-02-20T01:00:00\",\"2023-02-20T02:00:00\",\"2023-02-20T03:00:00\",\"2023-02-20T04:00:00\",\"2023-02-20T05:00:00\",\"2023-02-20T06:00:00\",\"2023-02-20T07:00:00\",\"2023-02-20T08:00:00\",\"2023-02-20T09:00:00\",\"2023-02-20T10:00:00\",\"2023-02-20T11:00:00\",\"2023-02-20T12:00:00\",\"2023-02-20T13:00:00\",\"2023-02-20T14:00:00\",\"2023-02-20T15:00:00\",\"2023-02-20T16:00:00\",\"2023-02-20T17:00:00\",\"2023-02-20T18:00:00\",\"2023-02-20T19:00:00\",\"2023-02-20T20:00:00\",\"2023-02-20T21:00:00\",\"2023-02-20T22:00:00\",\"2023-02-20T23:00:00\",\"2023-02-21T00:00:00\",\"2023-02-21T01:00:00\",\"2023-02-21T02:00:00\",\"2023-02-21T03:00:00\",\"2023-02-21T04:00:00\",\"2023-02-21T05:00:00\",\"2023-02-21T06:00:00\",\"2023-02-21T07:00:00\",\"2023-02-21T08:00:00\",\"2023-02-21T09:00:00\",\"2023-02-21T10:00:00\",\"2023-02-21T11:00:00\",\"2023-02-21T12:00:00\",\"2023-02-21T13:00:00\",\"2023-02-21T14:00:00\",\"2023-02-21T15:00:00\",\"2023-02-21T16:00:00\",\"2023-02-21T17:00:00\",\"2023-02-21T18:00:00\",\"2023-02-21T19:00:00\",\"2023-02-21T20:00:00\",\"2023-02-21T21:00:00\",\"2023-02-21T22:00:00\",\"2023-02-21T23:00:00\",\"2023-02-22T00:00:00\",\"2023-02-22T01:00:00\",\"2023-02-22T02:00:00\",\"2023-02-22T03:00:00\",\"2023-02-22T04:00:00\",\"2023-02-22T05:00:00\",\"2023-02-22T06:00:00\",\"2023-02-22T07:00:00\",\"2023-02-22T08:00:00\",\"2023-02-22T09:00:00\",\"2023-02-22T10:00:00\",\"2023-02-22T11:00:00\",\"2023-02-22T12:00:00\",\"2023-02-22T13:00:00\",\"2023-02-22T14:00:00\",\"2023-02-22T15:00:00\",\"2023-02-22T16:00:00\",\"2023-02-22T17:00:00\",\"2023-02-22T18:00:00\",\"2023-02-22T19:00:00\",\"2023-02-22T20:00:00\",\"2023-02-22T21:00:00\",\"2023-02-22T22:00:00\",\"2023-02-22T23:00:00\",\"2023-02-23T00:00:00\",\"2023-02-23T01:00:00\",\"2023-02-23T02:00:00\",\"2023-02-23T03:00:00\",\"2023-02-23T04:00:00\",\"2023-02-23T05:00:00\",\"2023-02-23T06:00:00\",\"2023-02-23T07:00:00\",\"2023-02-23T08:00:00\",\"2023-02-23T09:00:00\",\"2023-02-23T10:00:00\",\"2023-02-23T11:00:00\",\"2023-02-23T12:00:00\",\"2023-02-23T13:00:00\",\"2023-02-23T14:00:00\",\"2023-02-23T15:00:00\",\"2023-02-23T16:00:00\",\"2023-02-23T17:00:00\",\"2023-02-23T18:00:00\",\"2023-02-23T19:00:00\",\"2023-02-23T20:00:00\",\"2023-02-23T21:00:00\",\"2023-02-23T22:00:00\",\"2023-02-23T23:00:00\",\"2023-02-24T00:00:00\",\"2023-02-24T01:00:00\",\"2023-02-24T02:00:00\",\"2023-02-24T03:00:00\",\"2023-02-24T04:00:00\",\"2023-02-24T05:00:00\",\"2023-02-24T06:00:00\",\"2023-02-24T07:00:00\",\"2023-02-24T08:00:00\",\"2023-02-24T09:00:00\",\"2023-02-24T10:00:00\",\"2023-02-24T11:00:00\",\"2023-02-24T12:00:00\",\"2023-02-24T13:00:00\",\"2023-02-24T14:00:00\",\"2023-02-24T15:00:00\",\"2023-02-24T16:00:00\",\"2023-02-24T17:00:00\",\"2023-02-24T18:00:00\",\"2023-02-24T19:00:00\",\"2023-02-24T20:00:00\",\"2023-02-24T21:00:00\",\"2023-02-24T22:00:00\",\"2023-02-24T23:00:00\",\"2023-02-25T00:00:00\",\"2023-02-25T01:00:00\",\"2023-02-25T02:00:00\",\"2023-02-25T03:00:00\",\"2023-02-25T04:00:00\",\"2023-02-25T05:00:00\",\"2023-02-25T06:00:00\",\"2023-02-25T07:00:00\",\"2023-02-25T08:00:00\",\"2023-02-25T09:00:00\",\"2023-02-25T10:00:00\",\"2023-02-25T11:00:00\",\"2023-02-25T12:00:00\",\"2023-02-25T13:00:00\",\"2023-02-25T14:00:00\",\"2023-02-25T15:00:00\",\"2023-02-25T16:00:00\",\"2023-02-25T17:00:00\",\"2023-02-25T18:00:00\",\"2023-02-25T19:00:00\",\"2023-02-25T20:00:00\",\"2023-02-25T21:00:00\",\"2023-02-25T22:00:00\",\"2023-02-25T23:00:00\",\"2023-02-26T00:00:00\",\"2023-02-26T01:00:00\",\"2023-02-26T02:00:00\",\"2023-02-26T03:00:00\",\"2023-02-26T04:00:00\",\"2023-02-26T05:00:00\",\"2023-02-26T06:00:00\",\"2023-02-26T07:00:00\",\"2023-02-26T08:00:00\",\"2023-02-26T09:00:00\",\"2023-02-26T10:00:00\",\"2023-02-26T11:00:00\",\"2023-02-26T12:00:00\",\"2023-02-26T13:00:00\",\"2023-02-26T14:00:00\",\"2023-02-26T15:00:00\",\"2023-02-26T16:00:00\",\"2023-02-26T17:00:00\",\"2023-02-26T18:00:00\",\"2023-02-26T19:00:00\",\"2023-02-26T20:00:00\",\"2023-02-26T21:00:00\",\"2023-02-26T22:00:00\",\"2023-02-26T23:00:00\",\"2023-02-27T00:00:00\",\"2023-02-27T01:00:00\",\"2023-02-27T02:00:00\",\"2023-02-27T03:00:00\",\"2023-02-27T04:00:00\",\"2023-02-27T05:00:00\",\"2023-02-27T06:00:00\",\"2023-02-27T07:00:00\",\"2023-02-27T08:00:00\",\"2023-02-27T09:00:00\",\"2023-02-27T10:00:00\",\"2023-02-27T11:00:00\",\"2023-02-27T12:00:00\",\"2023-02-27T13:00:00\",\"2023-02-27T14:00:00\",\"2023-02-27T15:00:00\",\"2023-02-27T16:00:00\",\"2023-02-27T17:00:00\",\"2023-02-27T18:00:00\",\"2023-02-27T19:00:00\",\"2023-02-27T20:00:00\",\"2023-02-27T21:00:00\",\"2023-02-27T22:00:00\",\"2023-02-27T23:00:00\",\"2023-02-28T00:00:00\",\"2023-02-28T01:00:00\",\"2023-02-28T02:00:00\",\"2023-02-28T03:00:00\",\"2023-02-28T04:00:00\",\"2023-02-28T05:00:00\",\"2023-02-28T06:00:00\",\"2023-02-28T07:00:00\",\"2023-02-28T08:00:00\",\"2023-02-28T09:00:00\",\"2023-02-28T10:00:00\",\"2023-02-28T11:00:00\",\"2023-02-28T12:00:00\",\"2023-02-28T13:00:00\",\"2023-02-28T14:00:00\",\"2023-02-28T15:00:00\",\"2023-02-28T16:00:00\",\"2023-02-28T17:00:00\",\"2023-02-28T18:00:00\",\"2023-02-28T19:00:00\",\"2023-02-28T20:00:00\",\"2023-02-28T21:00:00\",\"2023-02-28T22:00:00\",\"2023-02-28T23:00:00\"],\"xaxis\":\"x\",\"y\":[18.356562305697434,18.710471061811056,18.498388415477315,18.938417076168204,18.1058123933167,18.571294852182376,18.08706304329593,14.889804112825463,12.586858838582211,12.585538139638974,12.746899459535712,12.845071425804726,12.845071425804726,12.845071425804726,12.845071425804726,12.845071425804726,12.845071425804726,12.845071425804726,12.845071425804726,12.845071425804726,12.845071425804726,12.845071425804726,12.845071425804726,12.845071425804726,12.845071425804726,12.845071425804726,12.845071425804726,12.845071425804726,12.845071425804726,12.845071425804726,12.845071425804726,12.845071425804726,12.845071425804726,14.387172522368255,13.084289522732005,12.5437220429345,13.641334652900696,16.05559210049904,18.85607276565727,19.62573277508771,18.61144764216866,20.14875832763878,20.05097966334399,20.03234151005745,19.993312983008906,20.099664598703384,19.825928065084643,19.744935247633194,19.96074288231986,19.254517597310684,19.80893700364707,19.68290839656707,19.92239856104697,19.927688280741375,18.227501894298353,14.356907357109918,12.31905185753572,12.507595353207346,12.565854961710764,12.702031297886625,12.908363379930195,14.377391303286833,16.492904182494154,17.78893504067073,19.83994873851335,20.70332602183024,20.337154297993102,20.87476667197975,20.956853277033026,20.82069691022237,20.42051429489032,20.432658172515502,18.95277616140005,18.70421169624954,21.605957254951385,20.95932562658392,18.71144323677852,13.764886662476044,13.764886662476044,13.764886662476044,13.764886662476044,13.764886662476044,13.764886662476044,13.764886662476044,13.764886662476044,13.764886662476044,13.764886662476044,13.764886662476044,13.764886662476044,13.764886662476044,13.764886662476044,13.764886662476044,13.764886662476044,13.764886662476044,13.764886662476044,13.764886662476044,13.764886662476044,13.764886662476044,13.764886662476044,13.764886662476044,13.764886662476044,13.764886662476044,13.764886662476044,13.764886662476044,13.764886662476044,13.764886662476044,13.764886662476044,13.764886662476044,13.764886662476044,13.764886662476044,13.764886662476044,13.764886662476044,13.764886662476044,13.764886662476044,13.764886662476044,13.764886662476044,13.764886662476044,13.764886662476044,13.764886662476044,13.764886662476044,13.764886662476044,13.764886662476044,13.764886662476044,13.764886662476044,13.764886662476044,13.764886662476044,13.764886662476044,13.764886662476044,13.764886662476044,14.527322984510853,13.42059988724558,13.38120894395668,14.214226245880127,17.834118005883603,17.051200520550765,18.80466111714408,18.52500499378551,18.72578665126454,18.91534200052577,19.22712756792704,19.234815637548486,19.463179893234148,19.768752588945276,20.285991090343845,19.87457176383215,18.381084500826322,19.81444059477912,19.9627930608289,18.944889848249673,19.636067091963675,15.160251550896223,12.40956974710737,12.424802473613195,12.424802473613195,12.424802473613195,12.424802473613195,12.424802473613195,12.424802473613195,12.424802473613195,12.424802473613195,12.424802473613195,12.424802473613195,12.424802473613195,12.424802473613195,12.424802473613195,12.424802473613195,12.424802473613195,12.424802473613195,12.424802473613195,12.424802473613195,12.424802473613195,12.424802473613195,12.424802473613195,12.424802473613195,12.424802473613195,12.424802473613195,12.424802473613195,15.013752937316895,13.339922925700312,12.553209399500638,13.402198975174516,14.619038798592307,18.313304030655214,18.973078987815164,19.647752824172475,19.169358253479004,17.81561238333683,19.180023511250813,19.368545233313718,18.990990224091902,19.08322555600232,19.605266041225857,19.721142718666478,19.940856751151706,19.514203664028283,20.23137252860599,20.021998529848844,19.213525356206677,13.86671673733255,12.25618444487106,12.542987135802807,12.806954418154929,12.696444716718462,12.520431518554688,13.134056753187037,15.102737514685233,17.46954811153127,18.949247372860942,18.83333443566192,18.450989683469135,19.051668220466667,18.98105311739272,19.255061136709678,19.330235595703126,19.480373698267442,20.183293733841335,19.5227752395823,20.341010526100302,20.018213826959784,19.3104493171938,19.355723592970108,19.030518625823543,13.750671720852816,12.19142753236434,12.513107387732108,12.729148244100903,12.19555217689938,12.09266371305297,12.94132939220345,13.3588751088018,15.999011745889678,19.168293904654586,20.521541864594067,20.57096944881391,20.49118217669035,20.499134027732993,20.53584810582603,20.573110121267813,21.334472621779845,21.03494155101287,21.12857200125971,21.63418401751602,20.757367737685577,20.622018386378432,19.598998485467373,19.64401216814595,15.596231271189156,12.383713715004198,12.299587548668704,12.833111710018581,12.934419624787525,13.058222017790142,13.198999378043162,13.175663244985316,13.084375381469727,12.893259450793266,12.893259450793266,12.893259450793266,12.893259450793266,12.893259450793266,12.893259450793266,12.893259450793266,12.893259450793266,12.893259450793266,12.893259450793266,12.893259450793266,12.893259450793266,12.893259450793266,12.893259450793266,12.893259450793266,12.893259450793266,14.2929075349052,14.2929075349052,14.2929075349052,14.2929075349052,14.2929075349052,14.2929075349052,14.2929075349052,14.2929075349052,14.2929075349052,14.2929075349052,14.2929075349052,14.2929075349052,14.2929075349052,14.2929075349052,14.2929075349052,14.2929075349052,14.2929075349052,14.2929075349052,14.2929075349052,14.2929075349052,14.2929075349052,14.2929075349052,14.2929075349052,14.2929075349052,15.963232278823853,13.621577960857447,12.650592948650491,12.397470331192016,12.36977564408475,14.646821413108771,17.251822151504197,18.61843408857073,18.764846996998223,18.512418661544572,19.209309789869522,18.995797793070476,19.000532491420344,19.557355223475277,19.702172597249348,20.439207399213636,20.51231780950574,20.06978420309118,19.854233808920416,19.849281576295564,20.439630773332382,18.99407853863456,18.523702177736496,13.602296829223633,13.327422868637811,13.154817322427911,13.031831616621751,12.932960614562035,13.06228364443948,13.407308636730864,13.080722734332085,13.862497491102951,16.698528414866963,18.90231448008602,19.63693216258082,19.548260791242615,19.89237926375698,19.796186747616286,19.972882282032685,18.793105083963145,16.739198492478955,18.210643062988918,18.97584063307683,19.835977249145508,19.08154489123632,15.97983086016751,12.594292115474094,12.487859485767506,12.859368478098224,12.859368478098224,13.105886629072286,12.997003358953139,12.85958323876063,12.486962261906376,13.110513612733666,13.626680374145508,16.805199204421626,17.45768066662461,16.152777699658472,17.992986329396565,17.27963937634099,18.825490640410294,15.015831359445233,13.169681527721348,13.734351053959182,17.878831258634243,18.528660242674782,19.76298921616351,20.648100705754835,18.134023160350566,13.433073144970518,12.710086645903411,13.070604012229225,13.019951874647683,12.921955151665479,12.536480346196134,12.259409094510014,13.130964730532115,14.255719717811136,18.478149625990127,19.799637541478994,20.132329175261415,20.148603998819986,20.082433994905447,20.69090481382428,20.288904444376627,20.495941797892254,20.284859904536493,19.206342140833538,21.078348776537503,20.511637687683105,19.875028483072917,20.228268501086113,19.659618473652774,19.961891911512502,18.947085469405845,14.19375228881836,14.19375228881836,13.29880201426986,13.447558968407767,13.508588173810173,13.901432904330166,16.754988101933964,19.902422220429028,21.533744446066923,22.070765258259858,20.78498712799253,15.157436707440544,13.612593709057524,19.209259678677814,20.30688877508674,20.04828387337762,19.633218318858045,19.411353130214263,21.329270955992907,19.368734215790372,19.30398478772905,15.742585685729981,13.36739683832441,13.449043526793972,12.941615063509495,12.234229129293691,12.787725720140669,12.863198652267457,12.863198652267457,12.863198652267457,12.863198652267457,12.863198652267457,12.863198652267457,12.863198652267457,12.863198652267457,12.863198652267457,12.863198652267457,12.863198652267457,12.863198652267457,12.863198652267457,12.863198652267457,12.863198652267457,12.863198652267457,12.863198652267457,12.863198652267457,12.863198652267457,12.863198652267457,12.863198652267457,12.863198652267457,12.863198652267457,12.863198652267457,14.407219166225858,14.407219166225858,14.407219166225858,14.407219166225858,14.407219166225858,14.407219166225858,14.407219166225858,14.407219166225858,14.407219166225858,14.407219166225858,14.407219166225858,14.407219166225858,14.407219166225858,14.407219166225858,14.407219166225858,14.407219166225858,14.407219166225858,14.407219166225858,14.407219166225858,14.407219166225858,14.407219166225858,14.407219166225858,14.407219166225858,14.160550748384916,12.98744076893742,12.946138679981232,14.974078149061937,17.36810216830887,18.40659500658512,19.15246876648494,19.13928053876479,18.70570664935642,18.683613090248375,18.776877141881872,18.99912378232773,19.20786508391885,18.641789423094856,19.4795960596163,19.56642473765782,20.256522440910338,20.801247255645528,21.104635812022202,20.904567350421036,19.716595104762487,19.204919238149383,14.79006697845459,12.423621473178057,12.661677223315342,12.779092687549014,12.813328343279222,12.985689293566368,13.717641345659892,15.725563020634471,17.215978765846195,18.994124215746684,20.735965553082917,19.46579896291097,20.45314050176341,20.69403320670928,20.561685652959916,20.471533101075774,20.369083461307344,19.815639893701473,21.0891866849337,19.617179807448228,21.506942938573612,20.841256433374742,19.444894083288332,16.993735399553852,12.995457125381686,12.372296202010002,12.469198001755608,13.088404683099277,12.84016367594401,13.386322848937091,14.11714399322983,16.932572037426393,18.55297285510648,19.73744343751229,20.34230582373483,20.14488066027978,16.069991781691876,16.069991781691876,16.069991781691876,16.069991781691876,16.069991781691876,16.069991781691876,16.069991781691876,16.069991781691876,16.069991781691876,16.069991781691876,16.069991781691876,16.069991781691876,16.069991781691876,16.069991781691876,16.069991781691876,16.069991781691876,16.069991781691876,15.419096747110057,15.419096747110057,15.419096747110057,14.959283638000489,16.823631286621094,17.809789581020382,20.05322141232698,19.948231028087104,19.896274909698707,19.755250199200354,19.98056767949995,19.634487919691132,19.883616427441577,15.514867782592773,14.73133326848348,14.987641743251256,15.44682314624525,15.873621073636142,15.873621073636142,15.873621073636142,15.873621073636142,15.14703893661499,14.560185821963028,14.399819381837922,14.70902992218964,14.918294767393682,16.981137648560946,20.308882077534992,22.471262496194722,22.619610728987727,21.911644843687494,22.056071308995946,21.124415342974814,19.6266494286366,20.44209061899493,21.015754524030182,19.48990460578969,19.864052317500892,20.896118917582946,19.434512201016837,20.257762143641344,19.05093313383576,12.964389623444657,12.24621740749904,12.411170753080453,13.345863372802734,13.503306558687393,13.64732579539593,13.76178122238374,13.633604907989502,13.589727654601589,13.64695458258352,13.76632900238037,13.774075919931585,13.494058903525858,13.356455508400412,13.371844263842506,13.607113119381577,13.936900523401075,14.1362804665285,14.186905536386702,14.231983127878673,14.182253902119802,14.169635946733239,14.142560958862305,14.142560958862305,14.142560958862305,14.142560958862305,14.142560958862305,14.142560958862305,14.142560958862305,14.142560958862305,14.142560958862305,14.142560958862305,14.142560958862305,14.142560958862305,14.142560958862305,14.142560958862305,14.142560958862305,14.142560958862305,14.142560958862305,14.142560958862305,14.142560958862305,14.142560958862305,14.142560958862305,14.142560958862305,15.635209560394287,15.635209560394287,15.635209560394287,15.635209560394287,13.95442108880906,13.136661042107477,13.136661042107477,13.38708814584984,12.82607325547033,12.500744177094589,14.565024813016256,13.974087781839437,17.410088255785514,19.10053415214066,18.43188816227325,19.47173609433474,18.792254832055832,18.74808370563346,18.978203328450522,19.499141076031854,19.4473476264313,19.50119723615975,19.27173960294655,19.120692089625766,18.608958575742463,17.284025206389252,18.201837094160762,18.443190567976945,13.403629009540264,12.573818147644516,12.67732276916504,12.67732276916504,13.072240822655814,12.962649025134187,13.125388194174661,12.883752397496066,13.317403901707042,15.167708727621264,16.65629036937441,18.089025512337685,19.41197255163482,19.4366181561736,19.771867982039215,19.17242936442669,17.86404312314011,19.010758573991538],\"yaxis\":\"y\",\"type\":\"scatter\"},{\"hovertemplate\":\"t_stamp=%{x}<br>yhat=%{y}<extra></extra>\",\"legendgroup\":\"\",\"line\":{\"color\":\"red\",\"dash\":\"solid\"},\"marker\":{\"symbol\":\"circle\"},\"mode\":\"lines\",\"name\":\"\",\"orientation\":\"v\",\"showlegend\":false,\"x\":[\"2023-02-01T00:00:00\",\"2023-02-01T01:00:00\",\"2023-02-01T02:00:00\",\"2023-02-01T03:00:00\",\"2023-02-01T04:00:00\",\"2023-02-01T05:00:00\",\"2023-02-01T06:00:00\",\"2023-02-01T07:00:00\",\"2023-02-01T08:00:00\",\"2023-02-01T09:00:00\",\"2023-02-01T10:00:00\",\"2023-02-01T11:00:00\",\"2023-02-01T12:00:00\",\"2023-02-01T13:00:00\",\"2023-02-01T14:00:00\",\"2023-02-01T15:00:00\",\"2023-02-01T16:00:00\",\"2023-02-01T17:00:00\",\"2023-02-01T18:00:00\",\"2023-02-01T19:00:00\",\"2023-02-01T20:00:00\",\"2023-02-01T21:00:00\",\"2023-02-01T22:00:00\",\"2023-02-01T23:00:00\",\"2023-02-02T00:00:00\",\"2023-02-02T01:00:00\",\"2023-02-02T02:00:00\",\"2023-02-02T03:00:00\",\"2023-02-02T04:00:00\",\"2023-02-02T05:00:00\",\"2023-02-02T06:00:00\",\"2023-02-02T07:00:00\",\"2023-02-02T08:00:00\",\"2023-02-02T09:00:00\",\"2023-02-02T10:00:00\",\"2023-02-02T11:00:00\",\"2023-02-02T12:00:00\",\"2023-02-02T13:00:00\",\"2023-02-02T14:00:00\",\"2023-02-02T15:00:00\",\"2023-02-02T16:00:00\",\"2023-02-02T17:00:00\",\"2023-02-02T18:00:00\",\"2023-02-02T19:00:00\",\"2023-02-02T20:00:00\",\"2023-02-02T21:00:00\",\"2023-02-02T22:00:00\",\"2023-02-02T23:00:00\",\"2023-02-03T00:00:00\",\"2023-02-03T01:00:00\",\"2023-02-03T02:00:00\",\"2023-02-03T03:00:00\",\"2023-02-03T04:00:00\",\"2023-02-03T05:00:00\",\"2023-02-03T06:00:00\",\"2023-02-03T07:00:00\",\"2023-02-03T08:00:00\",\"2023-02-03T09:00:00\",\"2023-02-03T10:00:00\",\"2023-02-03T11:00:00\",\"2023-02-03T12:00:00\",\"2023-02-03T13:00:00\",\"2023-02-03T14:00:00\",\"2023-02-03T15:00:00\",\"2023-02-03T16:00:00\",\"2023-02-03T17:00:00\",\"2023-02-03T18:00:00\",\"2023-02-03T19:00:00\",\"2023-02-03T20:00:00\",\"2023-02-03T21:00:00\",\"2023-02-03T22:00:00\",\"2023-02-03T23:00:00\",\"2023-02-04T00:00:00\",\"2023-02-04T01:00:00\",\"2023-02-04T02:00:00\",\"2023-02-04T03:00:00\",\"2023-02-04T04:00:00\",\"2023-02-04T05:00:00\",\"2023-02-04T06:00:00\",\"2023-02-04T07:00:00\",\"2023-02-04T08:00:00\",\"2023-02-04T09:00:00\",\"2023-02-04T10:00:00\",\"2023-02-04T11:00:00\",\"2023-02-04T12:00:00\",\"2023-02-04T13:00:00\",\"2023-02-04T14:00:00\",\"2023-02-04T15:00:00\",\"2023-02-04T16:00:00\",\"2023-02-04T17:00:00\",\"2023-02-04T18:00:00\",\"2023-02-04T19:00:00\",\"2023-02-04T20:00:00\",\"2023-02-04T21:00:00\",\"2023-02-04T22:00:00\",\"2023-02-04T23:00:00\",\"2023-02-05T00:00:00\",\"2023-02-05T01:00:00\",\"2023-02-05T02:00:00\",\"2023-02-05T03:00:00\",\"2023-02-05T04:00:00\",\"2023-02-05T05:00:00\",\"2023-02-05T06:00:00\",\"2023-02-05T07:00:00\",\"2023-02-05T08:00:00\",\"2023-02-05T09:00:00\",\"2023-02-05T10:00:00\",\"2023-02-05T11:00:00\",\"2023-02-05T12:00:00\",\"2023-02-05T13:00:00\",\"2023-02-05T14:00:00\",\"2023-02-05T15:00:00\",\"2023-02-05T16:00:00\",\"2023-02-05T17:00:00\",\"2023-02-05T18:00:00\",\"2023-02-05T19:00:00\",\"2023-02-05T20:00:00\",\"2023-02-05T21:00:00\",\"2023-02-05T22:00:00\",\"2023-02-05T23:00:00\",\"2023-02-06T00:00:00\",\"2023-02-06T01:00:00\",\"2023-02-06T02:00:00\",\"2023-02-06T03:00:00\",\"2023-02-06T04:00:00\",\"2023-02-06T05:00:00\",\"2023-02-06T06:00:00\",\"2023-02-06T07:00:00\",\"2023-02-06T08:00:00\",\"2023-02-06T09:00:00\",\"2023-02-06T10:00:00\",\"2023-02-06T11:00:00\",\"2023-02-06T12:00:00\",\"2023-02-06T13:00:00\",\"2023-02-06T14:00:00\",\"2023-02-06T15:00:00\",\"2023-02-06T16:00:00\",\"2023-02-06T17:00:00\",\"2023-02-06T18:00:00\",\"2023-02-06T19:00:00\",\"2023-02-06T20:00:00\",\"2023-02-06T21:00:00\",\"2023-02-06T22:00:00\",\"2023-02-06T23:00:00\",\"2023-02-07T00:00:00\",\"2023-02-07T01:00:00\",\"2023-02-07T02:00:00\",\"2023-02-07T03:00:00\",\"2023-02-07T04:00:00\",\"2023-02-07T05:00:00\",\"2023-02-07T06:00:00\",\"2023-02-07T07:00:00\",\"2023-02-07T08:00:00\",\"2023-02-07T09:00:00\",\"2023-02-07T10:00:00\",\"2023-02-07T11:00:00\",\"2023-02-07T12:00:00\",\"2023-02-07T13:00:00\",\"2023-02-07T14:00:00\",\"2023-02-07T15:00:00\",\"2023-02-07T16:00:00\",\"2023-02-07T17:00:00\",\"2023-02-07T18:00:00\",\"2023-02-07T19:00:00\",\"2023-02-07T20:00:00\",\"2023-02-07T21:00:00\",\"2023-02-07T22:00:00\",\"2023-02-07T23:00:00\",\"2023-02-08T00:00:00\",\"2023-02-08T01:00:00\",\"2023-02-08T02:00:00\",\"2023-02-08T03:00:00\",\"2023-02-08T04:00:00\",\"2023-02-08T05:00:00\",\"2023-02-08T06:00:00\",\"2023-02-08T07:00:00\",\"2023-02-08T08:00:00\",\"2023-02-08T09:00:00\",\"2023-02-08T10:00:00\",\"2023-02-08T11:00:00\",\"2023-02-08T12:00:00\",\"2023-02-08T13:00:00\",\"2023-02-08T14:00:00\",\"2023-02-08T15:00:00\",\"2023-02-08T16:00:00\",\"2023-02-08T17:00:00\",\"2023-02-08T18:00:00\",\"2023-02-08T19:00:00\",\"2023-02-08T20:00:00\",\"2023-02-08T21:00:00\",\"2023-02-08T22:00:00\",\"2023-02-08T23:00:00\",\"2023-02-09T00:00:00\",\"2023-02-09T01:00:00\",\"2023-02-09T02:00:00\",\"2023-02-09T03:00:00\",\"2023-02-09T04:00:00\",\"2023-02-09T05:00:00\",\"2023-02-09T06:00:00\",\"2023-02-09T07:00:00\",\"2023-02-09T08:00:00\",\"2023-02-09T09:00:00\",\"2023-02-09T10:00:00\",\"2023-02-09T11:00:00\",\"2023-02-09T12:00:00\",\"2023-02-09T13:00:00\",\"2023-02-09T14:00:00\",\"2023-02-09T15:00:00\",\"2023-02-09T16:00:00\",\"2023-02-09T17:00:00\",\"2023-02-09T18:00:00\",\"2023-02-09T19:00:00\",\"2023-02-09T20:00:00\",\"2023-02-09T21:00:00\",\"2023-02-09T22:00:00\",\"2023-02-09T23:00:00\",\"2023-02-10T00:00:00\",\"2023-02-10T01:00:00\",\"2023-02-10T02:00:00\",\"2023-02-10T03:00:00\",\"2023-02-10T04:00:00\",\"2023-02-10T05:00:00\",\"2023-02-10T06:00:00\",\"2023-02-10T07:00:00\",\"2023-02-10T08:00:00\",\"2023-02-10T09:00:00\",\"2023-02-10T10:00:00\",\"2023-02-10T11:00:00\",\"2023-02-10T12:00:00\",\"2023-02-10T13:00:00\",\"2023-02-10T14:00:00\",\"2023-02-10T15:00:00\",\"2023-02-10T16:00:00\",\"2023-02-10T17:00:00\",\"2023-02-10T18:00:00\",\"2023-02-10T19:00:00\",\"2023-02-10T20:00:00\",\"2023-02-10T21:00:00\",\"2023-02-10T22:00:00\",\"2023-02-10T23:00:00\",\"2023-02-11T00:00:00\",\"2023-02-11T01:00:00\",\"2023-02-11T02:00:00\",\"2023-02-11T03:00:00\",\"2023-02-11T04:00:00\",\"2023-02-11T05:00:00\",\"2023-02-11T06:00:00\",\"2023-02-11T07:00:00\",\"2023-02-11T08:00:00\",\"2023-02-11T09:00:00\",\"2023-02-11T10:00:00\",\"2023-02-11T11:00:00\",\"2023-02-11T12:00:00\",\"2023-02-11T13:00:00\",\"2023-02-11T14:00:00\",\"2023-02-11T15:00:00\",\"2023-02-11T16:00:00\",\"2023-02-11T17:00:00\",\"2023-02-11T18:00:00\",\"2023-02-11T19:00:00\",\"2023-02-11T20:00:00\",\"2023-02-11T21:00:00\",\"2023-02-11T22:00:00\",\"2023-02-11T23:00:00\",\"2023-02-12T00:00:00\",\"2023-02-12T01:00:00\",\"2023-02-12T02:00:00\",\"2023-02-12T03:00:00\",\"2023-02-12T04:00:00\",\"2023-02-12T05:00:00\",\"2023-02-12T06:00:00\",\"2023-02-12T07:00:00\",\"2023-02-12T08:00:00\",\"2023-02-12T09:00:00\",\"2023-02-12T10:00:00\",\"2023-02-12T11:00:00\",\"2023-02-12T12:00:00\",\"2023-02-12T13:00:00\",\"2023-02-12T14:00:00\",\"2023-02-12T15:00:00\",\"2023-02-12T16:00:00\",\"2023-02-12T17:00:00\",\"2023-02-12T18:00:00\",\"2023-02-12T19:00:00\",\"2023-02-12T20:00:00\",\"2023-02-12T21:00:00\",\"2023-02-12T22:00:00\",\"2023-02-12T23:00:00\",\"2023-02-13T00:00:00\",\"2023-02-13T01:00:00\",\"2023-02-13T02:00:00\",\"2023-02-13T03:00:00\",\"2023-02-13T04:00:00\",\"2023-02-13T05:00:00\",\"2023-02-13T06:00:00\",\"2023-02-13T07:00:00\",\"2023-02-13T08:00:00\",\"2023-02-13T09:00:00\",\"2023-02-13T10:00:00\",\"2023-02-13T11:00:00\",\"2023-02-13T12:00:00\",\"2023-02-13T13:00:00\",\"2023-02-13T14:00:00\",\"2023-02-13T15:00:00\",\"2023-02-13T16:00:00\",\"2023-02-13T17:00:00\",\"2023-02-13T18:00:00\",\"2023-02-13T19:00:00\",\"2023-02-13T20:00:00\",\"2023-02-13T21:00:00\",\"2023-02-13T22:00:00\",\"2023-02-13T23:00:00\",\"2023-02-14T00:00:00\",\"2023-02-14T01:00:00\",\"2023-02-14T02:00:00\",\"2023-02-14T03:00:00\",\"2023-02-14T04:00:00\",\"2023-02-14T05:00:00\",\"2023-02-14T06:00:00\",\"2023-02-14T07:00:00\",\"2023-02-14T08:00:00\",\"2023-02-14T09:00:00\",\"2023-02-14T10:00:00\",\"2023-02-14T11:00:00\",\"2023-02-14T12:00:00\",\"2023-02-14T13:00:00\",\"2023-02-14T14:00:00\",\"2023-02-14T15:00:00\",\"2023-02-14T16:00:00\",\"2023-02-14T17:00:00\",\"2023-02-14T18:00:00\",\"2023-02-14T19:00:00\",\"2023-02-14T20:00:00\",\"2023-02-14T21:00:00\",\"2023-02-14T22:00:00\",\"2023-02-14T23:00:00\",\"2023-02-15T00:00:00\",\"2023-02-15T01:00:00\",\"2023-02-15T02:00:00\",\"2023-02-15T03:00:00\",\"2023-02-15T04:00:00\",\"2023-02-15T05:00:00\",\"2023-02-15T06:00:00\",\"2023-02-15T07:00:00\",\"2023-02-15T08:00:00\",\"2023-02-15T09:00:00\",\"2023-02-15T10:00:00\",\"2023-02-15T11:00:00\",\"2023-02-15T12:00:00\",\"2023-02-15T13:00:00\",\"2023-02-15T14:00:00\",\"2023-02-15T15:00:00\",\"2023-02-15T16:00:00\",\"2023-02-15T17:00:00\",\"2023-02-15T18:00:00\",\"2023-02-15T19:00:00\",\"2023-02-15T20:00:00\",\"2023-02-15T21:00:00\",\"2023-02-15T22:00:00\",\"2023-02-15T23:00:00\",\"2023-02-16T00:00:00\",\"2023-02-16T01:00:00\",\"2023-02-16T02:00:00\",\"2023-02-16T03:00:00\",\"2023-02-16T04:00:00\",\"2023-02-16T05:00:00\",\"2023-02-16T06:00:00\",\"2023-02-16T07:00:00\",\"2023-02-16T08:00:00\",\"2023-02-16T09:00:00\",\"2023-02-16T10:00:00\",\"2023-02-16T11:00:00\",\"2023-02-16T12:00:00\",\"2023-02-16T13:00:00\",\"2023-02-16T14:00:00\",\"2023-02-16T15:00:00\",\"2023-02-16T16:00:00\",\"2023-02-16T17:00:00\",\"2023-02-16T18:00:00\",\"2023-02-16T19:00:00\",\"2023-02-16T20:00:00\",\"2023-02-16T21:00:00\",\"2023-02-16T22:00:00\",\"2023-02-16T23:00:00\",\"2023-02-17T00:00:00\",\"2023-02-17T01:00:00\",\"2023-02-17T02:00:00\",\"2023-02-17T03:00:00\",\"2023-02-17T04:00:00\",\"2023-02-17T05:00:00\",\"2023-02-17T06:00:00\",\"2023-02-17T07:00:00\",\"2023-02-17T08:00:00\",\"2023-02-17T09:00:00\",\"2023-02-17T10:00:00\",\"2023-02-17T11:00:00\",\"2023-02-17T12:00:00\",\"2023-02-17T13:00:00\",\"2023-02-17T14:00:00\",\"2023-02-17T15:00:00\",\"2023-02-17T16:00:00\",\"2023-02-17T17:00:00\",\"2023-02-17T18:00:00\",\"2023-02-17T19:00:00\",\"2023-02-17T20:00:00\",\"2023-02-17T21:00:00\",\"2023-02-17T22:00:00\",\"2023-02-17T23:00:00\",\"2023-02-18T00:00:00\",\"2023-02-18T01:00:00\",\"2023-02-18T02:00:00\",\"2023-02-18T03:00:00\",\"2023-02-18T04:00:00\",\"2023-02-18T05:00:00\",\"2023-02-18T06:00:00\",\"2023-02-18T07:00:00\",\"2023-02-18T08:00:00\",\"2023-02-18T09:00:00\",\"2023-02-18T10:00:00\",\"2023-02-18T11:00:00\",\"2023-02-18T12:00:00\",\"2023-02-18T13:00:00\",\"2023-02-18T14:00:00\",\"2023-02-18T15:00:00\",\"2023-02-18T16:00:00\",\"2023-02-18T17:00:00\",\"2023-02-18T18:00:00\",\"2023-02-18T19:00:00\",\"2023-02-18T20:00:00\",\"2023-02-18T21:00:00\",\"2023-02-18T22:00:00\",\"2023-02-18T23:00:00\",\"2023-02-19T00:00:00\",\"2023-02-19T01:00:00\",\"2023-02-19T02:00:00\",\"2023-02-19T03:00:00\",\"2023-02-19T04:00:00\",\"2023-02-19T05:00:00\",\"2023-02-19T06:00:00\",\"2023-02-19T07:00:00\",\"2023-02-19T08:00:00\",\"2023-02-19T09:00:00\",\"2023-02-19T10:00:00\",\"2023-02-19T11:00:00\",\"2023-02-19T12:00:00\",\"2023-02-19T13:00:00\",\"2023-02-19T14:00:00\",\"2023-02-19T15:00:00\",\"2023-02-19T16:00:00\",\"2023-02-19T17:00:00\",\"2023-02-19T18:00:00\",\"2023-02-19T19:00:00\",\"2023-02-19T20:00:00\",\"2023-02-19T21:00:00\",\"2023-02-19T22:00:00\",\"2023-02-19T23:00:00\",\"2023-02-20T00:00:00\",\"2023-02-20T01:00:00\",\"2023-02-20T02:00:00\",\"2023-02-20T03:00:00\",\"2023-02-20T04:00:00\",\"2023-02-20T05:00:00\",\"2023-02-20T06:00:00\",\"2023-02-20T07:00:00\",\"2023-02-20T08:00:00\",\"2023-02-20T09:00:00\",\"2023-02-20T10:00:00\",\"2023-02-20T11:00:00\",\"2023-02-20T12:00:00\",\"2023-02-20T13:00:00\",\"2023-02-20T14:00:00\",\"2023-02-20T15:00:00\",\"2023-02-20T16:00:00\",\"2023-02-20T17:00:00\",\"2023-02-20T18:00:00\",\"2023-02-20T19:00:00\",\"2023-02-20T20:00:00\",\"2023-02-20T21:00:00\",\"2023-02-20T22:00:00\",\"2023-02-20T23:00:00\",\"2023-02-21T00:00:00\",\"2023-02-21T01:00:00\",\"2023-02-21T02:00:00\",\"2023-02-21T03:00:00\",\"2023-02-21T04:00:00\",\"2023-02-21T05:00:00\",\"2023-02-21T06:00:00\",\"2023-02-21T07:00:00\",\"2023-02-21T08:00:00\",\"2023-02-21T09:00:00\",\"2023-02-21T10:00:00\",\"2023-02-21T11:00:00\",\"2023-02-21T12:00:00\",\"2023-02-21T13:00:00\",\"2023-02-21T14:00:00\",\"2023-02-21T15:00:00\",\"2023-02-21T16:00:00\",\"2023-02-21T17:00:00\",\"2023-02-21T18:00:00\",\"2023-02-21T19:00:00\",\"2023-02-21T20:00:00\",\"2023-02-21T21:00:00\",\"2023-02-21T22:00:00\",\"2023-02-21T23:00:00\",\"2023-02-22T00:00:00\",\"2023-02-22T01:00:00\",\"2023-02-22T02:00:00\",\"2023-02-22T03:00:00\",\"2023-02-22T04:00:00\",\"2023-02-22T05:00:00\",\"2023-02-22T06:00:00\",\"2023-02-22T07:00:00\",\"2023-02-22T08:00:00\",\"2023-02-22T09:00:00\",\"2023-02-22T10:00:00\",\"2023-02-22T11:00:00\",\"2023-02-22T12:00:00\",\"2023-02-22T13:00:00\",\"2023-02-22T14:00:00\",\"2023-02-22T15:00:00\",\"2023-02-22T16:00:00\",\"2023-02-22T17:00:00\",\"2023-02-22T18:00:00\",\"2023-02-22T19:00:00\",\"2023-02-22T20:00:00\",\"2023-02-22T21:00:00\",\"2023-02-22T22:00:00\",\"2023-02-22T23:00:00\",\"2023-02-23T00:00:00\",\"2023-02-23T01:00:00\",\"2023-02-23T02:00:00\",\"2023-02-23T03:00:00\",\"2023-02-23T04:00:00\",\"2023-02-23T05:00:00\",\"2023-02-23T06:00:00\",\"2023-02-23T07:00:00\",\"2023-02-23T08:00:00\",\"2023-02-23T09:00:00\",\"2023-02-23T10:00:00\",\"2023-02-23T11:00:00\",\"2023-02-23T12:00:00\",\"2023-02-23T13:00:00\",\"2023-02-23T14:00:00\",\"2023-02-23T15:00:00\",\"2023-02-23T16:00:00\",\"2023-02-23T17:00:00\",\"2023-02-23T18:00:00\",\"2023-02-23T19:00:00\",\"2023-02-23T20:00:00\",\"2023-02-23T21:00:00\",\"2023-02-23T22:00:00\",\"2023-02-23T23:00:00\",\"2023-02-24T00:00:00\",\"2023-02-24T01:00:00\",\"2023-02-24T02:00:00\",\"2023-02-24T03:00:00\",\"2023-02-24T04:00:00\",\"2023-02-24T05:00:00\",\"2023-02-24T06:00:00\",\"2023-02-24T07:00:00\",\"2023-02-24T08:00:00\",\"2023-02-24T09:00:00\",\"2023-02-24T10:00:00\",\"2023-02-24T11:00:00\",\"2023-02-24T12:00:00\",\"2023-02-24T13:00:00\",\"2023-02-24T14:00:00\",\"2023-02-24T15:00:00\",\"2023-02-24T16:00:00\",\"2023-02-24T17:00:00\",\"2023-02-24T18:00:00\",\"2023-02-24T19:00:00\",\"2023-02-24T20:00:00\",\"2023-02-24T21:00:00\",\"2023-02-24T22:00:00\",\"2023-02-24T23:00:00\",\"2023-02-25T00:00:00\",\"2023-02-25T01:00:00\",\"2023-02-25T02:00:00\",\"2023-02-25T03:00:00\",\"2023-02-25T04:00:00\",\"2023-02-25T05:00:00\",\"2023-02-25T06:00:00\",\"2023-02-25T07:00:00\",\"2023-02-25T08:00:00\",\"2023-02-25T09:00:00\",\"2023-02-25T10:00:00\",\"2023-02-25T11:00:00\",\"2023-02-25T12:00:00\",\"2023-02-25T13:00:00\",\"2023-02-25T14:00:00\",\"2023-02-25T15:00:00\",\"2023-02-25T16:00:00\",\"2023-02-25T17:00:00\",\"2023-02-25T18:00:00\",\"2023-02-25T19:00:00\",\"2023-02-25T20:00:00\",\"2023-02-25T21:00:00\",\"2023-02-25T22:00:00\",\"2023-02-25T23:00:00\",\"2023-02-26T00:00:00\",\"2023-02-26T01:00:00\",\"2023-02-26T02:00:00\",\"2023-02-26T03:00:00\",\"2023-02-26T04:00:00\",\"2023-02-26T05:00:00\",\"2023-02-26T06:00:00\",\"2023-02-26T07:00:00\",\"2023-02-26T08:00:00\",\"2023-02-26T09:00:00\",\"2023-02-26T10:00:00\",\"2023-02-26T11:00:00\",\"2023-02-26T12:00:00\",\"2023-02-26T13:00:00\",\"2023-02-26T14:00:00\",\"2023-02-26T15:00:00\",\"2023-02-26T16:00:00\",\"2023-02-26T17:00:00\",\"2023-02-26T18:00:00\",\"2023-02-26T19:00:00\",\"2023-02-26T20:00:00\",\"2023-02-26T21:00:00\",\"2023-02-26T22:00:00\",\"2023-02-26T23:00:00\"],\"xaxis\":\"x\",\"y\":[15.480155944824219,15.251646041870117,15.568431854248047,15.828643798828125,15.19315242767334,15.69907283782959,15.738054275512695,15.481733322143555,15.304348945617676,15.57851505279541,15.229826927185059,14.995545387268066,12.715208053588867,10.920673370361328,11.595254898071289,12.726627349853516,12.260939598083496,12.081597328186035,12.790246963500977,11.745870590209961,12.442506790161133,12.23708724975586,12.796213150024414,12.199437141418457,13.344778060913086,13.227684020996094,12.689519882202148,14.245332717895508,13.308110237121582,12.959513664245605,13.724748611450195,13.316605567932129,12.957483291625977,13.343387603759766,14.406648635864258,13.781861305236816,19.319353103637695,19.462038040161133,19.821603775024414,18.491254806518555,18.701343536376953,19.38119125366211,18.632793426513672,18.987695693969727,19.220935821533203,18.888032913208008,17.968910217285156,18.63440704345703,16.29585838317871,17.116239547729492,16.462831497192383,16.48928451538086,16.141197204589844,16.067312240600586,16.131458282470703,16.42631721496582,15.910984992980957,16.262922286987305,16.538288116455078,16.73943328857422,19.76152801513672,20.791522979736328,20.83445167541504,19.14180564880371,19.27181053161621,20.14837074279785,19.124755859375,19.98624610900879,19.749608993530273,19.582237243652344,18.42420196533203,19.200284957885742,15.012557983398438,14.717425346374512,14.962247848510742,15.357824325561523,14.748861312866211,15.089568138122559,15.271976470947266,14.915891647338867,14.7554349899292,15.09222412109375,14.907920837402344,14.680516242980957,13.498088836669922,12.804043769836426,13.008821487426758,13.973203659057617,13.247644424438477,13.357933044433594,13.790504455566406,13.246395111083984,13.278958320617676,13.409096717834473,13.72014045715332,13.20592212677002,13.49522590637207,12.831456184387207,13.026227951049805,13.995465278625488,13.2528076171875,13.3740816116333,13.803733825683594,13.27245807647705,13.279711723327637,13.42536449432373,13.72977066040039,13.206931114196777,13.57272720336914,12.17514705657959,12.692773818969727,13.455244064331055,13.11819076538086,13.001626968383789,13.510871887207031,12.703802108764648,13.29504680633545,13.097702980041504,13.497217178344727,13.145167350769043,13.992364883422852,14.124092102050781,13.575553894042969,14.720807075500488,13.927178382873535,13.679301261901855,14.243969917297363,14.03026294708252,13.623405456542969,13.995140075683594,14.82120132446289,14.400444030761719,18.583749771118164,19.19378089904785,19.397985458374023,18.435760498046875,18.183786392211914,19.051361083984375,18.388572692871094,18.827707290649414,18.53156089782715,18.61150360107422,17.618642807006836,17.96833038330078,15.200922966003418,14.92111873626709,15.262245178222656,15.54238224029541,14.9166841506958,15.39719295501709,15.472482681274414,15.174909591674805,15.007349967956543,15.307719230651855,14.963698387145996,14.725735664367676,12.325145721435547,10.384597778320312,11.10572624206543,12.4099760055542,11.88149356842041,11.667431831359863,12.473560333251953,11.318525314331055,12.050451278686523,11.855326652526855,12.48914909362793,11.790496826171875,13.10654354095459,12.913033485412598,12.402610778808594,14.025136947631836,13.067411422729492,12.712262153625488,13.501529693603516,13.061346054077148,12.731759071350098,13.091110229492188,14.188606262207031,13.517062187194824,18.628070831298828,18.59988021850586,19.019086837768555,17.884618759155273,18.026153564453125,18.678125381469727,18.03355598449707,18.25711441040039,18.530811309814453,18.211021423339844,17.357881546020508,17.91517448425293,15.523176193237305,16.153491973876953,15.631070137023926,15.913703918457031,15.400250434875488,15.393413543701172,15.55643081665039,15.699432373046875,15.168721199035645,15.586982727050781,15.848939895629883,15.85435676574707,18.70456886291504,18.5954532623291,19.06426429748535,17.863508224487305,18.07033920288086,18.705846786499023,18.049118041992188,18.257993698120117,18.596323013305664,18.239215850830078,17.370929718017578,17.967527389526367,15.411968231201172,16.043861389160156,15.344968795776367,15.945876121520996,15.34615421295166,15.143122673034668,15.509400367736816,15.557228088378906,14.967071533203125,15.489234924316406,16.051143646240234,15.972761154174805,19.946502685546875,20.837156295776367,21.052993774414062,19.532581329345703,19.4752140045166,20.505659103393555,19.537391662597656,20.243406295776367,19.945531845092773,19.922433853149414,18.621047973632812,19.234058380126953,15.725215911865234,15.481694221496582,15.797136306762695,15.858677864074707,15.383532524108887,15.851790428161621,15.811216354370117,15.610321044921875,15.551346778869629,15.695021629333496,15.332052230834961,15.236363410949707,12.728813171386719,11.829854011535645,12.022594451904297,13.208905220031738,12.480278968811035,12.436652183532715,13.013246536254883,12.356372833251953,12.48957633972168,12.558860778808594,13.097159385681152,12.494906425476074,13.469161033630371,12.936753273010254,13.028586387634277,14.042566299438477,13.255800247192383,13.371499061584473,13.78361701965332,13.334623336791992,13.277508735656738,13.407889366149902,13.779212951660156,13.229889869689941,14.073620796203613,12.853570938110352,13.296093940734863,13.916017532348633,13.619444847106934,13.534168243408203,13.955877304077148,13.259588241577148,13.790066719055176,13.604928016662598,13.946390151977539,13.688448905944824,14.158815383911133,14.32839584350586,13.741228103637695,14.850249290466309,14.092397689819336,13.806877136230469,14.377477645874023,14.174217224121094,13.761861801147461,14.150971412658691,14.994979858398438,14.621429443359375,18.874502182006836,19.240798950195312,19.51421356201172,18.241666793823242,18.331872940063477,19.056447982788086,18.30373764038086,18.77223014831543,18.80044174194336,18.586362838745117,17.65692901611328,18.237878799438477,15.566359519958496,16.1370906829834,15.631715774536133,15.921420097351074,15.429752349853516,15.401204109191895,15.579184532165527,15.690009117126465,15.199625015258789,15.602002143859863,15.88199234008789,15.89707088470459,18.51551055908203,19.065412521362305,19.276304244995117,18.180665969848633,18.06648826599121,18.88236427307129,18.16905975341797,18.642349243164062,18.473791122436523,18.413314819335938,17.445093154907227,17.891626358032227,14.004161834716797,14.055286407470703,13.793426513671875,14.5777587890625,13.8902587890625,13.843199729919434,14.280000686645508,14.020663261413574,13.635149955749512,14.104034423828125,14.484457015991211,14.196076393127441,16.282310485839844,15.683666229248047,16.160097122192383,15.895820617675781,15.766304016113281,16.13129425048828,15.990119934082031,15.768156051635742,16.107202529907227,15.90978717803955,15.562786102294922,15.680005073547363,14.574408531188965,14.82466983795166,14.304731369018555,15.256092071533203,14.52187728881836,14.295588493347168,14.86796760559082,14.615386009216309,14.092364311218262,14.713183403015137,15.333274841308594,15.060681343078613,19.767192840576172,20.14960479736328,20.415626525878906,18.91145133972168,19.158445358276367,19.8759822845459,19.02161979675293,19.538097381591797,19.682748794555664,19.354074478149414,18.37167739868164,19.12387466430664,16.72762107849121,17.60292625427246,17.18033218383789,16.62233543395996,16.46722412109375,16.68573570251465,16.38184356689453,16.887331008911133,16.49186897277832,16.61802101135254,16.436464309692383,16.83111000061035,18.351537704467773,18.83407211303711,19.089599609375,18.24164390563965,17.954490661621094,18.800643920898438,18.213054656982422,18.547277450561523,18.27722930908203,18.39409828186035,17.43036651611328,17.726642608642578,14.090766906738281,13.437346458435059,13.775250434875488,14.478612899780273,13.815946578979492,14.056462287902832,14.400416374206543,13.844278335571289,13.839461326599121,14.091593742370605,14.10240650177002,13.71252155303955,12.660884857177734,11.545858383178711,11.891059875488281,13.21855354309082,12.399450302124023,12.423404693603516,13.054170608520508,12.253593444824219,12.437496185302734,12.52504825592041,13.018433570861816,12.298115730285645,13.066228866577148,12.386000633239746,12.489022254943848,13.663174629211426,12.85700798034668,12.883525848388672,13.407339096069336,12.851629257202148,12.844402313232422,12.981677055358887,13.47639274597168,12.865105628967285,14.165761947631836,13.146244049072266,13.509566307067871,14.060872077941895,13.741569519042969,13.710339546203613,14.067266464233398,13.46963119506836,13.900407791137695,13.751983642578125,14.033417701721191,13.811415672302246,14.307483673095703,14.432546615600586,13.978123664855957,14.921838760375977,14.20217514038086,14.043128967285156,14.505147933959961,14.32443904876709,13.960083961486816,14.295831680297852,14.952470779418945,14.614335060119629,18.58260154724121,18.545391082763672,18.904245376586914,17.928606033325195,18.011791229248047,18.58382225036621,18.046306610107422,18.211759567260742,18.431798934936523,18.20429801940918,17.469072341918945,17.972299575805664,16.7448787689209,17.765789031982422,17.083600997924805,16.90180206298828,16.589801788330078,16.599708557128906,16.54003143310547,16.975740432739258,16.38511085510254,16.74629020690918,16.88484001159668,17.170230865478516,19.46377182006836,19.91996192932129,20.234636306762695,18.951927185058594,18.936279296875,19.818208694458008,19.002721786499023,19.478490829467773,19.429931640625,19.27279281616211,18.188373565673828,18.729719161987305,16.127281188964844,16.1916446685791,16.1341552734375,16.14952850341797,15.8147611618042,16.001787185668945,16.00575065612793,15.97280502319336,15.854170799255371,15.982922554016113,15.939722061157227,16.015108108520508,17.307262420654297,17.38787841796875,17.45912742614746,16.710676193237305,16.81859588623047,17.079912185668945,16.733318328857422,16.92337989807129,17.07732582092285,16.888717651367188,16.54290008544922,17.033727645874023,15.886632919311523,16.503231048583984,15.928064346313477,15.972902297973633,15.681443214416504,15.589109420776367,15.634481430053711,15.900968551635742,15.555340766906738,15.717877388000488,16.05573081970215,16.2311954498291,18.297327041625977,18.49243927001953,18.584064483642578,17.396808624267578,17.7114315032959,18.08098030090332,17.45690155029297,17.86467933654785,18.156070709228516,17.70462989807129,17.188982009887695,17.891691207885742,15.35230541229248,15.782736778259277,15.185585021972656,15.789264678955078,15.220826148986816,15.064223289489746,15.358455657958984,15.405224800109863,15.000758171081543,15.279427528381348,15.868857383728027,15.744088172912598,20.612567901611328,21.70164680480957,21.870548248291016,19.884647369384766,20.07657241821289,21.125322341918945,19.941394805908203,20.862991333007812,20.626981735229492,20.465736389160156,19.01833152770996,19.904714584350586,15.318611145019531,14.989968299865723,15.282772064208984,15.615395545959473,15.02458667755127,15.418411254882812,15.541205406188965,15.204421997070312,15.093082427978516,15.361014366149902,15.125930786132812,14.90991497039795,13.460179328918457,12.77190113067627,12.941481590270996,13.897843360900879,13.206326484680176,13.268754005432129,13.711134910583496,13.178661346435547,13.229619979858398,13.337482452392578,13.699087142944336,13.209259986877441,13.847692489624023,13.407760620117188,13.527180671691895,14.351053237915039,13.622761726379395,13.795498847961426,14.135004043579102,13.735514640808105,13.640090942382812,13.824014663696289,14.044777870178223,13.593550682067871,13.922222137451172,12.60002613067627,13.13702392578125,13.939119338989258,13.490622520446777,13.497832298278809,13.970027923583984,13.17149543762207,13.661771774291992,13.548858642578125,13.84475326538086,13.4409761428833],\"yaxis\":\"y\",\"type\":\"scatter\"}],                        {\"template\":{\"data\":{\"histogram2dcontour\":[{\"type\":\"histogram2dcontour\",\"colorbar\":{\"outlinewidth\":0,\"ticks\":\"\"},\"colorscale\":[[0.0,\"#0d0887\"],[0.1111111111111111,\"#46039f\"],[0.2222222222222222,\"#7201a8\"],[0.3333333333333333,\"#9c179e\"],[0.4444444444444444,\"#bd3786\"],[0.5555555555555556,\"#d8576b\"],[0.6666666666666666,\"#ed7953\"],[0.7777777777777778,\"#fb9f3a\"],[0.8888888888888888,\"#fdca26\"],[1.0,\"#f0f921\"]]}],\"choropleth\":[{\"type\":\"choropleth\",\"colorbar\":{\"outlinewidth\":0,\"ticks\":\"\"}}],\"histogram2d\":[{\"type\":\"histogram2d\",\"colorbar\":{\"outlinewidth\":0,\"ticks\":\"\"},\"colorscale\":[[0.0,\"#0d0887\"],[0.1111111111111111,\"#46039f\"],[0.2222222222222222,\"#7201a8\"],[0.3333333333333333,\"#9c179e\"],[0.4444444444444444,\"#bd3786\"],[0.5555555555555556,\"#d8576b\"],[0.6666666666666666,\"#ed7953\"],[0.7777777777777778,\"#fb9f3a\"],[0.8888888888888888,\"#fdca26\"],[1.0,\"#f0f921\"]]}],\"heatmap\":[{\"type\":\"heatmap\",\"colorbar\":{\"outlinewidth\":0,\"ticks\":\"\"},\"colorscale\":[[0.0,\"#0d0887\"],[0.1111111111111111,\"#46039f\"],[0.2222222222222222,\"#7201a8\"],[0.3333333333333333,\"#9c179e\"],[0.4444444444444444,\"#bd3786\"],[0.5555555555555556,\"#d8576b\"],[0.6666666666666666,\"#ed7953\"],[0.7777777777777778,\"#fb9f3a\"],[0.8888888888888888,\"#fdca26\"],[1.0,\"#f0f921\"]]}],\"heatmapgl\":[{\"type\":\"heatmapgl\",\"colorbar\":{\"outlinewidth\":0,\"ticks\":\"\"},\"colorscale\":[[0.0,\"#0d0887\"],[0.1111111111111111,\"#46039f\"],[0.2222222222222222,\"#7201a8\"],[0.3333333333333333,\"#9c179e\"],[0.4444444444444444,\"#bd3786\"],[0.5555555555555556,\"#d8576b\"],[0.6666666666666666,\"#ed7953\"],[0.7777777777777778,\"#fb9f3a\"],[0.8888888888888888,\"#fdca26\"],[1.0,\"#f0f921\"]]}],\"contourcarpet\":[{\"type\":\"contourcarpet\",\"colorbar\":{\"outlinewidth\":0,\"ticks\":\"\"}}],\"contour\":[{\"type\":\"contour\",\"colorbar\":{\"outlinewidth\":0,\"ticks\":\"\"},\"colorscale\":[[0.0,\"#0d0887\"],[0.1111111111111111,\"#46039f\"],[0.2222222222222222,\"#7201a8\"],[0.3333333333333333,\"#9c179e\"],[0.4444444444444444,\"#bd3786\"],[0.5555555555555556,\"#d8576b\"],[0.6666666666666666,\"#ed7953\"],[0.7777777777777778,\"#fb9f3a\"],[0.8888888888888888,\"#fdca26\"],[1.0,\"#f0f921\"]]}],\"surface\":[{\"type\":\"surface\",\"colorbar\":{\"outlinewidth\":0,\"ticks\":\"\"},\"colorscale\":[[0.0,\"#0d0887\"],[0.1111111111111111,\"#46039f\"],[0.2222222222222222,\"#7201a8\"],[0.3333333333333333,\"#9c179e\"],[0.4444444444444444,\"#bd3786\"],[0.5555555555555556,\"#d8576b\"],[0.6666666666666666,\"#ed7953\"],[0.7777777777777778,\"#fb9f3a\"],[0.8888888888888888,\"#fdca26\"],[1.0,\"#f0f921\"]]}],\"mesh3d\":[{\"type\":\"mesh3d\",\"colorbar\":{\"outlinewidth\":0,\"ticks\":\"\"}}],\"scatter\":[{\"fillpattern\":{\"fillmode\":\"overlay\",\"size\":10,\"solidity\":0.2},\"type\":\"scatter\"}],\"parcoords\":[{\"type\":\"parcoords\",\"line\":{\"colorbar\":{\"outlinewidth\":0,\"ticks\":\"\"}}}],\"scatterpolargl\":[{\"type\":\"scatterpolargl\",\"marker\":{\"colorbar\":{\"outlinewidth\":0,\"ticks\":\"\"}}}],\"bar\":[{\"error_x\":{\"color\":\"#2a3f5f\"},\"error_y\":{\"color\":\"#2a3f5f\"},\"marker\":{\"line\":{\"color\":\"#E5ECF6\",\"width\":0.5},\"pattern\":{\"fillmode\":\"overlay\",\"size\":10,\"solidity\":0.2}},\"type\":\"bar\"}],\"scattergeo\":[{\"type\":\"scattergeo\",\"marker\":{\"colorbar\":{\"outlinewidth\":0,\"ticks\":\"\"}}}],\"scatterpolar\":[{\"type\":\"scatterpolar\",\"marker\":{\"colorbar\":{\"outlinewidth\":0,\"ticks\":\"\"}}}],\"histogram\":[{\"marker\":{\"pattern\":{\"fillmode\":\"overlay\",\"size\":10,\"solidity\":0.2}},\"type\":\"histogram\"}],\"scattergl\":[{\"type\":\"scattergl\",\"marker\":{\"colorbar\":{\"outlinewidth\":0,\"ticks\":\"\"}}}],\"scatter3d\":[{\"type\":\"scatter3d\",\"line\":{\"colorbar\":{\"outlinewidth\":0,\"ticks\":\"\"}},\"marker\":{\"colorbar\":{\"outlinewidth\":0,\"ticks\":\"\"}}}],\"scattermapbox\":[{\"type\":\"scattermapbox\",\"marker\":{\"colorbar\":{\"outlinewidth\":0,\"ticks\":\"\"}}}],\"scatterternary\":[{\"type\":\"scatterternary\",\"marker\":{\"colorbar\":{\"outlinewidth\":0,\"ticks\":\"\"}}}],\"scattercarpet\":[{\"type\":\"scattercarpet\",\"marker\":{\"colorbar\":{\"outlinewidth\":0,\"ticks\":\"\"}}}],\"carpet\":[{\"aaxis\":{\"endlinecolor\":\"#2a3f5f\",\"gridcolor\":\"white\",\"linecolor\":\"white\",\"minorgridcolor\":\"white\",\"startlinecolor\":\"#2a3f5f\"},\"baxis\":{\"endlinecolor\":\"#2a3f5f\",\"gridcolor\":\"white\",\"linecolor\":\"white\",\"minorgridcolor\":\"white\",\"startlinecolor\":\"#2a3f5f\"},\"type\":\"carpet\"}],\"table\":[{\"cells\":{\"fill\":{\"color\":\"#EBF0F8\"},\"line\":{\"color\":\"white\"}},\"header\":{\"fill\":{\"color\":\"#C8D4E3\"},\"line\":{\"color\":\"white\"}},\"type\":\"table\"}],\"barpolar\":[{\"marker\":{\"line\":{\"color\":\"#E5ECF6\",\"width\":0.5},\"pattern\":{\"fillmode\":\"overlay\",\"size\":10,\"solidity\":0.2}},\"type\":\"barpolar\"}],\"pie\":[{\"automargin\":true,\"type\":\"pie\"}]},\"layout\":{\"autotypenumbers\":\"strict\",\"colorway\":[\"#636efa\",\"#EF553B\",\"#00cc96\",\"#ab63fa\",\"#FFA15A\",\"#19d3f3\",\"#FF6692\",\"#B6E880\",\"#FF97FF\",\"#FECB52\"],\"font\":{\"color\":\"#2a3f5f\"},\"hovermode\":\"closest\",\"hoverlabel\":{\"align\":\"left\"},\"paper_bgcolor\":\"white\",\"plot_bgcolor\":\"#E5ECF6\",\"polar\":{\"bgcolor\":\"#E5ECF6\",\"angularaxis\":{\"gridcolor\":\"white\",\"linecolor\":\"white\",\"ticks\":\"\"},\"radialaxis\":{\"gridcolor\":\"white\",\"linecolor\":\"white\",\"ticks\":\"\"}},\"ternary\":{\"bgcolor\":\"#E5ECF6\",\"aaxis\":{\"gridcolor\":\"white\",\"linecolor\":\"white\",\"ticks\":\"\"},\"baxis\":{\"gridcolor\":\"white\",\"linecolor\":\"white\",\"ticks\":\"\"},\"caxis\":{\"gridcolor\":\"white\",\"linecolor\":\"white\",\"ticks\":\"\"}},\"coloraxis\":{\"colorbar\":{\"outlinewidth\":0,\"ticks\":\"\"}},\"colorscale\":{\"sequential\":[[0.0,\"#0d0887\"],[0.1111111111111111,\"#46039f\"],[0.2222222222222222,\"#7201a8\"],[0.3333333333333333,\"#9c179e\"],[0.4444444444444444,\"#bd3786\"],[0.5555555555555556,\"#d8576b\"],[0.6666666666666666,\"#ed7953\"],[0.7777777777777778,\"#fb9f3a\"],[0.8888888888888888,\"#fdca26\"],[1.0,\"#f0f921\"]],\"sequentialminus\":[[0.0,\"#0d0887\"],[0.1111111111111111,\"#46039f\"],[0.2222222222222222,\"#7201a8\"],[0.3333333333333333,\"#9c179e\"],[0.4444444444444444,\"#bd3786\"],[0.5555555555555556,\"#d8576b\"],[0.6666666666666666,\"#ed7953\"],[0.7777777777777778,\"#fb9f3a\"],[0.8888888888888888,\"#fdca26\"],[1.0,\"#f0f921\"]],\"diverging\":[[0,\"#8e0152\"],[0.1,\"#c51b7d\"],[0.2,\"#de77ae\"],[0.3,\"#f1b6da\"],[0.4,\"#fde0ef\"],[0.5,\"#f7f7f7\"],[0.6,\"#e6f5d0\"],[0.7,\"#b8e186\"],[0.8,\"#7fbc41\"],[0.9,\"#4d9221\"],[1,\"#276419\"]]},\"xaxis\":{\"gridcolor\":\"white\",\"linecolor\":\"white\",\"ticks\":\"\",\"title\":{\"standoff\":15},\"zerolinecolor\":\"white\",\"automargin\":true,\"zerolinewidth\":2},\"yaxis\":{\"gridcolor\":\"white\",\"linecolor\":\"white\",\"ticks\":\"\",\"title\":{\"standoff\":15},\"zerolinecolor\":\"white\",\"automargin\":true,\"zerolinewidth\":2},\"scene\":{\"xaxis\":{\"backgroundcolor\":\"#E5ECF6\",\"gridcolor\":\"white\",\"linecolor\":\"white\",\"showbackground\":true,\"ticks\":\"\",\"zerolinecolor\":\"white\",\"gridwidth\":2},\"yaxis\":{\"backgroundcolor\":\"#E5ECF6\",\"gridcolor\":\"white\",\"linecolor\":\"white\",\"showbackground\":true,\"ticks\":\"\",\"zerolinecolor\":\"white\",\"gridwidth\":2},\"zaxis\":{\"backgroundcolor\":\"#E5ECF6\",\"gridcolor\":\"white\",\"linecolor\":\"white\",\"showbackground\":true,\"ticks\":\"\",\"zerolinecolor\":\"white\",\"gridwidth\":2}},\"shapedefaults\":{\"line\":{\"color\":\"#2a3f5f\"}},\"annotationdefaults\":{\"arrowcolor\":\"#2a3f5f\",\"arrowhead\":0,\"arrowwidth\":1},\"geo\":{\"bgcolor\":\"white\",\"landcolor\":\"#E5ECF6\",\"subunitcolor\":\"white\",\"showland\":true,\"showlakes\":true,\"lakecolor\":\"white\"},\"title\":{\"x\":0.05},\"mapbox\":{\"style\":\"light\"}}}},                        {\"responsive\": true}                    ).then(function(){\n",
              "                            \n",
              "var gd = document.getElementById('69e5ed01-036e-418c-a0eb-260d662e31d0');\n",
              "var x = new MutationObserver(function (mutations, observer) {{\n",
              "        var display = window.getComputedStyle(gd).display;\n",
              "        if (!display || display === 'none') {{\n",
              "            console.log([gd, 'removed!']);\n",
              "            Plotly.purge(gd);\n",
              "            observer.disconnect();\n",
              "        }}\n",
              "}});\n",
              "\n",
              "// Listen for the removal of the full notebook cells\n",
              "var notebookContainer = gd.closest('#notebook-container');\n",
              "if (notebookContainer) {{\n",
              "    x.observe(notebookContainer, {childList: true});\n",
              "}}\n",
              "\n",
              "// Listen for the clearing of the current output cell\n",
              "var outputEl = gd.closest('.output');\n",
              "if (outputEl) {{\n",
              "    x.observe(outputEl, {childList: true});\n",
              "}}\n",
              "\n",
              "                        })                };                            </script>        </div>\n",
              "</body>\n",
              "</html>"
            ]
          },
          "metadata": {}
        }
      ]
    }
  ],
  "metadata": {
    "kernelspec": {
      "display_name": "Python 3 (ipykernel)",
      "language": "python",
      "name": "python3"
    },
    "language_info": {
      "codemirror_mode": {
        "name": "ipython",
        "version": 3
      },
      "file_extension": ".py",
      "mimetype": "text/x-python",
      "name": "python",
      "nbconvert_exporter": "python",
      "pygments_lexer": "ipython3",
      "version": "3.9.13"
    },
    "colab": {
      "provenance": []
    }
  },
  "nbformat": 4,
  "nbformat_minor": 5
}